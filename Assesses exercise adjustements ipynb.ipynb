{
 "cells": [
  {
   "cell_type": "markdown",
   "metadata": {},
   "source": [
    "# Assested Exercise\n",
    "\n",
    "### Student: Damiano Franzò\n",
    "\n",
    "The Notebook is divided in the following sections:\n",
    "- [0. Environment Setup](#0.-Environment-Setup)\n",
    "- [1. Dataset Setup](#1.-Dataset-Setup) \n",
    "- [2. Distribution Analysis](#2.-Distribution-Analysis)\n",
    "- [3. Bayesian Linear Regression](#3.-Bayesian-Linear-Regression)\n",
    "    - [3.a Bayesian linear regression Implementation](#3.a-Bayesian-linear-regression-Implementation)\n",
    "    - [3.b Gaussian Prior Parameters choice](#3.b-Gaussian-Prior-Parameters-choice)\n",
    "    - [3.c Nth order polynomial](#3.c-Nth-order-polynomial)\n",
    "    - [3.d Data Preprocessing](#3.d-Data-Preprocessing)\n",
    "    - [3.e Treat data as continuous](#3.e-Treat-data-as-continuous)\n",
    "    - [3.f Discretize Predictions](#3.f-Discretize-Predictions)\n",
    "    - [3.g Comparison vs Random Classifier](#3.g-Comparison-vs-Random-Classifier)\n",
    "- [4. Logistic Regression](#4.-Logistic-Regression)\n",
    "    - [4.a Bayesian Logistic Regression](#4.a-Bayesian-Logistic-Regression)\n",
    "    - [4.b Gradient Descent](#4.b Gradient Descent)\n",
    "    - [4.c Convexity of the problem](#4.c-Convexity-of-the-problem)\n",
    "    - [4.d Comparison with Bayesian Linear Regression Classifier](#4.d-Comparison-with-Bayesian-Linear-Regression-Classifier)\n",
    "    - [4.e Laplace Approximation](#4.e-Laplace-Approximation)\n",
    "- [5. Bonus Question](#5.-Bonus-Question)\n",
    "- [Addictional test with ADAM](#Addictional-test-with-ADAM)"
   ]
  },
  {
   "cell_type": "markdown",
   "metadata": {},
   "source": [
    "### 0. Environment Setup\n",
    "Import of used libraries, modules and functions"
   ]
  },
  {
   "cell_type": "code",
   "execution_count": 314,
   "metadata": {},
   "outputs": [],
   "source": [
    "import numpy as np\n",
    "import pandas as pd\n",
    "import seaborn as sns\n",
    "import matplotlib.pyplot as plt\n",
    "import seaborn as sns\n",
    "import torch\n",
    "\n",
    "from copy import deepcopy\n",
    "\n",
    "from sklearn.model_selection import train_test_split\n",
    "from sklearn.metrics import f1_score, accuracy_score"
   ]
  },
  {
   "cell_type": "markdown",
   "metadata": {},
   "source": [
    "### 1. Dataset Setup"
   ]
  },
  {
   "cell_type": "code",
   "execution_count": 2,
   "metadata": {},
   "outputs": [],
   "source": [
    "# read the csv dataset\n",
    "df = pd.read_csv('./train.csv')"
   ]
  },
  {
   "cell_type": "code",
   "execution_count": 3,
   "metadata": {},
   "outputs": [
    {
     "data": {
      "text/html": [
       "<div>\n",
       "<style scoped>\n",
       "    .dataframe tbody tr th:only-of-type {\n",
       "        vertical-align: middle;\n",
       "    }\n",
       "\n",
       "    .dataframe tbody tr th {\n",
       "        vertical-align: top;\n",
       "    }\n",
       "\n",
       "    .dataframe thead th {\n",
       "        text-align: right;\n",
       "    }\n",
       "</style>\n",
       "<table border=\"1\" class=\"dataframe\">\n",
       "  <thead>\n",
       "    <tr style=\"text-align: right;\">\n",
       "      <th></th>\n",
       "      <th>ID_code</th>\n",
       "      <th>target</th>\n",
       "      <th>var_0</th>\n",
       "      <th>var_1</th>\n",
       "      <th>var_2</th>\n",
       "      <th>var_3</th>\n",
       "      <th>var_4</th>\n",
       "      <th>var_5</th>\n",
       "      <th>var_6</th>\n",
       "      <th>var_7</th>\n",
       "      <th>...</th>\n",
       "      <th>var_190</th>\n",
       "      <th>var_191</th>\n",
       "      <th>var_192</th>\n",
       "      <th>var_193</th>\n",
       "      <th>var_194</th>\n",
       "      <th>var_195</th>\n",
       "      <th>var_196</th>\n",
       "      <th>var_197</th>\n",
       "      <th>var_198</th>\n",
       "      <th>var_199</th>\n",
       "    </tr>\n",
       "  </thead>\n",
       "  <tbody>\n",
       "    <tr>\n",
       "      <th>0</th>\n",
       "      <td>train_0</td>\n",
       "      <td>0</td>\n",
       "      <td>8.9255</td>\n",
       "      <td>-6.7863</td>\n",
       "      <td>11.9081</td>\n",
       "      <td>5.0930</td>\n",
       "      <td>11.4607</td>\n",
       "      <td>-9.2834</td>\n",
       "      <td>5.1187</td>\n",
       "      <td>18.6266</td>\n",
       "      <td>...</td>\n",
       "      <td>4.4354</td>\n",
       "      <td>3.9642</td>\n",
       "      <td>3.1364</td>\n",
       "      <td>1.6910</td>\n",
       "      <td>18.5227</td>\n",
       "      <td>-2.3978</td>\n",
       "      <td>7.8784</td>\n",
       "      <td>8.5635</td>\n",
       "      <td>12.7803</td>\n",
       "      <td>-1.0914</td>\n",
       "    </tr>\n",
       "    <tr>\n",
       "      <th>1</th>\n",
       "      <td>train_1</td>\n",
       "      <td>0</td>\n",
       "      <td>11.5006</td>\n",
       "      <td>-4.1473</td>\n",
       "      <td>13.8588</td>\n",
       "      <td>5.3890</td>\n",
       "      <td>12.3622</td>\n",
       "      <td>7.0433</td>\n",
       "      <td>5.6208</td>\n",
       "      <td>16.5338</td>\n",
       "      <td>...</td>\n",
       "      <td>7.6421</td>\n",
       "      <td>7.7214</td>\n",
       "      <td>2.5837</td>\n",
       "      <td>10.9516</td>\n",
       "      <td>15.4305</td>\n",
       "      <td>2.0339</td>\n",
       "      <td>8.1267</td>\n",
       "      <td>8.7889</td>\n",
       "      <td>18.3560</td>\n",
       "      <td>1.9518</td>\n",
       "    </tr>\n",
       "    <tr>\n",
       "      <th>2</th>\n",
       "      <td>train_2</td>\n",
       "      <td>0</td>\n",
       "      <td>8.6093</td>\n",
       "      <td>-2.7457</td>\n",
       "      <td>12.0805</td>\n",
       "      <td>7.8928</td>\n",
       "      <td>10.5825</td>\n",
       "      <td>-9.0837</td>\n",
       "      <td>6.9427</td>\n",
       "      <td>14.6155</td>\n",
       "      <td>...</td>\n",
       "      <td>2.9057</td>\n",
       "      <td>9.7905</td>\n",
       "      <td>1.6704</td>\n",
       "      <td>1.6858</td>\n",
       "      <td>21.6042</td>\n",
       "      <td>3.1417</td>\n",
       "      <td>-6.5213</td>\n",
       "      <td>8.2675</td>\n",
       "      <td>14.7222</td>\n",
       "      <td>0.3965</td>\n",
       "    </tr>\n",
       "    <tr>\n",
       "      <th>3</th>\n",
       "      <td>train_3</td>\n",
       "      <td>0</td>\n",
       "      <td>11.0604</td>\n",
       "      <td>-2.1518</td>\n",
       "      <td>8.9522</td>\n",
       "      <td>7.1957</td>\n",
       "      <td>12.5846</td>\n",
       "      <td>-1.8361</td>\n",
       "      <td>5.8428</td>\n",
       "      <td>14.9250</td>\n",
       "      <td>...</td>\n",
       "      <td>4.4666</td>\n",
       "      <td>4.7433</td>\n",
       "      <td>0.7178</td>\n",
       "      <td>1.4214</td>\n",
       "      <td>23.0347</td>\n",
       "      <td>-1.2706</td>\n",
       "      <td>-2.9275</td>\n",
       "      <td>10.2922</td>\n",
       "      <td>17.9697</td>\n",
       "      <td>-8.9996</td>\n",
       "    </tr>\n",
       "    <tr>\n",
       "      <th>4</th>\n",
       "      <td>train_4</td>\n",
       "      <td>0</td>\n",
       "      <td>9.8369</td>\n",
       "      <td>-1.4834</td>\n",
       "      <td>12.8746</td>\n",
       "      <td>6.6375</td>\n",
       "      <td>12.2772</td>\n",
       "      <td>2.4486</td>\n",
       "      <td>5.9405</td>\n",
       "      <td>19.2514</td>\n",
       "      <td>...</td>\n",
       "      <td>-1.4905</td>\n",
       "      <td>9.5214</td>\n",
       "      <td>-0.1508</td>\n",
       "      <td>9.1942</td>\n",
       "      <td>13.2876</td>\n",
       "      <td>-1.5121</td>\n",
       "      <td>3.9267</td>\n",
       "      <td>9.5031</td>\n",
       "      <td>17.9974</td>\n",
       "      <td>-8.8104</td>\n",
       "    </tr>\n",
       "  </tbody>\n",
       "</table>\n",
       "<p>5 rows × 202 columns</p>\n",
       "</div>"
      ],
      "text/plain": [
       "   ID_code  target    var_0   var_1    var_2   var_3    var_4   var_5   var_6  \\\n",
       "0  train_0       0   8.9255 -6.7863  11.9081  5.0930  11.4607 -9.2834  5.1187   \n",
       "1  train_1       0  11.5006 -4.1473  13.8588  5.3890  12.3622  7.0433  5.6208   \n",
       "2  train_2       0   8.6093 -2.7457  12.0805  7.8928  10.5825 -9.0837  6.9427   \n",
       "3  train_3       0  11.0604 -2.1518   8.9522  7.1957  12.5846 -1.8361  5.8428   \n",
       "4  train_4       0   9.8369 -1.4834  12.8746  6.6375  12.2772  2.4486  5.9405   \n",
       "\n",
       "     var_7   ...     var_190  var_191  var_192  var_193  var_194  var_195  \\\n",
       "0  18.6266   ...      4.4354   3.9642   3.1364   1.6910  18.5227  -2.3978   \n",
       "1  16.5338   ...      7.6421   7.7214   2.5837  10.9516  15.4305   2.0339   \n",
       "2  14.6155   ...      2.9057   9.7905   1.6704   1.6858  21.6042   3.1417   \n",
       "3  14.9250   ...      4.4666   4.7433   0.7178   1.4214  23.0347  -1.2706   \n",
       "4  19.2514   ...     -1.4905   9.5214  -0.1508   9.1942  13.2876  -1.5121   \n",
       "\n",
       "   var_196  var_197  var_198  var_199  \n",
       "0   7.8784   8.5635  12.7803  -1.0914  \n",
       "1   8.1267   8.7889  18.3560   1.9518  \n",
       "2  -6.5213   8.2675  14.7222   0.3965  \n",
       "3  -2.9275  10.2922  17.9697  -8.9996  \n",
       "4   3.9267   9.5031  17.9974  -8.8104  \n",
       "\n",
       "[5 rows x 202 columns]"
      ]
     },
     "execution_count": 3,
     "metadata": {},
     "output_type": "execute_result"
    }
   ],
   "source": [
    "# Visualizing some rows of the dataset\n",
    "df.head()"
   ]
  },
  {
   "cell_type": "code",
   "execution_count": 4,
   "metadata": {},
   "outputs": [],
   "source": [
    "df = df.set_index('ID_code')\n",
    "# it is the label indicating wheter the sample is a fraud or not\n",
    "y = df['target']\n",
    "X = df.drop(['target'], axis=1)"
   ]
  },
  {
   "cell_type": "code",
   "execution_count": 6,
   "metadata": {},
   "outputs": [],
   "source": [
    "# Stratify option assures that the proportion of 0 and 1 are mantained the same between test and train dataset\n",
    "# this option is extremely useful dealing imbalanced dataset\n",
    "X_train_df, X_test_df, y_train_df, y_test_df = train_test_split(X, y, test_size=0.5, stratify=y, random_state=0)"
   ]
  },
  {
   "cell_type": "markdown",
   "metadata": {},
   "source": [
    "### 2. Distribution Analysis\n",
    "Below is displayed the distribution of labels within the dataset."
   ]
  },
  {
   "cell_type": "code",
   "execution_count": 7,
   "metadata": {},
   "outputs": [
    {
     "data": {
      "image/png": "[encoded data removed]",
      "text/plain": [
       "<Figure size 936x216 with 1 Axes>"
      ]
     },
     "metadata": {},
     "output_type": "display_data"
    }
   ],
   "source": [
    "fig, ax = plt.subplots(figsize=(13, 3))\n",
    "\n",
    "# TR the count is computed automatically\n",
    "g = sns.countplot(x='target', data=df)\n",
    "\n",
    "plt.show()"
   ]
  },
  {
   "cell_type": "markdown",
   "metadata": {},
   "source": [
    "Is it possible to notice that the dataset is clearly imbalanced. Without the proper adjustements some of machine learning models could be biases toward the classification of *0* respect to *1*.  \n",
    "In addiction to that, a proper consideration has to be done on the choice of evaluation metrics since the *accuracy* is not completely reliable. \n",
    "A dummy classifier can classify every sample with label *0* getting ~90% accuracy, but this does not imply it is a smart classifier. On the other hand, two interesting metrics can be *f1_score (macro)* and *f1_score (binary on the worst case)*."
   ]
  },
  {
   "cell_type": "markdown",
   "metadata": {},
   "source": [
    "### 3. Bayesian Linear Regression"
   ]
  },
  {
   "cell_type": "code",
   "execution_count": 405,
   "metadata": {},
   "outputs": [],
   "source": [
    "# The dataframe is transformed into a numpy.matrix\n",
    "X_train, X_test = np.matrix(X_train_df.values), np.matrix(X_test_df.values)\n",
    "y_train, y_test = np.matrix(y_train_df).T, np.matrix(y_test_df).T"
   ]
  },
  {
   "cell_type": "markdown",
   "metadata": {},
   "source": [
    "#### 3.a Bayesian linear regression Implementation\n",
    "Above there is a recap on Bayesian Linear regression related formulas.  \n",
    "The method names are as much as possible coherent with their meaning in the context of the implementation of the formulas."
   ]
  },
  {
   "cell_type": "markdown",
   "metadata": {},
   "source": [
    "#### Recap of some formulas\n",
    "\n",
    "##### Prior\n",
    "$p(w) = \\mathcal{N}(0, S)$\n",
    "\n",
    "\n",
    "##### Parameters\n",
    "$ \\hat{w} = (X^tX)^{-1} X^Tt$  \n",
    "$ \\hat{\\sigma^2} = \\frac{1}{N}(t - Xw)^T(t - Xw) $  \n",
    "\n",
    "$\\Sigma = (\\frac{1}{\\sigma^2} X^{\\intercal}X + S^{-1})^{-1}$       \n",
    "$\\mu = \\frac{1}{\\sigma^2} \\Sigma X^{\\intercal}t$  \n",
    "##### Posterior\n",
    "$p(w| X,t,\\sigma^2) = \\mathcal{N}(\\mu,\\Sigma)$\n",
    "\n",
    "##### Prediction, density function\n",
    "$p(t_{new}| X, t, x_{new}, \\sigma^2) = \\mathcal{N}(x_{new}^T \\mu, \\sigma^2 +  x_{new}^T \\Sigma  x_{new})$"
   ]
  },
  {
   "cell_type": "code",
   "execution_count": 70,
   "metadata": {},
   "outputs": [],
   "source": [
    "# Utility functions used for the Bayesian Linear Regression\n",
    "def get_w_hat(X, t):\n",
    "    xt_x_minus_one = np.linalg.inv(np.dot(X.T, X))\n",
    "    xt_t = np.dot(X.T, t)\n",
    "    w_hat = np.dot(xt_x_minus_one, xt_t)\n",
    "    return w_hat\n",
    "\n",
    "def get_sigma_hat(w, X, t, N):\n",
    "    X_w = np.dot(X, w)\n",
    "    t_minus_X_w = (t - X_w)\n",
    "    sigma_hat = (1. / N) * np.dot(t_minus_X_w.T, t_minus_X_w)\n",
    "    return np.float(sigma_hat)\n",
    "\n",
    "def get_Sigma_w(sigma_square, X, S):\n",
    "    return np.linalg.inv((1. / sigma_square) * np.dot(X.T, X) + np.linalg.inv(S))\n",
    "\n",
    "def get_mean_w(sigma_square, Sigma, X, t):\n",
    "    return (1. / (sigma_square)) * np.dot(np.dot(Sigma, X.T), t)"
   ]
  },
  {
   "cell_type": "code",
   "execution_count": 281,
   "metadata": {},
   "outputs": [],
   "source": [
    "class BayesianLinearRegressor:\n",
    "    def __init__(self, n=1, sigma_unif=1.):\n",
    "        self.n = n\n",
    "        self.sigma_unif = sigma_unif\n",
    "\n",
    "    def lrfit(self, X_, t):\n",
    "        X = get_X_powered(X_, self.n)\n",
    "        X = get_X_w_bias(X)\n",
    "\n",
    "        _, S = generate_prior(X.shape[1], sigma_unif=self.sigma_unif)\n",
    "\n",
    "        w_hat = get_w_hat(X, t)\n",
    "\n",
    "        sigma_square = get_sigma_hat(w_hat, X, t, X.shape[0])\n",
    "\n",
    "        Sigma = get_Sigma_w(sigma_square, X, S)\n",
    "\n",
    "        mean_w = get_mean_w(sigma_square, Sigma, X, t)\n",
    "\n",
    "        self.mean_w, self.sigma_square, self.Sigma = mean_w, sigma_square, Sigma\n",
    "    \n",
    "    def predict(self, X):\n",
    "        X_pow = get_X(X, self.n)\n",
    "\n",
    "        return np.dot(X_pow, self.mean_w)"
   ]
  },
  {
   "cell_type": "markdown",
   "metadata": {},
   "source": [
    "#### 3.b Gaussian Prior Parameters choice\n",
    "In the challenge web page it is written: *You are provided with an anonymized dataset containing numeric feature variables*  \n",
    "Therefore, actually you do not have **no prior belief** on the weights of the classifier. Usually, when instead you have prior beliefs on weights, you can use these information to **encode** them into the prior.  \n",
    "\n",
    "Since the prior is an distribution you state **before** looking into the data, it should not be possible(philosophically correct) to do cross validation on it. We can you do, it is just an usage of a *weakily infomative prior*, where you do not force weights to range across tight intervals.\n",
    "\n",
    "In this case, a Gaussian Prior is a reasonable choice"
   ]
  },
  {
   "cell_type": "markdown",
   "metadata": {},
   "source": [
    "#### 3.c Nth order polynomial"
   ]
  },
  {
   "cell_type": "code",
   "execution_count": 541,
   "metadata": {},
   "outputs": [],
   "source": [
    "def get_X_powered(X, n):\n",
    "    \"\"\"\n",
    "    Return the X matrix concat with all the samples powered to 2..n\n",
    "    \n",
    "    Args:\n",
    "        X (numpy.matrix): Matrix (N, D)\n",
    "            - N : number of rows\n",
    "            - D : number of features\n",
    "        n (str): The power of the matrix.\n",
    "\n",
    "    Returns:\n",
    "        X_result: Matrix X with all the n powers\n",
    "    \"\"\"\n",
    "    if n <= 1:\n",
    "        return X\n",
    "    X_result = deepcopy(X)\n",
    "    X_powered = deepcopy(X)\n",
    "    for i in range(2, n + 1):\n",
    "        X_powered = np.multiply(X_powered, X)\n",
    "        X_result = np.concatenate((X_result, X_powered), axis=1)\n",
    "    return X_result\n",
    "\n",
    "def get_X_w_bias(X):\n",
    "    \"\"\"\n",
    "    Return The X matrix with the bias term\n",
    "    \n",
    "    Args:\n",
    "        X (numpy.matrix): Matrix X (N, D)\n",
    "    \n",
    "    Returns:\n",
    "        X_result (numpy.matrix): Matrix X (N, D + 1) with bias term put on the right column\n",
    "    \"\"\"\n",
    "    X_result = np.concatenate((X, np.matrix(np.ones((X.shape[0]))).T), axis=1)\n",
    "    return X_result\n",
    "\n",
    "def get_X(X, n=1):\n",
    "    \"\"\"\n",
    "    Put together the 2 functions above since they are often used together\n",
    "    \"\"\"\n",
    "    return get_X_w_bias(get_X_powered(X, n))\n",
    "\n",
    "def generate_prior(features, sigma_unif=3.):\n",
    "    S = np.matrix(np.diag(sigma_unif * np.ones(features)))\n",
    "    return np.matrix(np.zeros(features)), S"
   ]
  },
  {
   "cell_type": "code",
   "execution_count": 542,
   "metadata": {},
   "outputs": [],
   "source": [
    "def print_err(y_pred, y, total=False):\n",
    "    \"\"\"\n",
    "    Display the error of the Regression predictions\n",
    "    \"\"\"\n",
    "    err = y - y_pred\n",
    "    tot_err = np.sum(np.multiply(err, err))\n",
    "    if total:\n",
    "        print(\"Total squared error: {}\".format(tot_err))\n",
    "    else:\n",
    "        print(\"Average squared error: {}\".format(tot_err / len(y)))\n",
    "    print(\"\\n\")"
   ]
  },
  {
   "cell_type": "code",
   "execution_count": 543,
   "metadata": {},
   "outputs": [],
   "source": [
    "def sigmoid(x):\n",
    "    return 1./ (1. + np.exp(-x))\n",
    "\n",
    "@np.vectorize\n",
    "def discretize(pred, threshold=0.5):\n",
    "    \"\"\"\n",
    "    The decorator vectorize allows to apply the function to each element\n",
    "    \"\"\"\n",
    "    return 1 if pred > threshold else 0 "
   ]
  },
  {
   "cell_type": "markdown",
   "metadata": {},
   "source": [
    "#### 3.d Data Preprocessing\n",
    "As discussed before, the dataset is anomized, so there are no way to encode domain knowledge into the data preprocessing of the dataset. Nevertheless, some data preprocessing techiques are still possible:\n",
    "- **Checking**: First of all a check on the ranges, missing values can be always done, you do not need domain knowledge on features to do that.  \n",
    "\n",
    "- **Normalize**: Most of the times there are no reason to **not** normalize the dataset, since experimentally it is a great method to dampen order of magnitude differences, and also in the first steps of some training models, it is a great way to avoid exploding gradient and vanishing gradient  \n",
    "\n",
    "- **Analyze distribution**: Even if features do not permit to explain domain knowledge, this does not exclude that some columns prenst some **statistical** property. Many times this can be done analyzing the distribution of some feature and from that you can state some hypotesis on preprocessing and test how the model behaves."
   ]
  },
  {
   "cell_type": "code",
   "execution_count": 564,
   "metadata": {},
   "outputs": [
    {
     "name": "stderr",
     "output_type": "stream",
     "text": [
      "C:\\Users\\fullo\\Anaconda3\\lib\\site-packages\\matplotlib\\axes\\_axes.py:6462: UserWarning: The 'normed' kwarg is deprecated, and has been replaced by the 'density' kwarg.\n",
      "  warnings.warn(\"The 'normed' kwarg is deprecated, and has been \"\n"
     ]
    },
    {
     "data": {
      "image/png": "[encoded data removed]",
      "text/plain": [
       "<Figure size 1440x288 with 3 Axes>"
      ]
     },
     "metadata": {},
     "output_type": "display_data"
    }
   ],
   "source": [
    "# Example of Analysis distribution\n",
    "fig, ax = plt.subplots(ncols=3, figsize=(20, 4))\n",
    "\n",
    "sns.distplot(df['var_0'], ax=ax[0], color='red')\n",
    "sns.distplot(df['var_1'], ax=ax[1], color='green')\n",
    "sns.distplot(df['var_3'], ax=ax[2], color='blue')\n",
    "\n",
    "plt.show()"
   ]
  },
  {
   "cell_type": "markdown",
   "metadata": {},
   "source": [
    "The distributions \"look like\" gaussian, so a possible preprocessing can be just the normalization of those features."
   ]
  },
  {
   "cell_type": "markdown",
   "metadata": {},
   "source": [
    "#### 3.e Treat data as continuous"
   ]
  },
  {
   "cell_type": "code",
   "execution_count": 285,
   "metadata": {},
   "outputs": [
    {
     "name": "stdout",
     "output_type": "stream",
     "text": [
      "Total squared error: 6830.479805772059\n",
      "\n",
      "\n"
     ]
    }
   ],
   "source": [
    "blr = BayesianLinearRegressor(n=3)\n",
    "\n",
    "blr.lrfit(X_train, y_train)\n",
    "y_test_und = blr.predict(X_test)\n",
    "print_err(y_test_und, y_test, True)"
   ]
  },
  {
   "cell_type": "code",
   "execution_count": 567,
   "metadata": {},
   "outputs": [
    {
     "name": "stdout",
     "output_type": "stream",
     "text": [
      "Posterior variance matrix with shape:  (201, 201)\n"
     ]
    }
   ],
   "source": [
    "# Posterior Variance\n",
    "posterior_variance = blr.Sigma\n",
    "print(\"Posterior variance matrix with shape: \", posterior_variance.shape)"
   ]
  },
  {
   "cell_type": "markdown",
   "metadata": {},
   "source": [
    "#### 3.f Discretize Predictions"
   ]
  },
  {
   "cell_type": "code",
   "execution_count": 568,
   "metadata": {},
   "outputs": [],
   "source": [
    "def print_metrics(y_test, y_pred):\n",
    "    \"\"\"\n",
    "    Utility function to display the most important metrics\n",
    "    \"\"\"\n",
    "    print(\"Weighted score: \", f1_score(y_test, y_pred, average='weighted'))\n",
    "    print(\"Macro score: \", f1_score(y_test, y_pred, average='macro'))\n",
    "    print(\"Binary 0 score: \", f1_score(y_test, y_pred, pos_label=0))\n",
    "    print(\"Binary 1 score: \", f1_score(y_test, y_pred, pos_label=1))\n",
    "    print(\"F1 classic score: \", f1_score(y_test, y_pred))\n",
    "    print(\"Accuracy: \", accuracy_score(y_test, y_pred))\n",
    "    print(\"\\n\")"
   ]
  },
  {
   "cell_type": "markdown",
   "metadata": {},
   "source": [
    "In theory, a naive approach to discretize the prediction is to use 0.5 as threshold to separate 0 from 1. Nevertheless, we cannot exclude that other thresholds can produce different perfromance across different metrics."
   ]
  },
  {
   "cell_type": "code",
   "execution_count": 304,
   "metadata": {},
   "outputs": [
    {
     "name": "stdout",
     "output_type": "stream",
     "text": [
      "Weighted score:  0.9424223759253363\n",
      "Macro score:  0.5919987798441559\n",
      "Binary 0 score:  0.953014579486853\n",
      "Binary 1 score:  0.23098298020145885\n",
      "F1 classic score:  0.23098298020145885\n",
      "Accuracy:  0.91144\n",
      "\n",
      "\n"
     ]
    }
   ],
   "source": [
    "y_pred = discretize(y_test_und, 0.5)\n",
    "\n",
    "print_metrics(y_pred, y_test)"
   ]
  },
  {
   "cell_type": "markdown",
   "metadata": {},
   "source": [
    "To test different approaches we cannot test the best threshold for the test prediction, since it can be lead to overfitting without we can even notice it. The approach adopted is Cross Validation on the threshold."
   ]
  },
  {
   "cell_type": "code",
   "execution_count": 303,
   "metadata": {},
   "outputs": [],
   "source": [
    "def threshold_cross_validation_lg(X_train, y_train, metric_f, n=1, k=10):\n",
    "    treshoold_linspace = np.linspace(0, 1, 101)[1:-1] #no sense to take extremis\n",
    "    fold = list(range(k))\n",
    "\n",
    "    # Utility variables\n",
    "    fold = list(range(k)) # folds\n",
    "    bs = len(X_train) // 10 # batch size\n",
    "    tot_len = len(X_train) # total number of samples\n",
    "    best_thresholds = [] # best thresholds for each fold\n",
    "\n",
    "    for i in fold:\n",
    "        X_validation = X_train[i * bs : (i + 1) * bs]\n",
    "        X_train_fold = np.concatenate((X_train[0 : i * bs], X_train[(i + 1) * bs : tot_len]))\n",
    "        \n",
    "        y_validation = y_train[i * bs : (i + 1) * bs]\n",
    "        y_train_fold = np.concatenate((y_train[0 : i * bs], y_train[(i + 1) * bs : tot_len]))\n",
    "        \n",
    "        blr = BayesianLinearRegressor(n=n)\n",
    "\n",
    "        blr.lrfit(X_train_fold, y_train_fold)\n",
    "        \n",
    "        y_pred_undiscretized = blr.predict(X_validation)\n",
    "        \n",
    "        maximum_metric = 0.\n",
    "        best_thd = 0.\n",
    "\n",
    "        for thr in treshoold_linspace:\n",
    "            y_pred = discretize(y_pred_undiscretized, thr)\n",
    "\n",
    "            metric = metric_f(y_validation, y_pred)\n",
    "            if metric > maximum_metric:\n",
    "                maximum_metric = metric\n",
    "                best_thr = thr\n",
    "                \n",
    "        best_thresholds.append(best_thr)\n",
    "        print(\"best threshold fold {}: {}\".format(i, best_thr))\n",
    "    return np.median(best_thresholds)"
   ]
  },
  {
   "cell_type": "markdown",
   "metadata": {},
   "source": [
    "The code above allows to optimize *any* metric, just through the usage of a lambda function on the metric. We want to maximize *f1 score*. We take the median in order to avoid screwed result."
   ]
  },
  {
   "cell_type": "code",
   "execution_count": 305,
   "metadata": {},
   "outputs": [
    {
     "name": "stderr",
     "output_type": "stream",
     "text": [
      "C:\\Users\\fullo\\Anaconda3\\lib\\site-packages\\sklearn\\metrics\\classification.py:1437: UndefinedMetricWarning: F-score is ill-defined and being set to 0.0 due to no predicted samples.\n",
      "  'precision', 'predicted', average, warn_for)\n"
     ]
    },
    {
     "name": "stdout",
     "output_type": "stream",
     "text": [
      "best threshold fold 0: 0.29\n",
      "best threshold fold 1: 0.31\n",
      "best threshold fold 2: 0.31\n",
      "best threshold fold 3: 0.29\n",
      "best threshold fold 4: 0.28\n",
      "best threshold fold 5: 0.29\n",
      "best threshold fold 6: 0.29\n",
      "best threshold fold 7: 0.3\n",
      "best threshold fold 8: 0.28\n",
      "best threshold fold 9: 0.29\n",
      "Weighted score:  0.9072930504902521\n",
      "Macro score:  0.7515529706893749\n",
      "Binary 0 score:  0.9488621479569941\n",
      "Binary 1 score:  0.5542437934217558\n",
      "F1 classic score:  0.5542437934217558\n",
      "Accuracy:  0.90825\n",
      "\n",
      "\n"
     ]
    }
   ],
   "source": [
    "metric_f = lambda true, pred : f1_score(true, pred)\n",
    "\n",
    "bthr = threshold_cross_validation_lg(X_train, y_train, metric_f, n=3, k=10)\n",
    "\n",
    "y_pred = discretize(y_test_und, bthr)\n",
    "\n",
    "print_metrics(y_pred, y_test)"
   ]
  },
  {
   "cell_type": "markdown",
   "metadata": {},
   "source": [
    "The f1 score obtained is 0.55, which is maximized respect to the threshold."
   ]
  },
  {
   "cell_type": "code",
   "execution_count": 306,
   "metadata": {},
   "outputs": [],
   "source": [
    "def get_confusion_matrix(y_test, y_pred):\n",
    "    conf = np.array([[0, 0], [0, 0]])\n",
    "\n",
    "    conc = np.concatenate((y_test, y_pred), axis=1)\n",
    "\n",
    "    # we consider 0 as Positive for semplicity\n",
    "    for a in conc:\n",
    "        val_true, val_pred = a.item(0), a.item(1)\n",
    "        if val_true == val_pred:\n",
    "            # True Positive\n",
    "            if val_pred == 0:\n",
    "                conf[0][0] += 1\n",
    "            # True Negative\n",
    "            else:\n",
    "                conf[1][1] += 1\n",
    "        if val_true != val_pred:\n",
    "            # False positive\n",
    "            if val_pred == 0:\n",
    "                conf[0][1] += 1\n",
    "            # False negative\n",
    "            else:\n",
    "                conf[1][0] += 1\n",
    "    return conf"
   ]
  },
  {
   "cell_type": "code",
   "execution_count": 308,
   "metadata": {},
   "outputs": [],
   "source": [
    "def plot_confusion_matrix(y_test, y_pred):\n",
    "    conf = get_confusion_matrix(y_test, y_pred)\n",
    "    conf_normalized = 100. * conf / np.sum(conf, axis=0)\n",
    "\n",
    "    fig,ax = plt.subplots(ncols=2, figsize=(20, 4))\n",
    "\n",
    "    sns.heatmap(conf, ax=ax[0], annot=True)\n",
    "    sns.heatmap(conf_normalized, ax=ax[1], annot=True)\n",
    "\n",
    "\n",
    "    ax[0].set(xticklabels=[0, 1], yticklabels=[0, 1],\n",
    "       title='confusion matrix',\n",
    "       ylabel='True label',\n",
    "       xlabel='Predicted label')\n",
    "    ax[1].set(xticklabels=[0, 1], yticklabels=[0, 1],\n",
    "       title='Normalized confusion matrix',\n",
    "       ylabel='True label',\n",
    "       xlabel='Predicted label')\n",
    "    sns.set(font_scale=1.1)\n",
    "\n",
    "    plt.show()"
   ]
  },
  {
   "cell_type": "code",
   "execution_count": 310,
   "metadata": {},
   "outputs": [
    {
     "data": {
      "image/png": "[encoded data removed]",
      "text/plain": [
       "<Figure size 1440x288 with 4 Axes>"
      ]
     },
     "metadata": {},
     "output_type": "display_data"
    }
   ],
   "source": [
    "plot_confusion_matrix(y_test, y_pred)"
   ]
  },
  {
   "cell_type": "markdown",
   "metadata": {},
   "source": [
    "N.B. The accuracy is reported above on the print of the metrics"
   ]
  },
  {
   "cell_type": "markdown",
   "metadata": {},
   "source": [
    "#### 3.g Comparison vs Random Classifier"
   ]
  },
  {
   "cell_type": "code",
   "execution_count": 312,
   "metadata": {},
   "outputs": [
    {
     "name": "stdout",
     "output_type": "stream",
     "text": [
      "Weighted score:  0.9072930504902521\n",
      "Macro score:  0.7515529706893749\n",
      "Binary 0 score:  0.9488621479569941\n",
      "Binary 1 score:  0.5542437934217558\n",
      "F1 classic score:  0.5542437934217558\n",
      "Accuracy:  0.90825\n",
      "\n",
      "\n"
     ]
    }
   ],
   "source": [
    "y_pred = discretize(y_test_und, bthr)\n",
    "\n",
    "print_metrics(y_pred, y_test)"
   ]
  },
  {
   "cell_type": "code",
   "execution_count": 289,
   "metadata": {},
   "outputs": [
    {
     "name": "stdout",
     "output_type": "stream",
     "text": [
      "Weighted score:  0.4041036313144761\n",
      "Macro score:  0.40387472493165244\n",
      "Binary 0 score:  0.6423188737062409\n",
      "Binary 1 score:  0.16543057615706408\n",
      "F1 classic score:  0.16543057615706408\n",
      "Accuracy:  0.49925\n",
      "\n",
      "\n"
     ]
    }
   ],
   "source": [
    "random_classifier = np.matrix(np.random.rand(len(X_test), 1))\n",
    "\n",
    "y_pred_random_classifier = discretize(random_classifier)\n",
    "\n",
    "print_metrics(y_pred_random_classifier, y_test)"
   ]
  },
  {
   "cell_type": "markdown",
   "metadata": {},
   "source": [
    "The performance are not that bad considering that they have been done considering label to be continuos."
   ]
  },
  {
   "cell_type": "markdown",
   "metadata": {},
   "source": [
    "### 4. Logistic Regression"
   ]
  },
  {
   "cell_type": "markdown",
   "metadata": {},
   "source": [
    "The formulas below are **semantically** equivalent:\n",
    "\n",
    "- $\\prod{t_n p(t_n=1|x_n,w) + (1 - t_n) p(t_n=0|x_n,w)}$\n",
    "\n",
    "- $\\prod{p(t_n=1|x_n,w)^{t_n}  p(t_n=0|x_n,w) ^{(1 - t_n)}}$\n",
    "\n",
    "So in the loss functions it is utilized the first one just for comodity"
   ]
  },
  {
   "cell_type": "markdown",
   "metadata": {},
   "source": [
    "#### 4.a Bayesian Logistic Regression"
   ]
  },
  {
   "cell_type": "code",
   "execution_count": 572,
   "metadata": {},
   "outputs": [],
   "source": [
    "class BayesianLogisticRegression:\n",
    "    def __init__(self, num_parameters):\n",
    "        self.w = torch.zeros((num_parameters, 1), requires_grad=True, dtype=torch.float64)\n",
    "        self.num_parameters = num_parameters\n",
    "\n",
    "    def forward(self, X, cuda=False):\n",
    "        prod = torch.mm(X, self.w)\n",
    "        return torch.sigmoid(prod)\n",
    "\n",
    "    def predict(self, X):\n",
    "        return torch.sigmoid(torch.mm(X, self.w))\n",
    "\n",
    "    def update_model(self, lr):    \n",
    "        # Update parameters\n",
    "        gradients = self.w.grad.data\n",
    "        with torch.no_grad():\n",
    "            for idx in range(self.num_parameters):\n",
    "                self.w[idx].data -= lr * gradients[idx]\n",
    "\n",
    "def loss_function(output, t, w):\n",
    "    t_float = t.type(torch.DoubleTensor)\n",
    "    likelihood = t_float * output + (1 - t_float) * (1 - output)\n",
    "    \n",
    "    const = float((1. / np.sqrt((2 * np.pi))))\n",
    "    prior =  torch.log(const * torch.exp(- w**2 / 2)).sum()\n",
    "    likel = torch.log(likelihood).sum()\n",
    "    return - (likel + prior)\n",
    "\n",
    "def loss_function_weighted(output, t, weights):\n",
    "    t_float = t.type(torch.DoubleTensor)\n",
    "    likelihood = weights[1] * t_float * output + weights[0] * (1 - t_float) * (1 - output)\n",
    "    \n",
    "    const = float((1. / np.sqrt((2 * np.pi))))\n",
    "    prior =  torch.log(const * torch.exp(- w**2 / 2)).sum()\n",
    "    likel = torch.log(likelihood).sum()\n",
    "    return - (likel + prior)\n",
    "\n",
    "def threshold_cross_validation(X_train, y_train, metric_f, iterations, lr=1e-8, n=1, k=3, verbose=False):\n",
    "    \"\"\"\n",
    "    Cross validation of the threeshold for logistic regression\n",
    "    \"\"\"\n",
    "    treshoold_linspace = np.linspace(0, 1, 21)[1:-1] #no sense to take extremis\n",
    "    \n",
    "    # Utility variables\n",
    "    fold = list(range(k))\n",
    "    # batch size\n",
    "    bs = len(X_train) // 10\n",
    "    tot_len = len(X_train)\n",
    "\n",
    "    maximum_metric = 0.\n",
    "    \n",
    "    \n",
    "    best_thresholds = []\n",
    "\n",
    "    # Split in k fold\n",
    "    for i in fold:\n",
    "        X_validation = X_train[i * bs : (i + 1) * bs]\n",
    "        X_validation_pow = get_X(X_validation, n)\n",
    "        X_train_fold = np.concatenate((X_train[0 : i * bs], X_train[(i + 1) * bs : tot_len]))\n",
    "        \n",
    "        y_validation = y_train[i * bs : (i + 1) * bs]\n",
    "        y_train_fold = np.concatenate((y_train[0 : i * bs], y_train[(i + 1) * bs : tot_len]))\n",
    "        \n",
    "        model, _ = train(iterations, n, X_train_fold, y_train_fold, X_validation, y_validation, lr=lr,verbose=verbose)\n",
    "    \n",
    "        X_validation_torch, y_validation_torch = torch.from_numpy(X_validation_pow), torch.from_numpy(y_validation)\n",
    "        y_pred_torch = model.predict(X_validation_torch)\n",
    "        y_pred_undiscretized = y_pred_torch.data.numpy()\n",
    "        \n",
    "        best_thr = 0.\n",
    "        maximum_metric = 0.\n",
    "\n",
    "        for thr in treshoold_linspace:\n",
    "            y_pred = discretize(y_pred_undiscretized, thr)\n",
    "\n",
    "            metric = metric_f(y_validation, y_pred)\n",
    "            if metric > maximum_metric:\n",
    "                maximum_metric = metric\n",
    "                best_thr = thr\n",
    "                \n",
    "        best_thresholds.append(best_thr)\n",
    "        print(\"best threshold fold {}: {}\".format(i, best_thr))\n",
    "    return np.median(best_thresholds)"
   ]
  },
  {
   "cell_type": "markdown",
   "metadata": {},
   "source": [
    "#### 4.b Gradient Descent"
   ]
  },
  {
   "cell_type": "markdown",
   "metadata": {},
   "source": [
    "The learning rate suggested in the method, is the one best suited for dimension 1. In the code below there is no explicit cross validation or showing the effectiveness of this values. What I have experienced is that using an higher learning rate leads to explosion gradient wheter using a lower one leads to underfitting and slow loss decreasing."
   ]
  },
  {
   "cell_type": "code",
   "execution_count": 414,
   "metadata": {},
   "outputs": [],
   "source": [
    "def train(iterations, n, X_train, y_train, X_val, y_val, lr=1e-8, verbose=False):\n",
    "\n",
    "    X_train_pow = get_X(X_train, n)\n",
    "    X_test_pow = get_X(X_test, n)\n",
    "\n",
    "    X_train_torch, X_test_torch = torch.from_numpy(X_train_pow), torch.from_numpy(X_test_pow)\n",
    "    y_train_torch, y_test_torch = torch.from_numpy(y_train), torch.from_numpy(y_test)\n",
    "\n",
    "    losses = []\n",
    "    num_of_parameters = 200 * n + 1\n",
    "\n",
    "    model = BayesianLogisticRegression(num_of_parameters)\n",
    "\n",
    "    # X_train_torch, X_test_torch, y_train_torch, y_test_torch, w = X_train_torch.to('cuda'),X_test_torch.to('cuda'),y_train_torch.to('cuda'),y_test_torch.to('cuda'), w.to('cuda')\n",
    "    for i in range(iterations):\n",
    "\n",
    "        output = model.forward(X_train_torch, y_train_torch)\n",
    "\n",
    "        loss = loss_function(output, y_train_torch, model.w)\n",
    "\n",
    "        loss.backward()\n",
    "\n",
    "        model.update_model(lr)\n",
    "\n",
    "        losses.append(loss.item())\n",
    "\n",
    "        model.w.grad.data.zero_()\n",
    "        if verbose and iterations > 10 and i % (iterations // 10) == 0:\n",
    "            print(\"Loss after another 10% of total iterations\", loss.item())\n",
    "    print(\"--Training Completed--\")\n",
    "    return model, losses"
   ]
  },
  {
   "cell_type": "code",
   "execution_count": 276,
   "metadata": {},
   "outputs": [
    {
     "name": "stdout",
     "output_type": "stream",
     "text": [
      "--Training Completed--\n",
      "Metrics for 0.5 as threshold\n",
      "Weighted score:  0.8877579283006667\n",
      "Macro score:  0.6306147528755587\n",
      "Binary 0 score:  0.9524379555802569\n",
      "Binary 1 score:  0.3087915501708605\n",
      "F1 classic score:  0.3087915501708605\n",
      "Accuracy:  0.911\n",
      "\n",
      "\n"
     ]
    }
   ],
   "source": [
    "# Now we can train the model on the entire dataset\n",
    "model, losses = train(10000, 1, X_train, y_train, X_test, y_test, lr=1e-8, verbose=False)\n",
    "\n",
    "# Testing with 0.5 as threshold\n",
    "\n",
    "y_pred_torch = model.predict(X_test_torch)\n",
    "y_pred_undiscretized = y_pred_torch.data.numpy()\n",
    "y_pred = discretize(y_pred_undiscretized, 0.5)\n",
    "\n",
    "print(\"Metrics for 0.5 as threshold\")\n",
    "print_metrics(y_test, y_pred)"
   ]
  },
  {
   "cell_type": "code",
   "execution_count": 277,
   "metadata": {},
   "outputs": [
    {
     "data": {
      "image/png": "[encoded data removed]",
      "text/plain": [
       "<Figure size 1080x216 with 2 Axes>"
      ]
     },
     "metadata": {},
     "output_type": "display_data"
    }
   ],
   "source": [
    "# Plotting losses\n",
    "fig, ax = plt.subplots(ncols=2, figsize=(15, 3))\n",
    "\n",
    "ax[0].plot(losses)\n",
    "ax[0].set_title('All iterations')\n",
    "\n",
    "ax[1].plot(losses[30:])\n",
    "ax[1].set_title('Losses after 30 iterations')\n",
    "\n",
    "for axis in ax:\n",
    "    axis.set_xlabel('Iterations')\n",
    "    axis.set_ylabel('loss values')\n",
    "\n",
    "plt.show()"
   ]
  },
  {
   "cell_type": "markdown",
   "metadata": {},
   "source": [
    "The first iterations are the most sensitive regarding the gradient, since it explodes if the learning rates is too high"
   ]
  },
  {
   "cell_type": "markdown",
   "metadata": {},
   "source": [
    "#### 4.c Convexity of the problem\n",
    "- $ log(sigmoid(w^{T}x))$ it is concave\n",
    "- $ - log(sigmoid(w^{T}x))$, which can be used as the loss function is convex\n",
    "\n",
    "Not necessary to do multiple restarts."
   ]
  },
  {
   "cell_type": "markdown",
   "metadata": {},
   "source": [
    "#### 4.d Comparison with Bayesian Linear Regression Classifier\n",
    "First of all a cross validation on the Threshold is performed also for logistic regression. Basically, the output of a logistic regression classifier is a probability, se you can interpret the threshold as: *I consider a sample to be a fraud if the probability is above 30%*. Expecially in imbalanced dataset, it could lead to a better performance within certain metric."
   ]
  },
  {
   "cell_type": "code",
   "execution_count": 317,
   "metadata": {},
   "outputs": [
    {
     "name": "stdout",
     "output_type": "stream",
     "text": [
      "--Training Completed--\n",
      "best threshold fold 0: 0.2\n",
      "--Training Completed--\n",
      "best threshold fold 1: 0.2\n",
      "--Training Completed--\n",
      "best threshold fold 2: 0.25\n",
      "--Training Completed--\n",
      "best threshold fold 3: 0.25\n",
      "--Training Completed--\n"
     ]
    },
    {
     "name": "stderr",
     "output_type": "stream",
     "text": [
      "C:\\Users\\fullo\\Anaconda3\\lib\\site-packages\\sklearn\\metrics\\classification.py:1437: UndefinedMetricWarning: F-score is ill-defined and being set to 0.0 due to no predicted samples.\n",
      "  'precision', 'predicted', average, warn_for)\n"
     ]
    },
    {
     "name": "stdout",
     "output_type": "stream",
     "text": [
      "best threshold fold 4: 0.2\n",
      "Best threshold obtained: 0.2\n",
      "Weighted score:  0.8774084911433022\n",
      "Macro score:  0.6896904235545306\n",
      "Binary 0 score:  0.9246258038813955\n",
      "Binary 1 score:  0.45475504322766575\n",
      "F1 classic score:  0.45475504322766575\n",
      "Accuracy:  0.86756\n",
      "\n",
      "\n"
     ]
    }
   ],
   "source": [
    "# Maximize the f1 score\n",
    "metric_f = lambda true, pred : f1_score(true, pred)\n",
    "\n",
    "bthr = threshold_cross_validation(X_train, y_train, metric_f, 10000, k=5, verbose=False) # lr=1e-8, n=1\n",
    "\n",
    "print(\"Best threshold obtained: {}\".format(bthr))\n",
    "\n",
    "y_pred_torch = model.predict(X_test_torch)\n",
    "y_pred_undiscretized = y_pred_torch.data.numpy()\n",
    "y_pred = discretize(y_pred_undiscretized, bthr)\n",
    "\n",
    "print_metrics(y_test, y_pred)"
   ]
  },
  {
   "cell_type": "markdown",
   "metadata": {},
   "source": [
    "This operation has been done since we want to maximize the *f1 score*. In addiction to that, the loss function **do not** encode this willing! An alternative could ne weighted loss function, but after several tests I did not obtained good results compared to this approach."
   ]
  },
  {
   "cell_type": "code",
   "execution_count": 318,
   "metadata": {},
   "outputs": [
    {
     "data": {
      "image/png": "[encoded data removed]",
      "text/plain": [
       "<Figure size 1440x288 with 4 Axes>"
      ]
     },
     "metadata": {},
     "output_type": "display_data"
    }
   ],
   "source": [
    "plot_confusion_matrix(y_test, y_pred)"
   ]
  },
  {
   "cell_type": "code",
   "execution_count": 319,
   "metadata": {},
   "outputs": [
    {
     "data": {
      "image/png": "[encoded data removed]",
      "text/plain": [
       "<Figure size 1080x216 with 2 Axes>"
      ]
     },
     "metadata": {},
     "output_type": "display_data"
    }
   ],
   "source": [
    "fig, ax = plt.subplots(ncols=2, figsize=(15, 3))\n",
    "\n",
    "ax[0].plot(losses)\n",
    "ax[1].plot(losses[20:])\n",
    "\n",
    "for axis in ax:\n",
    "    axis.set_xlabel('Iterations')\n",
    "    axis.set_ylabel('loss values')\n",
    "\n",
    "plt.show()"
   ]
  },
  {
   "cell_type": "markdown",
   "metadata": {},
   "source": [
    "N.B. Metrics of Logistic regression above\n",
    "\n",
    "With those parameters, the Bayesian Linear regression discretize achieves better results. An hypotesis is that Bayesian Logistic regression with MAP requires more parameters tuning, and above is done just with N-th 1 power, which is not completely far to compar with a Bayesian Logistic regression with N-th 3 power.\n",
    "\n",
    "The computation is consistently more expensive on Bayesian Logistic regression."
   ]
  },
  {
   "cell_type": "markdown",
   "metadata": {},
   "source": [
    "#### 4.e Laplace Approximation"
   ]
  },
  {
   "cell_type": "markdown",
   "metadata": {},
   "source": [
    "Derivative Calculation\n",
    "\n",
    "The steps are the ones in the following list (directly from ASI slides):\n",
    "- find $ \\mu = \\hat{w} $ that maximises $g(w; X, t, \\sigma^2)$, so we take the one we obtained in the Bayesian Logisti linear regression\n",
    "- find:  $$\\Sigma^{-1} = - \\frac{\\partial^2 log(g(w;X,t,\\sigma^2))}{\\partial w \\partial w^T}\\biggr\\rvert_{\\hat{w}}$$\n",
    "\n",
    "    \n",
    "\n",
    "So if we calculate those two elements, then it is easy to sample from $\\mathcal{N}(\\mu, \\Sigma)$. Therefore, you an approximate the mean throught Sampling.\n",
    "\n",
    "$$E_{\\mathcal{N}(\\mu, \\Sigma)}[P(T_{new} = 1 | x_{new}, w] \\approx \\frac{1}{S} \\sum_{s=1}^S{\\frac{1}{1 + exp(-w^T x_{new})}}$$\n",
    "\n",
    "Right now, we need to calculate $\\frac{\\partial^2 log(g(w;X,t,\\sigma^2))}{\\partial w \\partial w^T}$, to do it we proceed element-wise and then generalizing to the N-th case"
   ]
  },
  {
   "cell_type": "markdown",
   "metadata": {},
   "source": [
    "The considered likelihood is the one above (the prior term will be added afterwars):\n",
    "-  $\\prod{p(t_n=1|x_n,w)^{t_n}  p(t_n=0|x_n,w) ^{(1 - t_n)}}$\n",
    "\n",
    "\n",
    "- first derivative:\n",
    "$$\\frac{\\partial log(g(w;X,t,\\sigma^2))}{\\partial w_d} = \\frac{\\partial \\sum_n^N{t_n log(sigm(w^T x^{(n)})) + (1 - t_n) log(1 - sigm(w^T x^{(n)}))} }{\\partial w_d} -\\sum_i^D{\\frac{1}{2} \\frac{\\partial (\\frac{w_i^2}{\\sigma_i^2})}{\\partial w_i}} $$\n",
    "$$\\frac{\\partial log(g(w;X,t,\\sigma^2))}{\\partial w_d} = \\sum_n^N{x_d^N (t_n - sigm(w^T x^{(n)})} + \\frac{w_d}{\\sigma_d^2}$$\n",
    "\n",
    "- second derivative:\n",
    "\n",
    "$$\\frac{\\partial log(g(w;X,t,\\sigma^2))}{\\partial w_d \\partial w_e} = \\sum_n^N{x_d^{(n)} x_d^{(e)} sigm(w^T x^{(n)}) (sigm(w^T x^{(n)}) - 1)} + \\frac{\\delta_{d,e}}{\\sigma^2} I$$\n",
    "\n",
    "- prior term second derivative with $\\sigma_i=1$ for all: $- I$\n",
    "\n",
    "Matrix form (equivalent version manually reconstructed)\n",
    "$$ Sigma = -(X^T (X \\odot (sigm \\mathbb{1}) \\odot (sigm \\mathbb{1} - I) - I)^{-1}$$"
   ]
  },
  {
   "cell_type": "markdown",
   "metadata": {},
   "source": [
    "##### 5. Bonus Question"
   ]
  },
  {
   "cell_type": "code",
   "execution_count": 416,
   "metadata": {},
   "outputs": [
    {
     "name": "stdout",
     "output_type": "stream",
     "text": [
      "Loss after another 10% of total iterations 69499.4247011653\n",
      "Loss after another 10% of total iterations 25972.42964607397\n",
      "Loss after another 10% of total iterations 25311.345222196047\n",
      "Loss after another 10% of total iterations 25021.744076979565\n",
      "Loss after another 10% of total iterations 24850.01424372001\n",
      "Loss after another 10% of total iterations 24730.836806924177\n",
      "Loss after another 10% of total iterations 24640.088466052843\n",
      "Loss after another 10% of total iterations 24566.89119157211\n",
      "Loss after another 10% of total iterations 24505.581334115195\n",
      "Loss after another 10% of total iterations 24452.869746214295\n",
      "--Training Completed--\n",
      "Metrics for 0.5 as threshold\n",
      "Weighted score:  0.8877579283006667\n",
      "Macro score:  0.6306147528755587\n",
      "Binary 0 score:  0.9524379555802569\n",
      "Binary 1 score:  0.3087915501708605\n",
      "F1 classic score:  0.3087915501708605\n",
      "Accuracy:  0.911\n",
      "\n",
      "\n"
     ]
    }
   ],
   "source": [
    "# Now we can train the model on the entire dataset\n",
    "model, _ = train(10000, 1, X_train, y_train, X_test, y_test, lr=1e-8, verbose=True)\n",
    "\n",
    "# Testing with 0.5 as threshold\n",
    "\n",
    "y_pred_torch = model.predict(X_test_torch)\n",
    "y_pred_undiscretized = y_pred_torch.data.numpy()\n",
    "y_pred = discretize(y_pred_undiscretized, 0.5)\n",
    "\n",
    "print(\"Metrics for 0.5 as threshold\")\n",
    "print_metrics(y_test, y_pred)"
   ]
  },
  {
   "cell_type": "code",
   "execution_count": 606,
   "metadata": {},
   "outputs": [],
   "source": [
    "w = model.w.data.numpy()"
   ]
  },
  {
   "cell_type": "code",
   "execution_count": 602,
   "metadata": {},
   "outputs": [],
   "source": [
    "def get_Sigma_laplace(X, w):\n",
    "    return np.dot(X.T, np.multiply(X, np.dot(sigmoid(np.dot(X, w)) - 1, np.ones((1, len(w)))))) - X.shape[0] * np.eye(w.shape[0])"
   ]
  },
  {
   "cell_type": "code",
   "execution_count": 538,
   "metadata": {},
   "outputs": [
    {
     "name": "stdout",
     "output_type": "stream",
     "text": [
      "Laplace metrics\n",
      "Weighted score:  0.8772860738137028\n",
      "Macro score:  0.6893114338083276\n",
      "Binary 0 score:  0.9245679230143239\n",
      "Binary 1 score:  0.45405494460233126\n",
      "F1 classic score:  0.45405494460233126\n",
      "Accuracy:  0.86745\n",
      "\n",
      "\n"
     ]
    }
   ],
   "source": [
    "X_test_w_b = get_X(X_test) # X_test\n",
    "\n",
    "num_samples = 10\n",
    "\n",
    "distr = np.random.multivariate_normal(np.squeeze(np.asarray(mean_w)), cov, num_samples)\n",
    "\n",
    "y_storage_test = np.zeros((X_test_w_b.shape[0], 1))\n",
    "\n",
    "for w in distr:\n",
    "    w = np.matrix(w).T\n",
    "    y_pred_und = sigmoid(np.dot(X_test_w_b, w))\n",
    "    \n",
    "    y_pred = discretize(y_pred_und, 0.2)\n",
    "    \n",
    "    y_storage_test += y_pred_und\n",
    "\n",
    "y_pred = discretize(y_storage_test / num_samples, 0.2)\n",
    "\n",
    "print(\"Laplace metrics\")\n",
    "print_metrics(y_test, y_pred)"
   ]
  },
  {
   "cell_type": "markdown",
   "metadata": {},
   "source": [
    "The Performance are similar respect the ones with Bayesian Logistic Regression. The laplace approximation is not a method to provide the highest likelihood, but to provide some information respect to the variance."
   ]
  },
  {
   "cell_type": "markdown",
   "metadata": {},
   "source": [
    "##### Addictional test with ADAM"
   ]
  },
  {
   "cell_type": "code",
   "execution_count": 570,
   "metadata": {},
   "outputs": [],
   "source": [
    "def train_optimizer(iterations, n, X_train, y_train, X_val, y_val, lr=1e-8, verbose=False):\n",
    "\n",
    "    X_train_pow = get_X(X_train, n)\n",
    "    X_test_pow = get_X(X_test, n)\n",
    "\n",
    "    X_train_torch, X_test_torch = torch.from_numpy(X_train_pow), torch.from_numpy(X_test_pow)\n",
    "    y_train_torch, y_test_torch = torch.from_numpy(y_train), torch.from_numpy(y_test)\n",
    "\n",
    "    losses = []\n",
    "    num_of_parameters = 200 * n + 1\n",
    "\n",
    "    model = BayesianLogisticRegression(num_of_parameters)\n",
    "    \n",
    "    optimizer = torch.optim.Adam([model.w], lr=lr)\n",
    "\n",
    "    # X_train_torch, X_test_torch, y_train_torch, y_test_torch, w = X_train_torch.to('cuda'),X_test_torch.to('cuda'),y_train_torch.to('cuda'),y_test_torch.to('cuda'), w.to('cuda')\n",
    "    for i in range(iterations):\n",
    "        optimizer.zero_grad()\n",
    "    \n",
    "        output = model.forward(X_train_torch, y_train_torch)\n",
    "\n",
    "        loss = loss_function(output, y_train_torch, model.w)\n",
    "\n",
    "        loss.backward()\n",
    "\n",
    "        optimizer.step()\n",
    "\n",
    "        losses.append(loss.item())\n",
    "\n",
    "        model.w.grad.data.zero_()\n",
    "        if verbose and iterations > 10 and i % (iterations // 10) == 0:\n",
    "            print(\"Loss after another 10% of total iterations\", loss.item())\n",
    "    print(\"--Training Completed--\")\n",
    "    return model, losses"
   ]
  },
  {
   "cell_type": "code",
   "execution_count": 578,
   "metadata": {},
   "outputs": [
    {
     "name": "stdout",
     "output_type": "stream",
     "text": [
      "Loss after another 10% of total iterations 69683.21240780623\n",
      "Loss after another 10% of total iterations 24461.556156150607\n",
      "Loss after another 10% of total iterations 23424.969909629544\n",
      "Loss after another 10% of total iterations 22995.45226273172\n",
      "Loss after another 10% of total iterations 22734.37625135978\n",
      "Loss after another 10% of total iterations 22586.171717153353\n",
      "Loss after another 10% of total iterations 22494.501272758713\n",
      "Loss after another 10% of total iterations 22431.469514401775\n",
      "Loss after another 10% of total iterations 22454.698984950363\n",
      "Loss after another 10% of total iterations 22344.43767955946\n",
      "--Training Completed--\n"
     ]
    }
   ],
   "source": [
    "model, losses = train_optimizer(7000, 2, X_train, y_train, X_test, y_test, lr=1e-4, verbose=True)"
   ]
  },
  {
   "cell_type": "code",
   "execution_count": 585,
   "metadata": {},
   "outputs": [
    {
     "name": "stdout",
     "output_type": "stream",
     "text": [
      "Weighted score:  0.8918151470787841\n",
      "Macro score:  0.7236702253042926\n",
      "Binary 0 score:  0.9341091652238085\n",
      "Binary 1 score:  0.5132312853847767\n",
      "F1 classic score:  0.5132312853847767\n",
      "Accuracy:  0.88393\n",
      "\n",
      "\n"
     ]
    }
   ],
   "source": [
    "X_test_torch = torch.from_numpy(get_X(X_test, 2))\n",
    "y_pred_und = model.predict(X_test_torch).detach().numpy()\n",
    "\n",
    "y_pred = discretize(y_pred_und, 0.2)\n",
    "\n",
    "print_metrics(y_test, y_pred)"
   ]
  },
  {
   "cell_type": "markdown",
   "metadata": {},
   "source": [
    "Using ADAM optimizer and the best threshold it possible to obtain a compared performance respect to the Bayesian Logistic regression"
   ]
  },
  {
   "cell_type": "markdown",
   "metadata": {},
   "source": [
    "#### Addictional materials"
   ]
  },
  {
   "cell_type": "code",
   "execution_count": 587,
   "metadata": {},
   "outputs": [],
   "source": [
    "# Convert\n",
    "X_train_pow = get_X(X_train, N)\n",
    "X_test_pow = get_X(X_test, N)\n",
    "\n",
    "X_train_torch, X_test_torch = torch.from_numpy(X_train_pow), torch.from_numpy(X_test_pow)\n",
    "y_train_torch, y_test_torch = torch.from_numpy(y_train), torch.from_numpy(y_test)"
   ]
  }
 ],
 "metadata": {
  "kernelspec": {
   "display_name": "Python 3",
   "language": "python",
   "name": "python3"
  },
  "language_info": {
   "codemirror_mode": {
    "name": "ipython",
    "version": 3
   },
   "file_extension": ".py",
   "mimetype": "text/x-python",
   "name": "python",
   "nbconvert_exporter": "python",
   "pygments_lexer": "ipython3",
   "version": "3.6.4"
  }
 },
 "nbformat": 4,
 "nbformat_minor": 1
}
