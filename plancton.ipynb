{
 "cells": [
  {
   "cell_type": "markdown",
   "metadata": {},
   "source": [
    "# Plankton Challenge\n",
    "We address the plankton challenge following the *Image classification* path. This requires the exploration of computer vision topics and the usage of CNNs.\n",
    "\n",
    "The section of the notbook the following:\n",
    "- **1. Data Exploration**\n",
    "- **2. Data Pre Processing**\n",
    "- **3. Model Selection**\n",
    "- **4. Paramters Optimization**\n",
    "- **5. Model Evaluation**\n",
    "\n",
    "Import used libraries"
   ]
  },
  {
   "cell_type": "code",
   "execution_count": 1,
   "metadata": {},
   "outputs": [],
   "source": [
    "import pandas as pd\n",
    "import numpy as np\n",
    "import seaborn as sns\n",
    "import matplotlib.pyplot as plt\n",
    "import zipfile\n",
    "\n",
    "from math import isnan, log, exp\n",
    "from io import BytesIO\n",
    "from PIL import Image\n",
    "from tqdm import tqdm\n",
    "\n",
    "from sklearn.model_selection import train_test_split, StratifiedKFold\n",
    "from sklearn.metrics import f1_score\n",
    "\n",
    "np.set_printoptions(precision=2)"
   ]
  },
  {
   "cell_type": "markdown",
   "metadata": {},
   "source": [
    "Import PyTorch functions"
   ]
  },
  {
   "cell_type": "code",
   "execution_count": 2,
   "metadata": {},
   "outputs": [],
   "source": [
    "# Torch import block\n",
    "import torch\n",
    "import torch.nn as nn\n",
    "import torch.nn.functional as F\n",
    "from torch.nn.functional import nll_loss\n",
    "from torchvision import transforms, utils\n",
    "from torch.utils.data import Dataset, DataLoader"
   ]
  },
  {
   "cell_type": "code",
   "execution_count": 3,
   "metadata": {},
   "outputs": [],
   "source": [
    "# Ignore warnings\n",
    "import warnings\n",
    "warnings.filterwarnings(\"ignore\")"
   ]
  },
  {
   "cell_type": "markdown",
   "metadata": {},
   "source": [
    "##### Metadata\n",
    "Store the base directory of the dataset into a variable"
   ]
  },
  {
   "cell_type": "code",
   "execution_count": 4,
   "metadata": {},
   "outputs": [],
   "source": [
    "# Base path of the plankton datasets\n",
    "base_dir = '/mnt/datasets/plankton/flowcam/'\n",
    "meta_ = 'meta.csv'"
   ]
  },
  {
   "cell_type": "code",
   "execution_count": 5,
   "metadata": {},
   "outputs": [],
   "source": [
    "# os.environ['CUDA_LAUNCH_BLOCKING'] = '1'\n",
    "device = torch.device(\"cuda:3\" if torch.cuda.is_available() else \"cpu\")"
   ]
  },
  {
   "cell_type": "markdown",
   "metadata": {},
   "source": [
    "##### Utility Functions\n",
    "Below there are some function used in the notebook. They are self documented, but their usage within our work is explained when they are explicitely used.."
   ]
  },
  {
   "cell_type": "code",
   "execution_count": 6,
   "metadata": {},
   "outputs": [],
   "source": [
    "# Utility Functions\n",
    "\n",
    "# Function given in the description of the problem\n",
    "def extract_zip_to_memory(input_zip):\n",
    "    \"\"\"\n",
    "    This function extracts the images stored inside the given zip file.\n",
    "    It stores the result in a python dictionary.\n",
    "    \n",
    "    input_zip (string): path to the zip file\n",
    "    \n",
    "    returns (dict): {filename (string): image_file (bytes)}\n",
    "    \"\"\"\n",
    "    input_zip = zipfile.ZipFile(input_zip)\n",
    "    return {name: BytesIO(input_zip.read(name)) for name in input_zip.namelist() if name.endswith('.jpg')}\n",
    "\n",
    "\n",
    "def update_confusion_matrix(confusion_matrix, output, target, n_classes=39):\n",
    "    \"\"\"Update the confusion matrix\"\"\"\n",
    "    _, preds = torch.max(output, 1)\n",
    "    for t, p in zip(target.view(-1), preds.view(-1)):\n",
    "        confusion_matrix[t.long(), p.long()] += 1\n",
    "\n",
    "def build_per_class_accuracies(confusion_matrix):\n",
    "    \"\"\"Return an array of accuracies for each class\"\"\"\n",
    "    diags = np.diag(confusion_matrix)\n",
    "    rows_sum = confusion_matrix.sum(axis=1)\n",
    "    class_accuracies = []\n",
    "    for d, r in zip(diags, rows_sum):\n",
    "        # True Positive\n",
    "        n_classified_correctly = d\n",
    "        # True Positive + False Negative\n",
    "        row_sum = r\n",
    "        # Accuracy for class i-th\n",
    "        cl_accuracy = n_classified_correctly * 100 / row_sum\n",
    "        class_accuracies.append(cl_accuracy)\n",
    "        # print(\"Class Accuracy: {0}. True Positive: {1}. True Positive + False Negative: {2}\".format(cl_accuracy, d, row_sum))\n",
    "    # it will return false positive and false negative\n",
    "    return class_accuracies"
   ]
  },
  {
   "cell_type": "code",
   "execution_count": 7,
   "metadata": {},
   "outputs": [],
   "source": [
    "class ResizeSquare(object):\n",
    "    \"\"\"Resize the image to a given size.\n",
    "\n",
    "     Args:\n",
    "         output_size (int): Desired output size. If smaller of image edges is matched\n",
    "             to output_size keeping aspect ratio the same.\n",
    "     \"\"\"\n",
    "    \n",
    "    def __init__(self, output_size):\n",
    "        assert isinstance(output_size, (int, tuple))\n",
    "        self.new_h = output_size\n",
    "        self.new_w = output_size\n",
    "        \n",
    "    def __call__(self, image):\n",
    "        \n",
    "        w, h = image.size\n",
    "\n",
    "        if w != h:\n",
    "            dim = w if w > h else h\n",
    "            # create a new square image dim x dim in gray scale\n",
    "            sq_img = Image.new('L', (dim, dim), (255))\n",
    "            offset = (int(round(((dim - w) / 2), 0)), int(round(((dim - h) / 2),0)))\n",
    "            sq_img.paste(image, offset)\n",
    "        else:\n",
    "            sq_img = image\n",
    "            \n",
    "        return sq_img.resize((self.new_w, self.new_h), Image.ANTIALIAS)\n",
    "    \n",
    "class ToTensor(object):\n",
    "    \"\"\"Convert ndarrays in sample to Tensors.\"\"\"\n",
    "\n",
    "    def __call__(self, image):\n",
    "        \n",
    "        image_array = np.array(image, dtype=np.float32)\n",
    "        \n",
    "        if len(image_array.shape) == 2:\n",
    "            image_array = np.array([image_array])\n",
    "        else:\n",
    "            # swap color axis because\n",
    "            # numpy image: H x W x C\n",
    "            # torch image: C X H X W\n",
    "            image_array = image_array.transpose((2, 0, 1))\n",
    "        \n",
    "        # swap black and white (white=0, black = 255)\n",
    "        image_array = (255 - image_array) / 255\n",
    "        \n",
    "        return torch.from_numpy(image_array)"
   ]
  },
  {
   "cell_type": "code",
   "execution_count": 8,
   "metadata": {},
   "outputs": [],
   "source": [
    "def get_data_loaders(inputs, targets, train_idx, val_idx, mapping, train_transformations, test_transformations, batch_size=128, sampler=None):\n",
    "    train_dataset = PlanktonDataset(inputs.values[train_idx], targets.values[train_idx],\n",
    "                                        img_files = img_files,\n",
    "                                        label_mapping = mapping,\n",
    "                                        transform = train_transformations,\n",
    "                                        )\n",
    "    if sampler != None:\n",
    "        train_dataloader = DataLoader(train_dataset, batch_size=batch_size, sampler=detritus_wrs, num_workers=4)\n",
    "    else:\n",
    "        train_dataloader = DataLoader(train_dataset, batch_size=batch_size, shuffle=True, num_workers=4)\n",
    "\n",
    "    val_dataset = PlanktonDataset(inputs.values[val_idx], targets.values[val_idx],\n",
    "                                            img_files = img_files,\n",
    "                                            label_mapping = mapping,\n",
    "                                            transform = test_transformations,\n",
    "                                            )\n",
    "    val_dataloader = DataLoader(val_dataset, batch_size=batch_size, num_workers=4)\n",
    "    \n",
    "    return train_dataloader, val_dataloader"
   ]
  },
  {
   "cell_type": "code",
   "execution_count": 9,
   "metadata": {},
   "outputs": [],
   "source": [
    "def train_model(data_loader, model, optimizer, loss):\n",
    "    data_loader_iterator = iter(data_loader)\n",
    "    # setting the cululative loss to zero\n",
    "    tot_loss = 0\n",
    "    for i, sample in enumerate(data_loader_iterator):\n",
    "        # Loading the image sample from data loader to selected device\n",
    "        image = sample['image'].to(device)\n",
    "        # Loading the injected features from data loader to selected device\n",
    "        inj_features = sample['inj_features'].to(device)\n",
    "        # Loading the targets of the sample (i.e. belonging classes) from data loader to selected device\n",
    "        target = sample['label'].to(device)\n",
    "        # Putting zero to all the gradients\n",
    "        optimizer.zero_grad()\n",
    "\n",
    "        # training operations\n",
    "        output = model(image, inj_features)\n",
    "        loss = loss_function(output, target)\n",
    "        loss.backward()\n",
    "        optimizer.step()\n",
    "        # Cumulating loss\n",
    "        tot_loss += loss.data.item()\n",
    "    return tot_loss / (i + 1)"
   ]
  },
  {
   "cell_type": "code",
   "execution_count": 10,
   "metadata": {},
   "outputs": [],
   "source": [
    "def test_model(data_loader, model, loss, n_classes):\n",
    "    data_loader_iterator = iter(data_loader)\n",
    "    # setting the cululative loss to zero\n",
    "    tot_loss = 0\n",
    "    correct = 0\n",
    "    confusion_matrix = np.zeros((n_classes, n_classes))\n",
    "    with torch.no_grad():\n",
    "        for i, sample in enumerate(data_loader_iterator):\n",
    "            # Loading the image sample from data loader to selected device\n",
    "            image = sample['image'].to(device)\n",
    "            # Loading the injected features from data loader to selected device\n",
    "            inj_features = sample['inj_features'].to(device)\n",
    "            # Loading the targets of the sample (i.e. belonging classes) from data loader to selected device\n",
    "            target = sample['label'].to(device)\n",
    "\n",
    "            # evaluating model\n",
    "            output = model(image, inj_features)\n",
    "            loss = loss_function(output, target)\n",
    "            tot_loss += loss.data.item()\n",
    "            pred = output.max(1, keepdim=True)[1]\n",
    "            # update confusion matrix\n",
    "            update_confusion_matrix(confusion_matrix, output, target, n_classes)\n",
    "            correct += pred.eq(target.view_as(pred)).sum().item()\n",
    "    # add b\n",
    "    accuracies = build_per_class_accuracies(confusion_matrix)\n",
    "    # THEN mean_acc = np.mean(accuracies)\n",
    "    # end\n",
    "    avg_loss_test = tot_loss / (i + 1)\n",
    "    return correct, confusion_matrix, accuracies, avg_loss_test"
   ]
  },
  {
   "cell_type": "markdown",
   "metadata": {},
   "source": [
    "## 1. Data Exploration\n",
    "The challenge is a image classification problem, so we need to explore the data space. \n",
    "The main issue to be addressed is the class unbalancy as we will see that the number of object per label is tremendously unbalanced.\n",
    "\n",
    "The file meta.csv is needed to keep track of the labels for each image"
   ]
  },
  {
   "cell_type": "code",
   "execution_count": 11,
   "metadata": {},
   "outputs": [],
   "source": [
    "# Read metadata csv\n",
    "raw_df = pd.read_csv(base_dir + 'meta.csv')\n",
    "\n",
    "# remove all rows which have level2 == NaN\n",
    "plankton_df = raw_df[~raw_df['level2'].isna()]\n",
    "\n",
    "# cast objid to int32\n",
    "plankton_df['objid'] = plankton_df['objid'].astype('int32', errors='ignore')\n",
    "\n",
    "# keep just useful columns for the training phase (id, target)\n",
    "plankton_df = plankton_df[['objid', 'level2']]"
   ]
  },
  {
   "cell_type": "markdown",
   "metadata": {},
   "source": [
    "#### Class Unbalancy analysis"
   ]
  },
  {
   "cell_type": "markdown",
   "metadata": {},
   "source": [
    "Classification problems tend to be easier when the labels are uniformly distributed across all possible classes. The code below plot the number of objects for each class, i.e. belonging species for each plankton image."
   ]
  },
  {
   "cell_type": "code",
   "execution_count": 12,
   "metadata": {},
   "outputs": [
    {
     "data": {
      "image/png": "[encoded data removed]",
      "text/plain": [
       "<Figure size 2160x504 with 1 Axes>"
      ]
     },
     "metadata": {
      "needs_background": "light"
     },
     "output_type": "display_data"
    }
   ],
   "source": [
    "count_per_class = plankton_df.groupby('level2')['level2'].count().reset_index(name='count').sort_values(['count'], ascending=False)\n",
    "\n",
    "# print distribution of classes in the dataset\n",
    "fig, ax = plt.subplots(figsize=(30, 7))\n",
    "sns.countplot(x='level2', data=plankton_df, orient='v', ax=ax)\n",
    "ax.set_xticklabels(ax.get_xticklabels(), rotation=40, ha=\"right\")\n",
    "\n",
    "plt.show()"
   ]
  },
  {
   "cell_type": "markdown",
   "metadata": {},
   "source": [
    "The graph below shows the number of samples per class **without** detritus ones which are the most common."
   ]
  },
  {
   "cell_type": "code",
   "execution_count": 13,
   "metadata": {},
   "outputs": [
    {
     "data": {
      "image/png": "[encoded data removed]",
      "text/plain": [
       "<Figure size 2160x504 with 1 Axes>"
      ]
     },
     "metadata": {
      "needs_background": "light"
     },
     "output_type": "display_data"
    }
   ],
   "source": [
    "no_detritus_df = plankton_df[plankton_df['level2'] != 'detritus']\n",
    "\n",
    "# print distribution of classes in the dataset\n",
    "fig, ax = plt.subplots(figsize=(30, 7))\n",
    "sns.countplot(x='level2', data=no_detritus_df, orient='v', ax=ax)\n",
    "ax.set_xticklabels(ax.get_xticklabels(), rotation=40, ha=\"right\")\n",
    "\n",
    "plt.show()"
   ]
  },
  {
   "cell_type": "markdown",
   "metadata": {},
   "source": [
    "This is a clear example of **very** unbalanced dataset. It means that this issue should be treated carefully in the model selection. Without any adjustment, every model trained would be too biased towards the classification of detritus."
   ]
  },
  {
   "cell_type": "markdown",
   "metadata": {},
   "source": [
    "## 2. Data Pre-Processing"
   ]
  },
  {
   "cell_type": "markdown",
   "metadata": {},
   "source": [
    "The image dataset is composed by different dimension images. This issue is addressed throught a careful analysis of the ***metrix*** of the sizes: width, height and area."
   ]
  },
  {
   "cell_type": "markdown",
   "metadata": {},
   "source": [
    "### Image size analysis"
   ]
  },
  {
   "cell_type": "markdown",
   "metadata": {},
   "source": [
    "Due to the fully-connected layers (that usually come after the convolutional ones), the input needs to have a fixed dimension. Generally CNNs require **equal size** images, and the dataset contains images with different sizes."
   ]
  },
  {
   "cell_type": "code",
   "execution_count": 15,
   "metadata": {},
   "outputs": [],
   "source": [
    "# Extract images in memory\n",
    "img_files = extract_zip_to_memory(base_dir + 'imgs.zip')"
   ]
  },
  {
   "cell_type": "markdown",
   "metadata": {},
   "source": [
    "The shape of each image is stored into a numpy array. Mean and Std of sizes are stored into a csv."
   ]
  },
  {
   "cell_type": "code",
   "execution_count": null,
   "metadata": {},
   "outputs": [],
   "source": [
    "shapes = []\n",
    "metadata = pd.read_csv(filepath_or_buffer=base_dir + 'meta.csv')\n",
    "df = pd.DataFrame([], ['name', 'height', 'width', 'area']) #LOOOONG TO RUN\n",
    "\n",
    "for k in tqdm(img_files.keys()):\n",
    "    shape = np.array(Image.open(img_files[k])).shape\n",
    "    shapes.append(shape)\n",
    "    obj = k[5:-4]\n",
    "    val = metadata[metadata['objid'] == int(obj)]['level2'].values[0]\n",
    "    df = df.append({'name': val, 'height': shape[0], 'width': shape[1], 'area': shape[1] * shape[0]}, ignore_index=True)\n",
    "# Convert the list to numpy\n",
    "shapes = np.array(shapes)\n",
    "\n",
    "result = df.groupby(['name'], as_index=False).agg({'height':['mean','std'],'width':['mean','std'], 'area':['mean','std']})"
   ]
  },
  {
   "cell_type": "markdown",
   "metadata": {},
   "source": [
    "In the box below, we computed some relevant statistics related to the dimensions of images such as:\n",
    "<ul>\n",
    "    <li>max</li>\n",
    "    <li>min</li>\n",
    "    <li>mean</li>\n",
    "    <li>median</li>\n",
    "    <li>standard deviation</li>\n",
    "</ul>"
   ]
  },
  {
   "cell_type": "code",
   "execution_count": 19,
   "metadata": {},
   "outputs": [
    {
     "name": "stdout",
     "output_type": "stream",
     "text": [
      "Min x: 2 Max x: 739 Mean x: 109.34 Median x: 87.0 Std x: 71.93\n",
      "Min y: 2 Max y: 972 Mean y: 86.63 Median x: 67.0 Std y: 62.15\n"
     ]
    }
   ],
   "source": [
    "# Compute relevant statistic on width\n",
    "max_x = max(shapes[:, 0])\n",
    "min_x = min(shapes[:, 0])\n",
    "mean_x = np.mean(shapes[:, 0])\n",
    "median_x = np.median(shapes[:, 0])\n",
    "std_x = np.std(shapes[:, 0])\n",
    "\n",
    "# Compute relevant statistic on height\n",
    "max_y = max(shapes[:, 1])\n",
    "min_y = min(shapes[:, 1])\n",
    "mean_y = np.mean(shapes[:, 1])\n",
    "median_y = np.median(shapes[:, 1])\n",
    "std_y = np.std(shapes[:, 1])\n",
    "\n",
    "print(\"Min x: {0} Max x: {1} Mean x: {2} Median x: {3} Std x: {4}\".format(min_x, max_x, round(mean_x, 2), median_x, round(std_x, 2)))\n",
    "print(\"Min y: {0} Max y: {1} Mean y: {2} Median x: {3} Std y: {4}\".format(min_y, max_y, round(mean_y, 2), median_y, round(std_y, 2)))"
   ]
  },
  {
   "cell_type": "markdown",
   "metadata": {},
   "source": [
    "The same statistics are computed on the *area* of each image."
   ]
  },
  {
   "cell_type": "code",
   "execution_count": 25,
   "metadata": {},
   "outputs": [
    {
     "name": "stdout",
     "output_type": "stream",
     "text": [
      "Min area: 12 Max area: 583792 Mean area: 11535.99 Median area: 5776.0 Std area: 19281.31\n"
     ]
    }
   ],
   "source": [
    "areas = shapes[:, 0] * shapes[:, 1]\n",
    "# Compute relevant statistic on width\n",
    "max_a = max(areas)\n",
    "min_a = min(areas)\n",
    "mean_a = np.mean(areas)\n",
    "median_a = np.median(areas)\n",
    "std_a = np.std(areas)\n",
    "\n",
    "print(\"Min area: {0} Max area: {1} Mean area: {2} Median area: {3} Std area: {4}\".format(min_a, max_a, round(mean_a, 2), median_a, round(std_a, 2)))"
   ]
  },
  {
   "cell_type": "markdown",
   "metadata": {},
   "source": [
    "The above analysis concerns the *width* and *height* of images, while below we display as a 2-d density distribution the frequencies of the combination for each possible size"
   ]
  },
  {
   "cell_type": "code",
   "execution_count": 21,
   "metadata": {},
   "outputs": [
    {
     "data": {
      "text/plain": [
       "<seaborn.axisgrid.JointGrid at 0x7f9df5e33978>"
      ]
     },
     "execution_count": 21,
     "metadata": {},
     "output_type": "execute_result"
    },
    {
     "data": {
      "image/png": "[encoded data removed]",
      "text/plain": [
       "<Figure size 432x432 with 3 Axes>"
      ]
     },
     "metadata": {
      "needs_background": "light"
     },
     "output_type": "display_data"
    },
    {
     "data": {
      "image/png": "[encoded data removed]",
      "text/plain": [
       "<Figure size 432x432 with 3 Axes>"
      ]
     },
     "metadata": {
      "needs_background": "light"
     },
     "output_type": "display_data"
    }
   ],
   "source": [
    "d = {'x_size' : shapes[:, 0], 'y_size': shapes[:, 1]}\n",
    "df = pd.DataFrame(d)\n",
    "\n",
    "g = sns.jointplot(x='x_size', y='y_size', data=df, s=0.002);\n",
    "g1 = sns.jointplot(x=df['x_size'], y=df['y_size'], kind=\"hex\", color=\"k\", xlim=250, ylim=250)"
   ]
  },
  {
   "cell_type": "markdown",
   "metadata": {},
   "source": [
    "We then store the metrics computed on the shapes of images for each class into a csv."
   ]
  },
  {
   "cell_type": "code",
   "execution_count": 10,
   "metadata": {},
   "outputs": [],
   "source": [
    "# Reading the csv with the metrics of shape of images for each class\n",
    "df_dimensions = pd.read_csv('./dimensions_per_class.csv')\n",
    "# The column 'name' is set as index\n",
    "df_dimensions = df_dimensions.set_index(['name'])\n",
    "# the method to_csv produced an empty line, so we remove it to avoid errors\n",
    "df_dimensions = df_dimensions[~df_dimensions.index.isna()]\n",
    "# Some value were stored as str, so everything is converted to float\n",
    "df_dimensions = df_dimensions.astype('float')"
   ]
  },
  {
   "cell_type": "code",
   "execution_count": 15,
   "metadata": {},
   "outputs": [],
   "source": [
    "# Dimension of each plot.\n",
    "stnd_dim = (18, 5)"
   ]
  },
  {
   "cell_type": "markdown",
   "metadata": {},
   "source": [
    "### Height, Width and Area\n",
    "The graphs below show the correlations between the sizes of image and the belonging class."
   ]
  },
  {
   "cell_type": "code",
   "execution_count": 14,
   "metadata": {},
   "outputs": [
    {
     "data": {
      "image/png": "[encoded data removed]",
      "text/plain": [
       "<Figure size 1296x360 with 1 Axes>"
      ]
     },
     "metadata": {
      "needs_background": "light"
     },
     "output_type": "display_data"
    }
   ],
   "source": [
    "fig, ax = plt.subplots(figsize=stnd_dim)\n",
    "\n",
    "g = sns.barplot(x=df.index, y=df_dimensions.height)\n",
    "plt.xticks(rotation=70);"
   ]
  },
  {
   "cell_type": "code",
   "execution_count": 84,
   "metadata": {},
   "outputs": [
    {
     "data": {
      "image/png": "[encoded data removed]",
      "text/plain": [
       "<Figure size 1296x360 with 1 Axes>"
      ]
     },
     "metadata": {},
     "output_type": "display_data"
    }
   ],
   "source": [
    "fig, ax = pyplot.subplots(figsize=stnd_dim)\n",
    "\n",
    "g = sns.barplot(x=df.index, y=df_dimensions.width)\n",
    "plt.xticks(rotation=70);"
   ]
  },
  {
   "cell_type": "code",
   "execution_count": 85,
   "metadata": {},
   "outputs": [
    {
     "data": {
      "image/png": "[encoded data removed]",
      "text/plain": [
       "<Figure size 1296x360 with 1 Axes>"
      ]
     },
     "metadata": {},
     "output_type": "display_data"
    }
   ],
   "source": [
    "fig, ax = pyplot.subplots(figsize=stnd_dim)\n",
    "\n",
    "g = sns.barplot(x=df.index, y=df_dimensions.area)\n",
    "plt.xticks(rotation=70);"
   ]
  },
  {
   "cell_type": "markdown",
   "metadata": {},
   "source": [
    "The graph below shows instead the **standard deviation** of the areas of images of each class. The interesting thing to notice is that some species show a very low std, this means that hypotetically some specie have an images whose dimensions range across a tight interval."
   ]
  },
  {
   "cell_type": "code",
   "execution_count": 86,
   "metadata": {},
   "outputs": [
    {
     "data": {
      "image/png": "[encoded data removed]",
      "text/plain": [
       "<Figure size 1296x360 with 1 Axes>"
      ]
     },
     "metadata": {},
     "output_type": "display_data"
    }
   ],
   "source": [
    "fig, ax = pyplot.subplots(figsize=stnd_dim)\n",
    "\n",
    "g = sns.barplot(x=df.index, y=df_dimensions['area.1'])\n",
    "plt.xticks(rotation=70);"
   ]
  },
  {
   "cell_type": "markdown",
   "metadata": {},
   "source": [
    "### Comments on the image dimensions analysis\n",
    "This analysis shows that that the majority of the images have both width and height around 50 pixel. Nevertheless, medians and means of both are above this value. Moreover, the **median** of the area is 5776 which diverges from the the **mean** value which is 11536. In fact, is possible to notice a relatively high value of standard devation.\n",
    "\n",
    "We chose to reformat each image to **64x64** since we believe it is a good tradeoff to follow the distribution of high, width and area to the images. The resizing is not perfomed statically as the dataset would occupy too much space. We mantain the aspect ratio for all the images, inserting white bars to complete the square shape.\n",
    "\n",
    "Moreover, since the statics above show interessing correlations between size and class, we decided keep these information in order to exploit potiential correlations in the final model."
   ]
  },
  {
   "cell_type": "markdown",
   "metadata": {},
   "source": [
    "## 3. Model Selection"
   ]
  },
  {
   "cell_type": "markdown",
   "metadata": {},
   "source": [
    "### Classification strategies\n",
    "To tackle the issue of an unbalanced dataset, we deploy two main stategies:\n",
    "<ul>\n",
    "    <li><i>weighted loss function</i>, which gives more importance to errors made on classes with a small cardinality.</li>\n",
    "    <li><i>weighted sampler</i>, instead, samples image <b>uniformly</b> for each class. It means that for each minibatch there will be an equal amount of classes.</li>\n",
    "</ul> "
   ]
  },
  {
   "cell_type": "code",
   "execution_count": 16,
   "metadata": {},
   "outputs": [],
   "source": [
    "# Generating weights to be applied to the loss function\n",
    "def weight_gen(x):\n",
    "    x['count'] =  (1./100) * len(plankton_df) / int(x['count'])\n",
    "    return x\n",
    "\n",
    "pand_dict = count_per_class.apply(weight_gen, axis=1).to_dict()\n",
    "mapper = []\n",
    "\n",
    "for i, k in enumerate(pand_dict['level2'].items()):\n",
    "    mapper.append((k[1], pand_dict['count'][k[0]]))\n",
    "\n",
    "mapper = sorted(mapper, key=lambda x: x[1])\n",
    "\n",
    "d_mapping = {}\n",
    "for i, val in enumerate(mapper):\n",
    "    d_mapping[val[0]] = (i, val[1])"
   ]
  },
  {
   "cell_type": "markdown",
   "metadata": {},
   "source": [
    "As targets are represented as strings, we found useful to map these labels to an integer value."
   ]
  },
  {
   "cell_type": "code",
   "execution_count": 17,
   "metadata": {},
   "outputs": [],
   "source": [
    "# generic mapping\n",
    "distinct_plankton_labels = set(plankton_df['level2'].unique())\n",
    "label_mapping = { e:d_mapping[e][0] for e in distinct_plankton_labels }"
   ]
  },
  {
   "cell_type": "code",
   "execution_count": 18,
   "metadata": {},
   "outputs": [],
   "source": [
    "# mapping without considering 'detritus'\n",
    "distinct_plankton_labels.remove('detritus')\n",
    "no_detritus_label_mapping = { e:d_mapping[e][0] - 1 for e in distinct_plankton_labels}"
   ]
  },
  {
   "cell_type": "markdown",
   "metadata": {},
   "source": [
    "To choose among different models and hyperparameters we use Stratified K-Fold validation.<br>\n",
    "The stratified version of this algorithm allows to have in each fold the same class distributions as in the original dataset."
   ]
  },
  {
   "cell_type": "markdown",
   "metadata": {},
   "source": [
    "## Bulding the model\n",
    "We address the plankton classification using several *CNNs*. Nevertheless, since as we stated before the image dimensions and the plankton class seem to be correlated someway, we inject the sizes of images as addictional input into the the fully connected layer. This technique is alled *feature injection of handcrafted features*, further information can be found here [1]. Since our shape analysis shows that width heigth and area range across large intervals, we chose to inject the ***log*** of those values, divided by the value of the log of the maximum value for that dimension, to smooth the differences among different values.\n",
    "\n",
    "Tests have shown that our model indeed achives higher accuracy if we inject such additional informations. We have therefore also considered the opportunity of injecting the handcrafted features present in the 'native_features' file, however we chose to go for the development of a fully autonomous system, avoiding the cost of manual preprocessing. However, domain knowledge could help in selecting few features cost-effective to manually process and able to improve the accuracy further if injected. \n",
    "\n",
    "Regarding the CNN, we have tested different architectures, both narrow and large, following also two different strategies: hierarchical classification (separating detritus and non-detritus first, then classifying the non-detritus) and overall classification (everything in one step). We show the results of some of them below."
   ]
  },
  {
   "cell_type": "code",
   "execution_count": 27,
   "metadata": {},
   "outputs": [],
   "source": [
    "# Hierarchical Classifiers\n",
    "# Classify the image telling wheter the label of the image is detritus or not.\n",
    "class DetritusModel(nn.Module):\n",
    "    def __init__(self, injection_dim=3):\n",
    "        self.inj_d = injection_dim \n",
    "        super(DetritusModel, self).__init__()\n",
    "        self.conv1 = nn.Conv2d(1, 8, kernel_size=5)\n",
    "        self.conv2 = nn.Conv2d(8, 16, kernel_size=5)\n",
    "        self.conv3 = nn.Conv2d(16, 20, kernel_size=5)\n",
    "        \n",
    "        self.fc1 = nn.Linear(20*9*9 + injection_dim, 700)\n",
    "        self.fc2 = nn.Linear(700, 300)\n",
    "        self.fc3 = nn.Linear(300, 40)\n",
    "        self.fc4 = nn.Linear(40, 2)\n",
    "\n",
    "    def forward(self, image, inj_features):\n",
    "        # Separate Injected features and Image\n",
    "        x = image\n",
    "        x_inject = inj_features\n",
    "        x = F.relu(F.max_pool2d(self.conv1(x), 2))\n",
    "        x = F.relu(F.max_pool2d(self.conv2(x), 2))\n",
    "        x = F.relu(self.conv3(x))\n",
    "        x = x.view(-1, 20*9*9)\n",
    "        x = torch.cat((x, x_inject), 1)\n",
    "        x = F.relu(self.fc1(x))\n",
    "        x = F.dropout(x, training=self.training)\n",
    "        x = F.relu(self.fc2(x))\n",
    "        x = F.relu(self.fc3(x))\n",
    "        x = F.dropout(x, training=self.training)\n",
    "        x = F.log_softmax(self.fc4(x))\n",
    "        return x\n",
    "\n",
    "# Classification done on all the dataset except detritus images\n",
    "class NonDetritusModel(nn.Module):\n",
    "    def __init__(self, injection_dim=3):\n",
    "        self.inj_d = injection_dim \n",
    "        super(NonDetritusModel, self).__init__()\n",
    "        self.conv1 = nn.Conv2d(1, 8, kernel_size=5)\n",
    "        self.conv2 = nn.Conv2d(8, 16, kernel_size=5)\n",
    "        self.conv3 = nn.Conv2d(16, 20, kernel_size=5)\n",
    "        \n",
    "        self.fc1 = nn.Linear(20*9*9 + injection_dim, 700)\n",
    "        self.fc2 = nn.Linear(700, 300)\n",
    "        self.fc3 = nn.Linear(300, 38)\n",
    "\n",
    "    def forward(self, image, inj_features):\n",
    "        # Separate Injected features and Image\n",
    "        x = image\n",
    "        x_inject = inj_features\n",
    "        x = F.relu(F.max_pool2d(self.conv1(x), 2))\n",
    "        x = F.relu(F.max_pool2d(self.conv2(x), 2))\n",
    "        x = F.relu(self.conv3(x))\n",
    "        x = x.view(-1, 20*9*9)\n",
    "        x = torch.cat((x, x_inject), 1)\n",
    "        x = F.relu(self.fc1(x))\n",
    "        x = F.dropout(x, training=self.training)\n",
    "        x = F.relu(self.fc2(x))\n",
    "        x = F.log_softmax(self.fc3(x))\n",
    "        return x"
   ]
  },
  {
   "cell_type": "code",
   "execution_count": 28,
   "metadata": {},
   "outputs": [],
   "source": [
    "# Overall model\n",
    "class PlanktonModel(nn.Module):\n",
    "    def __init__(self, injection_dim=3):\n",
    "        self.inj_d = injection_dim \n",
    "        super(PlanktonModel, self).__init__()\n",
    "        self.conv1 = nn.Conv2d(1, 8, kernel_size=5)\n",
    "        self.conv2 = nn.Conv2d(8, 16, kernel_size=5)\n",
    "        self.conv3 = nn.Conv2d(16, 20, kernel_size=5)\n",
    "        \n",
    "        self.fc1 = nn.Linear(20*9*9 + injection_dim, 700)\n",
    "        self.fc2 = nn.Linear(700, 300)\n",
    "        self.fc3 = nn.Linear(300, 39)\n",
    "\n",
    "    def forward(self, image, inj_features):\n",
    "        # Separate Injected features and Image\n",
    "        x = image\n",
    "        x_inject = inj_features\n",
    "        x = F.relu(F.max_pool2d(self.conv1(x), 2))\n",
    "        x = F.relu(F.max_pool2d(self.conv2(x), 2))\n",
    "        x = F.relu(self.conv3(x))\n",
    "        x = x.view(-1, 20*9*9)\n",
    "        x = torch.cat((x, x_inject), 1)\n",
    "        x = F.relu(self.fc1(x))\n",
    "        x = F.dropout(x, training=self.training)\n",
    "        x = F.relu(self.fc2(x))\n",
    "        x = F.dropout(x, training=self.training)\n",
    "        x = F.log_softmax(self.fc3(x))\n",
    "        return x"
   ]
  },
  {
   "cell_type": "code",
   "execution_count": 29,
   "metadata": {},
   "outputs": [],
   "source": [
    "# Overall Model, smaller\n",
    "class PlanktonsSmallModel(nn.Module):\n",
    "    def __init__(self, injection_dim=3):\n",
    "        self.inj_d = injection_dim \n",
    "        super(PlanktonsSmallModel, self).__init__()\n",
    "        self.conv1 = nn.Conv2d(1, 6, kernel_size=5)\n",
    "        self.conv2 = nn.Conv2d(6, 12, kernel_size=5)\n",
    "        self.conv3 = nn.Conv2d(12, 16, kernel_size=5)\n",
    "        \n",
    "        self.fc1 = nn.Linear(16*9*9 + injection_dim, 400)\n",
    "        self.fc2 = nn.Linear(400, 200)\n",
    "        self.fc3 = nn.Linear(200, 39)\n",
    "\n",
    "    def forward(self, image, inj_features):\n",
    "        # Separate Injected features and Image\n",
    "        x = image\n",
    "        x_inject = inj_features\n",
    "        x = F.relu(F.max_pool2d(self.conv1(x), 2))\n",
    "        x = F.relu(F.max_pool2d(self.conv2(x), 2))\n",
    "        x = F.relu(self.conv3(x))\n",
    "        x = x.view(-1, 16*9*9)\n",
    "        x = torch.cat((x, x_inject), 1)\n",
    "        x = F.relu(self.fc1(x))\n",
    "        x = F.dropout(x, training=self.training)\n",
    "        x = F.relu(self.fc2(x))\n",
    "        x = F.dropout(x, training=self.training)\n",
    "        x = F.log_softmax(self.fc3(x))\n",
    "        return x"
   ]
  },
  {
   "cell_type": "markdown",
   "metadata": {},
   "source": [
    "The *PlanktonDataset* class is a implementation of the *Dataset* class of PyTorch. Our customized version allows to **inject** the shape of image as a feature. "
   ]
  },
  {
   "cell_type": "code",
   "execution_count": 30,
   "metadata": {},
   "outputs": [],
   "source": [
    "class PlanktonDataset(Dataset):\n",
    "    \"\"\"Plankton dataset.\"\"\"\n",
    "\n",
    "    def __init__(self, X, y, img_files, label_mapping=None, transform=None, single_output=False):\n",
    "        \"\"\"\n",
    "        Args:\n",
    "            X, y: inputs, targets as np array\n",
    "            img_files: Dictionary of images\n",
    "            label_mapping: Dictionary which defines how to map label from string to int\n",
    "            transform (callable, optional): Optional transform to be applied\n",
    "                on a sample.\n",
    "        \"\"\"\n",
    "        \n",
    "        self.inputs = X\n",
    "        self.targets = y\n",
    "        self.img_files = img_files\n",
    "        self.label_mapping = label_mapping\n",
    "        self.transform = transform\n",
    "        self.single_output = single_output\n",
    "\n",
    "    def __len__(self):\n",
    "        return len(self.inputs)\n",
    "\n",
    "    def __getitem__(self, idx):\n",
    "        if isinstance(idx, torch.Tensor):\n",
    "            idx = idx.item()\n",
    "        img_name = 'imgs/' + str(self.inputs[idx]) + '.jpg'\n",
    "        image = Image.open(self.img_files[img_name])\n",
    "        \n",
    "        label = self.targets[idx]\n",
    "        \n",
    "        # map target into an int\n",
    "        if self.label_mapping != None:\n",
    "            target = self.label_mapping[label]\n",
    "            \n",
    "        # we use MSELoss to compute error on a single output and this loss function requires a tensor of type float\n",
    "        if self.single_output:\n",
    "            label = torch.tensor([target], dtype=torch.float32)\n",
    "        else:\n",
    "            label = torch.tensor(target, dtype=torch.long)\n",
    "        \n",
    "        # feature injection (real size of the image before transformation)\n",
    "        real_w, real_h = image.size\n",
    "        # 6.6 is the log of max_height, 6.88 is the log ....\n",
    "        log_values = [log(real_w) / 6.6, log(real_h) / 6.88, log(real_w * real_h) / 13.28]\n",
    "\n",
    "        if self.transform:\n",
    "            image = self.transform(image)\n",
    "\n",
    "        sample = {'image': image, 'inj_features': torch.tensor(log_values, dtype=torch.float), 'label': label, 'objid' : self.inputs[idx]}\n",
    "        return sample"
   ]
  },
  {
   "cell_type": "markdown",
   "metadata": {},
   "source": [
    "We split the dataframe in training set and validation set, **maintaining** the distribution of classes in both dataset. Since the class the class are quite unbalanced, this approach improves consistently the efficency of the model."
   ]
  },
  {
   "cell_type": "code",
   "execution_count": 23,
   "metadata": {},
   "outputs": [],
   "source": [
    "X_ = plankton_df['objid']\n",
    "y_ = plankton_df['level2']\n",
    "\n",
    "X_train, X_test, y_train, y_test = train_test_split(X_, y_, test_size=0.15, stratify=y_)"
   ]
  },
  {
   "cell_type": "markdown",
   "metadata": {},
   "source": [
    "The class distribution are checked and displayed."
   ]
  },
  {
   "cell_type": "code",
   "execution_count": 23,
   "metadata": {},
   "outputs": [
    {
     "data": {
      "image/png": "[encoded data removed]",
      "text/plain": [
       "<Figure size 1440x360 with 2 Axes>"
      ]
     },
     "metadata": {},
     "output_type": "display_data"
    }
   ],
   "source": [
    "# Check distribution of classes in both train and validation sets\n",
    "fig, ax = plt.subplots(ncols=2, figsize=(20, 5))\n",
    "sns.distplot(y_train.map(label_mapping), ax=ax[0])\n",
    "sns.distplot(y_test.map(label_mapping), ax=ax[1])\n",
    "ax[0].set_title('Training distribution')\n",
    "ax[1].set_title('Validation distribution')\n",
    "plt.show()"
   ]
  },
  {
   "cell_type": "markdown",
   "metadata": {},
   "source": [
    "The DataLoader is a PyTorch auxiliary class that allows to forward the batches to the model. As we saw before, the dataset labels are quite unbalanced, so the dataloader follows essentially two criterias:\n",
    "- Transform randomly the images, with a probability of 0.5 both to be flipped orizontally, vertically or rotated. Conseguently the data loader will generate 8 potential images for each sample\n",
    "- Weight the selection of samples for each class.\n",
    "\n",
    "We would like to have a good score on the **average accuracy per class**. So the idea is that we want to minimize the F score. Because the model should be good to recognize every class.\n",
    "\n",
    "##### Funny fact\n",
    "It would be possible to achieve 65% accuracy with a model stating simply *it is a detritus*."
   ]
  },
  {
   "cell_type": "markdown",
   "metadata": {},
   "source": [
    "##### Transformations"
   ]
  },
  {
   "cell_type": "code",
   "execution_count": 31,
   "metadata": {},
   "outputs": [],
   "source": [
    "# Tranformations\n",
    "# transformations to apply to training set\n",
    "training_transformations = transforms.Compose([\n",
    "                                               ResizeSquare(64),\n",
    "                                               transforms.RandomHorizontalFlip(),\n",
    "                                               transforms.RandomVerticalFlip(),\n",
    "                                                transforms.RandomRotation([-90, +90]),\n",
    "                                               ToTensor()\n",
    "                                           ])\n",
    "\n",
    "# transformations to apply to test/validation set\n",
    "test_transformations = transforms.Compose([\n",
    "                                   ResizeSquare(64),\n",
    "                                   ToTensor()\n",
    "                                ])"
   ]
  },
  {
   "cell_type": "code",
   "execution_count": 25,
   "metadata": {},
   "outputs": [],
   "source": [
    "skf = StratifiedKFold(n_splits=10)"
   ]
  },
  {
   "cell_type": "code",
   "execution_count": 26,
   "metadata": {},
   "outputs": [],
   "source": [
    "k_fold_split = skf.split(X_train, y_train)"
   ]
  },
  {
   "cell_type": "markdown",
   "metadata": {},
   "source": [
    "### Overall classification"
   ]
  },
  {
   "cell_type": "markdown",
   "metadata": {},
   "source": [
    "#### Overall classification - 'PlanktonModel' with Weighted Sampler"
   ]
  },
  {
   "cell_type": "markdown",
   "metadata": {},
   "source": [
    "As stated before, we draw each sample with a probability depending on its class. This probability is computed upon weights, defined as the cardinality of the entire dataset divided by the number of samples in the specific class. This means that, as the class gets less items, the probability of drawing its samples grows."
   ]
  },
  {
   "cell_type": "code",
   "execution_count": 40,
   "metadata": {},
   "outputs": [],
   "source": [
    "train_idx, val_idx = next(k_fold_split)\n",
    "\n",
    "# weights for weighted random sampler\n",
    "# weights_df = plankton_df[plankton_df['objid'].isin(X_train.values[train_idx])] # assign weights only to samples in the training set\n",
    "weights_df = pd.DataFrame({'objid':X_train.values[train_idx], 'level2': y_train.values[train_idx]})\n",
    "weights_df['level2'] = weights_df['level2'].map(label_mapping)\n",
    "weights_df['count'] = weights_df.groupby('level2')['level2'].transform('count')\n",
    "weights_df['count'] = len(weights_df) / weights_df['count']\n",
    "weights = weights_df['count'].values\n",
    "weights = torch.DoubleTensor(weights)\n",
    "detritus_wrs = torch.utils.data.sampler.WeightedRandomSampler(weights, len(weights))\n",
    "\n",
    "plank_train_dataset = PlanktonDataset(X_train.values[train_idx], y_train.values[train_idx],\n",
    "                                        img_files = img_files,\n",
    "                                        label_mapping = label_mapping,\n",
    "                                        transform = training_transformations,\n",
    "                                        )\n",
    "plank_train_dataloader = DataLoader(plank_train_dataset, batch_size=128, sampler=detritus_wrs, num_workers=4)\n",
    "\n",
    "plank_val_dataset = PlanktonDataset(X_train.values[val_idx], y_train.values[val_idx],\n",
    "                                        img_files = img_files,\n",
    "                                        label_mapping = label_mapping,\n",
    "                                        transform = test_transformations,\n",
    "                                        )\n",
    "plank_val_dataloader = DataLoader(plank_val_dataset, batch_size=128, num_workers=4)"
   ]
  },
  {
   "cell_type": "code",
   "execution_count": null,
   "metadata": {},
   "outputs": [],
   "source": [
    "### Training of the model with weighted sampler\n",
    "\n",
    "plank_model = PlanktonModel().to(device)\n",
    "plank_model.zero_grad()\n",
    "plank_model.train()\n",
    "\n",
    "loss_function = nn.NLLLoss()\n",
    "\n",
    "# Confusions matrix analysis\n",
    "n_classes = 39\n",
    "\n",
    "optimizer = torch.optim.Adam(plank_model.parameters())\n",
    "\n",
    "test_loss_values = []\n",
    "train_loss_values = []\n",
    "\n",
    "epoch = 15\n",
    "\n",
    "for e in range(epoch):\n",
    "    # training\n",
    "    avg_loss = train_model(plank_train_dataloader, plank_model, optimizer, loss_function)\n",
    "\n",
    "    correct, confusion_matrix, accuracies, avg_loss_test = test_model(plank_val_dataloader, plank_model, loss_function, n_classes)\n",
    "    mean_accuracy = np.mean(accuracies)\n",
    "    accuracy = correct / len(val_idx)\n",
    "    \n",
    "    print(\"Epoch {0}. Accuracy: {1}. Mean Accuracy: {2}. Avg Loss train: {3}. Avg Loss test: {4}\".format(e + 1, round(accuracy, 4), mean_accuracy, avg_loss, avg_loss_test))\n",
    "    test_loss_values.append(avg_loss_test)\n",
    "    train_loss_values.append(avg_loss)\n",
    "    \n",
    "    \n",
    "df = pd.DataFrame({'x': range(1, epoch + 1), 'train': train_loss_values, 'test': test_loss_values})\n",
    "for column in df.drop('x', axis=1):\n",
    "    plt.plot(df['x'], df[column], label=column)\n",
    "\n",
    "plt.show()"
   ]
  },
  {
   "cell_type": "markdown",
   "metadata": {},
   "source": [
    "#### Overall classification - 'SmallPlanktonModel' with Weighted Sampler"
   ]
  },
  {
   "cell_type": "markdown",
   "metadata": {},
   "source": [
    "This is a smaller, reduced, model: bigger models have higher classification power, but are more computationally expensive and prone to overfitting. Therefore, whenever possible, a simpler model should be preferred."
   ]
  },
  {
   "cell_type": "code",
   "execution_count": 28,
   "metadata": {},
   "outputs": [],
   "source": [
    "train_idx, val_idx = next(k_fold_split)\n",
    "\n",
    "#\n",
    "weights_df = pd.DataFrame({'objid':X_train.values[train_idx], 'level2': y_train.values[train_idx]})\n",
    "weights_df['level2'] = weights_df['level2'].map(label_mapping)\n",
    "weights_df['count'] = weights_df.groupby('level2')['level2'].transform('count')\n",
    "weights_df['count'] = len(weights_df) / weights_df['count']\n",
    "weights = weights_df['count'].values\n",
    "weights = torch.DoubleTensor(weights)\n",
    "detritus_wrs = torch.utils.data.sampler.WeightedRandomSampler(weights, len(weights))\n",
    "#\n",
    "\n",
    "plank_sm_train_dataset = PlanktonDataset(X_train.values[train_idx], y_train.values[train_idx],\n",
    "                                        img_files = img_files,\n",
    "                                        label_mapping = label_mapping,\n",
    "                                        transform = training_transformations,\n",
    "                                        )\n",
    "plank_sm_train_dataloader = DataLoader(plank_sm_train_dataset, batch_size=128, sampler=detritus_wrs, num_workers=4)\n",
    "\n",
    "plank_sm_val_dataset = PlanktonDataset(X_train.values[val_idx], y_train.values[val_idx],\n",
    "                                        img_files = img_files,\n",
    "                                        label_mapping = label_mapping,\n",
    "                                        transform = test_transformations,\n",
    "                                        )\n",
    "plank_sm_val_dataloader = DataLoader(plank_sm_val_dataset, batch_size=128, num_workers=4)"
   ]
  },
  {
   "cell_type": "code",
   "execution_count": 35,
   "metadata": {},
   "outputs": [
    {
     "name": "stderr",
     "output_type": "stream",
     "text": [
      "1450it [02:41,  9.00it/s]\n",
      "162it [00:05, 27.36it/s]"
     ]
    },
    {
     "name": "stdout",
     "output_type": "stream",
     "text": [
      "Epoch 1. Accuracy: 0.6676. Mean Accuracy: 9.47894815296881. Avg Loss train: 1.2986705993783885. Avg Loss test: 1.1713964519677338\n"
     ]
    },
    {
     "name": "stderr",
     "output_type": "stream",
     "text": [
      "\n",
      "1450it [02:39,  9.07it/s]\n",
      "162it [00:05, 27.05it/s]"
     ]
    },
    {
     "name": "stdout",
     "output_type": "stream",
     "text": [
      "Epoch 2. Accuracy: 0.6868. Mean Accuracy: 12.171341468325595. Avg Loss train: 1.0395303493121575. Avg Loss test: 1.094032359711918\n"
     ]
    },
    {
     "name": "stderr",
     "output_type": "stream",
     "text": [
      "\n",
      "1450it [02:38,  9.16it/s]\n",
      "162it [00:06, 26.69it/s]"
     ]
    },
    {
     "name": "stdout",
     "output_type": "stream",
     "text": [
      "Epoch 3. Accuracy: 0.7134. Mean Accuracy: 16.825554538972373. Avg Loss train: 0.9385227339843224. Avg Loss test: 0.9917627716505969\n"
     ]
    },
    {
     "name": "stderr",
     "output_type": "stream",
     "text": [
      "\n",
      "1450it [02:41,  9.19it/s]\n",
      "162it [00:07, 22.31it/s]"
     ]
    },
    {
     "name": "stdout",
     "output_type": "stream",
     "text": [
      "Epoch 4. Accuracy: 0.723. Mean Accuracy: 17.798958172773894. Avg Loss train: 0.8672228201915478. Avg Loss test: 0.9402359731403398\n"
     ]
    },
    {
     "name": "stderr",
     "output_type": "stream",
     "text": [
      "\n",
      "1450it [02:38,  9.14it/s]\n",
      "162it [00:06, 26.65it/s]"
     ]
    },
    {
     "name": "stdout",
     "output_type": "stream",
     "text": [
      "Epoch 5. Accuracy: 0.7323. Mean Accuracy: 18.57218973552526. Avg Loss train: 0.8210183883124385. Avg Loss test: 0.9138955146442225\n"
     ]
    },
    {
     "name": "stderr",
     "output_type": "stream",
     "text": [
      "\n",
      "1450it [02:40,  9.02it/s]\n",
      "162it [00:07, 22.50it/s]"
     ]
    },
    {
     "name": "stdout",
     "output_type": "stream",
     "text": [
      "Epoch 6. Accuracy: 0.739. Mean Accuracy: 19.033984067161917. Avg Loss train: 0.7932467750845285. Avg Loss test: 0.8908588908336781\n"
     ]
    },
    {
     "name": "stderr",
     "output_type": "stream",
     "text": [
      "\n",
      "1450it [02:40,  9.04it/s]\n",
      "162it [00:06, 26.78it/s]"
     ]
    },
    {
     "name": "stdout",
     "output_type": "stream",
     "text": [
      "Epoch 7. Accuracy: 0.7459. Mean Accuracy: 21.00097147271517. Avg Loss train: 0.763611080399875. Avg Loss test: 0.8529425200856762\n"
     ]
    },
    {
     "name": "stderr",
     "output_type": "stream",
     "text": [
      "\n",
      "1450it [02:42,  8.94it/s]\n",
      "162it [00:06, 24.61it/s]"
     ]
    },
    {
     "name": "stdout",
     "output_type": "stream",
     "text": [
      "Epoch 8. Accuracy: 0.7434. Mean Accuracy: 21.299415976834. Avg Loss train: 0.7490888763912793. Avg Loss test: 0.8498957127700617\n"
     ]
    },
    {
     "name": "stderr",
     "output_type": "stream",
     "text": [
      "\n",
      "1450it [02:38,  9.14it/s]\n",
      "162it [00:06, 26.51it/s]"
     ]
    },
    {
     "name": "stdout",
     "output_type": "stream",
     "text": [
      "Epoch 9. Accuracy: 0.7446. Mean Accuracy: 22.601972656216574. Avg Loss train: 0.7310076013515735. Avg Loss test: 0.8470678520791325\n"
     ]
    },
    {
     "name": "stderr",
     "output_type": "stream",
     "text": [
      "\n",
      "1450it [02:40,  9.02it/s]\n",
      "162it [00:06, 23.37it/s]"
     ]
    },
    {
     "name": "stdout",
     "output_type": "stream",
     "text": [
      "Epoch 10. Accuracy: 0.743. Mean Accuracy: 22.346833237133087. Avg Loss train: 0.7266201605467961. Avg Loss test: 0.854882624414232\n"
     ]
    },
    {
     "name": "stderr",
     "output_type": "stream",
     "text": [
      "\n",
      "1450it [02:36,  9.24it/s]\n",
      "162it [00:06, 25.37it/s]"
     ]
    },
    {
     "name": "stdout",
     "output_type": "stream",
     "text": [
      "Epoch 11. Accuracy: 0.7433. Mean Accuracy: 20.757246466152885. Avg Loss train: 0.716705159051665. Avg Loss test: 0.8643676520865641\n"
     ]
    },
    {
     "name": "stderr",
     "output_type": "stream",
     "text": [
      "\n",
      "1450it [02:39,  9.12it/s]\n",
      "162it [00:06, 23.93it/s]"
     ]
    },
    {
     "name": "stdout",
     "output_type": "stream",
     "text": [
      "Epoch 12. Accuracy: 0.7576. Mean Accuracy: 22.453313775404897. Avg Loss train: 0.7047527396062325. Avg Loss test: 0.8127363469497657\n"
     ]
    },
    {
     "name": "stderr",
     "output_type": "stream",
     "text": [
      "\n",
      "1450it [02:39,  9.51it/s]\n",
      "162it [00:06, 25.15it/s]\n"
     ]
    },
    {
     "name": "stdout",
     "output_type": "stream",
     "text": [
      "Epoch 13. Accuracy: 0.752. Mean Accuracy: 24.144562871434218. Avg Loss train: 0.6919907714375134. Avg Loss test: 0.8209265426353172\n"
     ]
    },
    {
     "name": "stderr",
     "output_type": "stream",
     "text": [
      "1450it [02:39,  9.10it/s]\n",
      "162it [00:06, 23.40it/s]"
     ]
    },
    {
     "name": "stdout",
     "output_type": "stream",
     "text": [
      "Epoch 14. Accuracy: 0.7555. Mean Accuracy: 24.994932466085636. Avg Loss train: 0.6940021413564682. Avg Loss test: 0.8244657531196689\n"
     ]
    },
    {
     "name": "stderr",
     "output_type": "stream",
     "text": [
      "\n",
      "1450it [02:39,  9.08it/s]\n",
      "162it [00:06, 25.41it/s]"
     ]
    },
    {
     "name": "stdout",
     "output_type": "stream",
     "text": [
      "Epoch 15. Accuracy: 0.7636. Mean Accuracy: 24.26106255206418. Avg Loss train: 0.6840909641158992. Avg Loss test: 0.802736430256455\n"
     ]
    },
    {
     "name": "stderr",
     "output_type": "stream",
     "text": [
      "\n"
     ]
    }
   ],
   "source": [
    "### Training of the model with weighted sampler\n",
    "\n",
    "plank_sm_model = PlanktonsSmallModel().to(device)\n",
    "plank_sm_model.zero_grad()\n",
    "plank_sm_model.train()\n",
    "\n",
    "loss_function = nn.NLLLoss()\n",
    "\n",
    "# Confusions matrix analysis\n",
    "n_classes = 39\n",
    "\n",
    "optimizer = torch.optim.Adam(plank_sm_model.parameters())\n",
    "\n",
    "test_loss_values = []\n",
    "train_loss_values = []\n",
    "\n",
    "epoch = 15\n",
    "\n",
    "for e in range(epoch):\n",
    "    # training\n",
    "    avg_loss = train_model(plank_sm_train_dataloader, plank_sm_model, optimizer, loss_function)\n",
    "\n",
    "    correct, confusion_matrix, accuracies, avg_loss_test = test_model(plank_sm_val_dataloader, plank_sm_model, loss_function, n_classes)\n",
    "    mean_accuracy = np.mean(accuracies)\n",
    "    accuracy = correct / len(val_idx)\n",
    "    \n",
    "    print(\"Epoch {0}. Accuracy: {1}. Mean Accuracy: {2}. Avg Loss train: {3}. Avg Loss test: {4}\".format(e + 1, round(accuracy, 4), mean_accuracy, avg_loss, avg_loss_test))\n",
    "    test_loss_values.append(avg_loss_test)\n",
    "    train_loss_values.append(avg_loss)"
   ]
  },
  {
   "cell_type": "code",
   "execution_count": 37,
   "metadata": {},
   "outputs": [
    {
     "data": {
      "image/png": "[encoded data removed]",
      "text/plain": [
       "<Figure size 432x288 with 1 Axes>"
      ]
     },
     "metadata": {
      "needs_background": "light"
     },
     "output_type": "display_data"
    }
   ],
   "source": [
    "# plot accuracy graph\n",
    "plt.figure()\n",
    "plt.plot(range(1, epoch+1), train_loss_values, label='training set loss')\n",
    "plt.plot(range(1, epoch+1), test_loss_values, label='validation set loss')\n",
    "plt.legend()\n",
    "plt.show()"
   ]
  },
  {
   "cell_type": "markdown",
   "metadata": {},
   "source": [
    "#### Overall classification - 'PlanktonModel' with Weighted Loss"
   ]
  },
  {
   "cell_type": "markdown",
   "metadata": {},
   "source": [
    "We deploy here the second strategy, that is weighting the loss to make errors on classes with less cardinality more penalized than errors on populated classes."
   ]
  },
  {
   "cell_type": "code",
   "execution_count": 51,
   "metadata": {},
   "outputs": [],
   "source": [
    "# define weigths for each class\n",
    "weights = torch.from_numpy(np.array(list(sorted(map(lambda x: x[1], d_mapping.values()))))).type(torch.FloatTensor).to(device)"
   ]
  },
  {
   "cell_type": "code",
   "execution_count": 31,
   "metadata": {},
   "outputs": [],
   "source": [
    "train_idx, val_idx = next(k_fold_split)\n",
    "\n",
    "plank_wl_train_dataloader, plank_wl_val_dataloader = get_data_loaders(X_train, y_train, train_idx, val_idx, mapping=label_mapping, \n",
    "                                                                      train_transformations=training_transformations, test_transformations=test_transformations)"
   ]
  },
  {
   "cell_type": "code",
   "execution_count": 52,
   "metadata": {},
   "outputs": [
    {
     "name": "stderr",
     "output_type": "stream",
     "text": [
      "1450it [01:03, 22.68it/s]\n",
      "162it [00:06, 25.02it/s]"
     ]
    },
    {
     "name": "stdout",
     "output_type": "stream",
     "text": [
      "Epoch 1. Accuracy: 0.0687. Mean Accuracy: 15.411389050924354. Avg Loss train: 2.930597141364525. Avg Loss test: 2.6770842678752946\n"
     ]
    },
    {
     "name": "stderr",
     "output_type": "stream",
     "text": [
      "\n",
      "1450it [01:00, 24.04it/s]\n",
      "162it [00:06, 23.87it/s]\n"
     ]
    },
    {
     "name": "stdout",
     "output_type": "stream",
     "text": [
      "Epoch 2. Accuracy: 0.1258. Mean Accuracy: 20.023510429898543. Avg Loss train: 2.6630296495043. Avg Loss test: 2.5439551244547336\n"
     ]
    },
    {
     "name": "stderr",
     "output_type": "stream",
     "text": [
      "1450it [00:53, 27.08it/s]\n",
      "162it [00:07, 21.78it/s]"
     ]
    },
    {
     "name": "stdout",
     "output_type": "stream",
     "text": [
      "Epoch 3. Accuracy: 0.1488. Mean Accuracy: 22.799121145163173. Avg Loss train: 2.5013460256313453. Avg Loss test: 2.4200420519452037\n"
     ]
    },
    {
     "name": "stderr",
     "output_type": "stream",
     "text": [
      "\n",
      "1450it [00:59, 24.56it/s]\n",
      "162it [00:07, 21.99it/s]"
     ]
    },
    {
     "name": "stdout",
     "output_type": "stream",
     "text": [
      "Epoch 4. Accuracy: 0.1933. Mean Accuracy: 26.231829037162576. Avg Loss train: 2.3565827989578247. Avg Loss test: 2.262450245427497\n"
     ]
    },
    {
     "name": "stderr",
     "output_type": "stream",
     "text": [
      "\n",
      "1450it [01:02, 23.37it/s]\n",
      "162it [00:07, 22.81it/s]"
     ]
    },
    {
     "name": "stdout",
     "output_type": "stream",
     "text": [
      "Epoch 5. Accuracy: 0.2409. Mean Accuracy: 28.46273236227288. Avg Loss train: 2.259038697522262. Avg Loss test: 2.2750753708827642\n"
     ]
    },
    {
     "name": "stderr",
     "output_type": "stream",
     "text": [
      "\n",
      "1450it [00:56, 25.61it/s]\n",
      "162it [00:06, 25.61it/s]"
     ]
    },
    {
     "name": "stdout",
     "output_type": "stream",
     "text": [
      "Epoch 6. Accuracy: 0.2207. Mean Accuracy: 31.16579723619722. Avg Loss train: 2.1738999773716103. Avg Loss test: 2.159844015115573\n"
     ]
    },
    {
     "name": "stderr",
     "output_type": "stream",
     "text": [
      "\n",
      "1450it [00:59, 24.17it/s]\n",
      "162it [00:06, 24.24it/s]"
     ]
    },
    {
     "name": "stdout",
     "output_type": "stream",
     "text": [
      "Epoch 7. Accuracy: 0.2925. Mean Accuracy: 35.667373310787085. Avg Loss train: 2.128808569579289. Avg Loss test: 2.0700516115736076\n"
     ]
    },
    {
     "name": "stderr",
     "output_type": "stream",
     "text": [
      "\n",
      "1450it [01:02, 23.03it/s]\n",
      "162it [00:06, 24.95it/s]"
     ]
    },
    {
     "name": "stdout",
     "output_type": "stream",
     "text": [
      "Epoch 8. Accuracy: 0.2483. Mean Accuracy: 37.08379921245906. Avg Loss train: 2.056339982706925. Avg Loss test: 2.038044989476969\n"
     ]
    },
    {
     "name": "stderr",
     "output_type": "stream",
     "text": [
      "\n",
      "1450it [00:59, 26.67it/s]\n",
      "162it [00:06, 23.15it/s]"
     ]
    },
    {
     "name": "stdout",
     "output_type": "stream",
     "text": [
      "Epoch 9. Accuracy: 0.252. Mean Accuracy: 34.95775686607507. Avg Loss train: 2.0138381248918074. Avg Loss test: 2.063574133095918\n"
     ]
    },
    {
     "name": "stderr",
     "output_type": "stream",
     "text": [
      "\n",
      "1450it [01:07, 22.74it/s]\n",
      "162it [00:07, 21.04it/s]"
     ]
    },
    {
     "name": "stdout",
     "output_type": "stream",
     "text": [
      "Epoch 10. Accuracy: 0.2428. Mean Accuracy: 35.22834122209375. Avg Loss train: 1.9705690593349523. Avg Loss test: 1.977836260089168\n"
     ]
    },
    {
     "name": "stderr",
     "output_type": "stream",
     "text": [
      "\n",
      "1450it [00:56, 25.61it/s]\n",
      "162it [00:07, 22.32it/s]"
     ]
    },
    {
     "name": "stdout",
     "output_type": "stream",
     "text": [
      "Epoch 11. Accuracy: 0.2705. Mean Accuracy: 38.45197698890212. Avg Loss train: 1.8942229925558485. Avg Loss test: 1.9247153772984023\n"
     ]
    },
    {
     "name": "stderr",
     "output_type": "stream",
     "text": [
      "\n",
      "1450it [00:57, 22.14it/s]\n",
      "162it [00:07, 22.65it/s]"
     ]
    },
    {
     "name": "stdout",
     "output_type": "stream",
     "text": [
      "Epoch 12. Accuracy: 0.2873. Mean Accuracy: 38.614912414502875. Avg Loss train: 1.9422329494254342. Avg Loss test: 1.9449094533920288\n"
     ]
    },
    {
     "name": "stderr",
     "output_type": "stream",
     "text": [
      "\n",
      "1450it [01:03, 23.10it/s]\n",
      "162it [00:07, 22.63it/s]"
     ]
    },
    {
     "name": "stdout",
     "output_type": "stream",
     "text": [
      "Epoch 13. Accuracy: 0.3227. Mean Accuracy: 40.877675588904864. Avg Loss train: 1.8641253298932108. Avg Loss test: 1.8631166734813172\n"
     ]
    },
    {
     "name": "stderr",
     "output_type": "stream",
     "text": [
      "\n",
      "1450it [01:00, 23.95it/s]\n",
      "162it [00:07, 23.11it/s]"
     ]
    },
    {
     "name": "stdout",
     "output_type": "stream",
     "text": [
      "Epoch 14. Accuracy: 0.3285. Mean Accuracy: 40.680441732096675. Avg Loss train: 1.8383191354932455. Avg Loss test: 1.906493024325665\n"
     ]
    },
    {
     "name": "stderr",
     "output_type": "stream",
     "text": [
      "\n",
      "1450it [01:04, 23.10it/s]\n",
      "162it [00:07, 22.64it/s]\n"
     ]
    },
    {
     "name": "stdout",
     "output_type": "stream",
     "text": [
      "Epoch 15. Accuracy: 0.307. Mean Accuracy: 41.475859133553485. Avg Loss train: 1.8200725506914073. Avg Loss test: 1.8653091170169689\n"
     ]
    },
    {
     "data": {
      "image/png": "[encoded data removed]",
      "text/plain": [
       "<Figure size 432x288 with 1 Axes>"
      ]
     },
     "metadata": {
      "needs_background": "light"
     },
     "output_type": "display_data"
    }
   ],
   "source": [
    "plank_wl_model = PlanktonModel().to(device)\n",
    "plank_wl_model.zero_grad()\n",
    "plank_wl_model.train()\n",
    "\n",
    "loss_function = nn.NLLLoss(weight=weights)\n",
    "\n",
    "# Confusions matrix analysis\n",
    "n_classes = 39\n",
    "\n",
    "optimizer = torch.optim.Adam(plank_wl_model.parameters())\n",
    "\n",
    "test_loss_values = []\n",
    "train_loss_values = []\n",
    "\n",
    "epoch = 15\n",
    "\n",
    "for e in range(epoch):\n",
    "    # training\n",
    "    avg_loss = train_model(plank_wl_train_dataloader, plank_wl_model, optimizer, loss_function)\n",
    "\n",
    "    correct, confusion_matrix, accuracies, avg_loss_test = test_model(plank_wl_val_dataloader, plank_wl_model, loss_function, n_classes)\n",
    "    mean_accuracy = np.mean(accuracies)\n",
    "    accuracy = correct / len(val_idx)\n",
    "    \n",
    "    print(\"Epoch {0}. Accuracy: {1}. Mean Accuracy: {2}. Avg Loss train: {3}. Avg Loss test: {4}\".format(e + 1, round(accuracy, 4), mean_accuracy, avg_loss, avg_loss_test))\n",
    "    test_loss_values.append(avg_loss_test)\n",
    "    train_loss_values.append(avg_loss)\n",
    "    \n",
    "# plot accuracy graph\n",
    "plt.figure()\n",
    "plt.plot(range(1, epoch+1), train_loss_values, label='training set loss')\n",
    "plt.plot(range(1, epoch+1), test_loss_values, label='validation set loss')\n",
    "plt.legend()\n",
    "plt.show()"
   ]
  },
  {
   "cell_type": "markdown",
   "metadata": {},
   "source": [
    "#### Overall classification - 'SmallPlanktonModel' with Weighted Loss"
   ]
  },
  {
   "cell_type": "code",
   "execution_count": 53,
   "metadata": {},
   "outputs": [],
   "source": [
    "train_idx, val_idx = next(k_fold_split)\n",
    "\n",
    "plank_wlsm_train_dataloader, plank_wlsm_val_dataloader = get_data_loaders(X_train, y_train, train_idx, val_idx, mapping=label_mapping, \n",
    "                                                                      train_transformations=training_transformations, test_transformations=test_transformations)"
   ]
  },
  {
   "cell_type": "code",
   "execution_count": 54,
   "metadata": {},
   "outputs": [
    {
     "name": "stderr",
     "output_type": "stream",
     "text": [
      "1450it [01:04, 22.56it/s]\n",
      "162it [00:07, 21.88it/s]"
     ]
    },
    {
     "name": "stdout",
     "output_type": "stream",
     "text": [
      "Epoch 1. Accuracy: 0.1177. Mean Accuracy: 17.030118647542096. Avg Loss train: 2.9189953964332056. Avg Loss test: 2.6191365166946694\n"
     ]
    },
    {
     "name": "stderr",
     "output_type": "stream",
     "text": [
      "\n",
      "1450it [01:04, 27.50it/s]\n",
      "162it [00:07, 22.78it/s]"
     ]
    },
    {
     "name": "stdout",
     "output_type": "stream",
     "text": [
      "Epoch 2. Accuracy: 0.1589. Mean Accuracy: 20.07477117648936. Avg Loss train: 2.5791060464957667. Avg Loss test: 2.460369026219403\n"
     ]
    },
    {
     "name": "stderr",
     "output_type": "stream",
     "text": [
      "\n",
      "1450it [01:07, 21.63it/s]\n",
      "162it [00:06, 24.05it/s]"
     ]
    },
    {
     "name": "stdout",
     "output_type": "stream",
     "text": [
      "Epoch 3. Accuracy: 0.1272. Mean Accuracy: 23.36156033853326. Avg Loss train: 2.4657840379353226. Avg Loss test: 2.3918713522546087\n"
     ]
    },
    {
     "name": "stderr",
     "output_type": "stream",
     "text": [
      "\n",
      "1450it [00:58, 24.68it/s]\n",
      "162it [00:06, 23.86it/s]"
     ]
    },
    {
     "name": "stdout",
     "output_type": "stream",
     "text": [
      "Epoch 4. Accuracy: 0.1536. Mean Accuracy: 25.43180481289035. Avg Loss train: 2.3607620088807466. Avg Loss test: 2.3132827907432745\n"
     ]
    },
    {
     "name": "stderr",
     "output_type": "stream",
     "text": [
      "\n",
      "1450it [00:56, 25.62it/s]\n",
      "162it [00:07, 22.91it/s]"
     ]
    },
    {
     "name": "stdout",
     "output_type": "stream",
     "text": [
      "Epoch 5. Accuracy: 0.1767. Mean Accuracy: 28.600912341400317. Avg Loss train: 2.287891644938239. Avg Loss test: 2.1909993798644454\n"
     ]
    },
    {
     "name": "stderr",
     "output_type": "stream",
     "text": [
      "\n",
      "1450it [01:01, 23.56it/s]\n",
      "162it [00:07, 20.99it/s]"
     ]
    },
    {
     "name": "stdout",
     "output_type": "stream",
     "text": [
      "Epoch 6. Accuracy: 0.2034. Mean Accuracy: 31.279251049561115. Avg Loss train: 2.263007428728301. Avg Loss test: 2.134574302184729\n"
     ]
    },
    {
     "name": "stderr",
     "output_type": "stream",
     "text": [
      "\n",
      "1450it [01:06, 21.74it/s]\n",
      "162it [00:07, 21.64it/s]"
     ]
    },
    {
     "name": "stdout",
     "output_type": "stream",
     "text": [
      "Epoch 7. Accuracy: 0.239. Mean Accuracy: 31.037282741909728. Avg Loss train: 2.175369913660247. Avg Loss test: 2.1352205364792436\n"
     ]
    },
    {
     "name": "stderr",
     "output_type": "stream",
     "text": [
      "\n",
      "1450it [01:05, 21.99it/s]\n",
      "162it [00:07, 22.70it/s]"
     ]
    },
    {
     "name": "stdout",
     "output_type": "stream",
     "text": [
      "Epoch 8. Accuracy: 0.2405. Mean Accuracy: 30.80627743619492. Avg Loss train: 2.1553163294545534. Avg Loss test: 2.163227536060192\n"
     ]
    },
    {
     "name": "stderr",
     "output_type": "stream",
     "text": [
      "\n",
      "1450it [01:00, 23.78it/s]\n",
      "162it [00:06, 28.36it/s]"
     ]
    },
    {
     "name": "stdout",
     "output_type": "stream",
     "text": [
      "Epoch 9. Accuracy: 0.2543. Mean Accuracy: 33.87297593773675. Avg Loss train: 2.120425495197033. Avg Loss test: 2.0727504896528925\n"
     ]
    },
    {
     "name": "stderr",
     "output_type": "stream",
     "text": [
      "\n",
      "1450it [01:01, 23.63it/s]\n",
      "162it [00:06, 23.77it/s]"
     ]
    },
    {
     "name": "stdout",
     "output_type": "stream",
     "text": [
      "Epoch 10. Accuracy: 0.2549. Mean Accuracy: 37.42392132410274. Avg Loss train: 2.066204657842373. Avg Loss test: 2.020434884377468\n"
     ]
    },
    {
     "name": "stderr",
     "output_type": "stream",
     "text": [
      "\n",
      "1450it [01:01, 23.57it/s]\n",
      "162it [00:07, 23.06it/s]"
     ]
    },
    {
     "name": "stdout",
     "output_type": "stream",
     "text": [
      "Epoch 11. Accuracy: 0.2463. Mean Accuracy: 33.81600314249213. Avg Loss train: 2.057286521607432. Avg Loss test: 2.031264886076068\n"
     ]
    },
    {
     "name": "stderr",
     "output_type": "stream",
     "text": [
      "\n",
      "1450it [01:01, 27.02it/s]\n",
      "162it [00:06, 24.61it/s]"
     ]
    },
    {
     "name": "stdout",
     "output_type": "stream",
     "text": [
      "Epoch 12. Accuracy: 0.251. Mean Accuracy: 32.022640117026135. Avg Loss train: 2.0127561116629633. Avg Loss test: 2.20521374249164\n"
     ]
    },
    {
     "name": "stderr",
     "output_type": "stream",
     "text": [
      "\n",
      "1450it [00:58, 30.62it/s]\n",
      "162it [00:06, 24.57it/s]"
     ]
    },
    {
     "name": "stdout",
     "output_type": "stream",
     "text": [
      "Epoch 13. Accuracy: 0.2958. Mean Accuracy: 38.64429746509348. Avg Loss train: 1.990968754579281. Avg Loss test: 1.9511456489562988\n"
     ]
    },
    {
     "name": "stderr",
     "output_type": "stream",
     "text": [
      "\n",
      "1450it [00:56, 25.58it/s]\n",
      "162it [00:06, 26.26it/s]"
     ]
    },
    {
     "name": "stdout",
     "output_type": "stream",
     "text": [
      "Epoch 14. Accuracy: 0.2706. Mean Accuracy: 39.148773204730674. Avg Loss train: 1.9262647452436645. Avg Loss test: 1.9262008953977514\n"
     ]
    },
    {
     "name": "stderr",
     "output_type": "stream",
     "text": [
      "\n",
      "1450it [00:58, 29.17it/s]\n",
      "162it [00:06, 24.13it/s]\n"
     ]
    },
    {
     "name": "stdout",
     "output_type": "stream",
     "text": [
      "Epoch 15. Accuracy: 0.3088. Mean Accuracy: 40.033341549234045. Avg Loss train: 1.9590095732335386. Avg Loss test: 1.8504290830941847\n"
     ]
    },
    {
     "data": {
      "image/png": "[encoded data removed]",
      "text/plain": [
       "<Figure size 432x288 with 1 Axes>"
      ]
     },
     "metadata": {
      "needs_background": "light"
     },
     "output_type": "display_data"
    }
   ],
   "source": [
    "plank_wlsm_model = PlanktonModel().to(device)\n",
    "plank_wlsm_model.zero_grad()\n",
    "plank_wlsm_model.train()\n",
    "\n",
    "loss_function = nn.NLLLoss(weights)\n",
    "\n",
    "# Confusions matrix analysis\n",
    "n_classes = 39\n",
    "\n",
    "optimizer = torch.optim.Adam(plank_wlsm_model.parameters())\n",
    "\n",
    "test_loss_values = []\n",
    "train_loss_values = []\n",
    "\n",
    "epoch = 15\n",
    "\n",
    "for e in range(epoch):\n",
    "    # training\n",
    "    avg_loss = train_model(plank_wlsm_train_dataloader, plank_wlsm_model, optimizer, loss_function)\n",
    "\n",
    "    correct, confusion_matrix, accuracies, avg_loss_test = test_model(plank_wlsm_val_dataloader, plank_wlsm_model, loss_function, n_classes)\n",
    "    mean_accuracy = np.mean(accuracies)\n",
    "    accuracy = correct / len(val_idx)\n",
    "    \n",
    "    print(\"Epoch {0}. Accuracy: {1}. Mean Accuracy: {2}. Avg Loss train: {3}. Avg Loss test: {4}\".format(e + 1, round(accuracy, 4), mean_accuracy, avg_loss, avg_loss_test))\n",
    "    test_loss_values.append(avg_loss_test)\n",
    "    train_loss_values.append(avg_loss)\n",
    "    \n",
    "# plot accuracy graph\n",
    "plt.figure()\n",
    "plt.plot(range(1, epoch+1), train_loss_values, label='training set loss')\n",
    "plt.plot(range(1, epoch+1), test_loss_values, label='validation set loss')\n",
    "plt.legend()\n",
    "plt.show()"
   ]
  },
  {
   "cell_type": "markdown",
   "metadata": {},
   "source": [
    "### Hierarchical Classification\n",
    "We test here classification in two steps, separating first between detritus and non detritus, and then classifying the non detritus according the other different classes.\n",
    "#### Detritus Model\n",
    "We aim to tell apart detritus vs non detritus using the weighted sampling strategy."
   ]
  },
  {
   "cell_type": "code",
   "execution_count": 24,
   "metadata": {},
   "outputs": [],
   "source": [
    "# map all labels to 1 and detritus to 0\n",
    "detritus_mapping = {e:1 for e in distinct_plankton_labels}\n",
    "detritus_mapping['detritus'] = 0"
   ]
  },
  {
   "cell_type": "code",
   "execution_count": 62,
   "metadata": {},
   "outputs": [],
   "source": [
    "train_idx, val_idx = next(k_fold_split)\n",
    "\n",
    "# weights for weighted random sampler\n",
    "weights_df = plankton_df[plankton_df['objid'].isin(X_train.values[train_idx])] # assign weights only to samples in the training set\n",
    "weights_df['level2'] = weights_df['level2'].map(detritus_mapping)\n",
    "weights_df['count'] = weights_df.groupby('level2')['level2'].transform('count')\n",
    "weights_df['count'] = len(weights_df) / weights_df['count']\n",
    "weights = weights_df['count'].values\n",
    "weights = torch.DoubleTensor(weights)\n",
    "detritus_wrs = torch.utils.data.sampler.WeightedRandomSampler(weights, len(weights))\n",
    "\n",
    "detritus_train_dataloader, detritus_val_dataloader = get_data_loaders(X_train, y_train, train_idx, val_idx, mapping=detritus_mapping, \n",
    "                                                                      train_transformations=training_transformations, test_transformations=test_transformations,\n",
    "                                                                      sampler=detritus_wrs)"
   ]
  },
  {
   "cell_type": "code",
   "execution_count": 73,
   "metadata": {},
   "outputs": [
    {
     "name": "stderr",
     "output_type": "stream",
     "text": [
      "1450it [02:30,  9.63it/s]\n",
      "162it [00:07, 22.20it/s]"
     ]
    },
    {
     "name": "stdout",
     "output_type": "stream",
     "text": [
      "Epoch 1. Accuracy: 0.7881. Mean Accuracy: 78.29339848430936. Avg Loss train: 0.496200006439768. Avg Loss test: 0.4625215212136139\n"
     ]
    },
    {
     "name": "stderr",
     "output_type": "stream",
     "text": [
      "\n",
      "1450it [02:19, 10.36it/s]\n",
      "162it [00:06, 25.59it/s]"
     ]
    },
    {
     "name": "stdout",
     "output_type": "stream",
     "text": [
      "Epoch 2. Accuracy: 0.8032. Mean Accuracy: 79.86445151038893. Avg Loss train: 0.4454779263817031. Avg Loss test: 0.42194201162567846\n"
     ]
    },
    {
     "name": "stderr",
     "output_type": "stream",
     "text": [
      "\n",
      "1450it [02:13, 10.90it/s]\n",
      "162it [00:06, 23.36it/s]"
     ]
    },
    {
     "name": "stdout",
     "output_type": "stream",
     "text": [
      "Epoch 3. Accuracy: 0.8119. Mean Accuracy: 80.76762700947552. Avg Loss train: 0.42796714001688463. Avg Loss test: 0.41144634746474984\n"
     ]
    },
    {
     "name": "stderr",
     "output_type": "stream",
     "text": [
      "\n",
      "1450it [02:13, 10.83it/s]\n",
      "162it [00:06, 24.43it/s]"
     ]
    },
    {
     "name": "stdout",
     "output_type": "stream",
     "text": [
      "Epoch 4. Accuracy: 0.8027. Mean Accuracy: 80.66640296064058. Avg Loss train: 0.416008426074324. Avg Loss test: 0.4313746471831828\n"
     ]
    },
    {
     "name": "stderr",
     "output_type": "stream",
     "text": [
      "\n",
      "1450it [02:10, 11.07it/s]\n",
      "162it [00:05, 27.48it/s]"
     ]
    },
    {
     "name": "stdout",
     "output_type": "stream",
     "text": [
      "Epoch 5. Accuracy: 0.8146. Mean Accuracy: 80.69660535100644. Avg Loss train: 0.40568822990203723. Avg Loss test: 0.3987670005471618\n"
     ]
    },
    {
     "name": "stderr",
     "output_type": "stream",
     "text": [
      "\n",
      "1450it [02:10, 11.10it/s]\n",
      "162it [00:05, 27.36it/s]"
     ]
    },
    {
     "name": "stdout",
     "output_type": "stream",
     "text": [
      "Epoch 6. Accuracy: 0.816. Mean Accuracy: 81.84125131363896. Avg Loss train: 0.3992231759737278. Avg Loss test: 0.40034806728363037\n"
     ]
    },
    {
     "name": "stderr",
     "output_type": "stream",
     "text": [
      "\n",
      "1450it [02:12, 11.85it/s]\n",
      "162it [00:06, 25.31it/s]"
     ]
    },
    {
     "name": "stdout",
     "output_type": "stream",
     "text": [
      "Epoch 7. Accuracy: 0.8127. Mean Accuracy: 81.6409768181812. Avg Loss train: 0.3945548669120361. Avg Loss test: 0.4007429326022113\n"
     ]
    },
    {
     "name": "stderr",
     "output_type": "stream",
     "text": [
      "\n",
      "1450it [02:10, 11.07it/s]\n",
      "162it [00:06, 24.96it/s]"
     ]
    },
    {
     "name": "stdout",
     "output_type": "stream",
     "text": [
      "Epoch 8. Accuracy: 0.8219. Mean Accuracy: 82.47884225805998. Avg Loss train: 0.38661831557750703. Avg Loss test: 0.395040664591907\n"
     ]
    },
    {
     "name": "stderr",
     "output_type": "stream",
     "text": [
      "\n",
      "1450it [02:09, 11.19it/s]\n",
      "162it [00:06, 26.54it/s]"
     ]
    },
    {
     "name": "stdout",
     "output_type": "stream",
     "text": [
      "Epoch 9. Accuracy: 0.8217. Mean Accuracy: 81.88836623436454. Avg Loss train: 0.3870269408616526. Avg Loss test: 0.3909267762928833\n"
     ]
    },
    {
     "name": "stderr",
     "output_type": "stream",
     "text": [
      "\n",
      "1450it [02:11,  9.97it/s]\n",
      "162it [00:06, 24.57it/s]\n"
     ]
    },
    {
     "name": "stdout",
     "output_type": "stream",
     "text": [
      "Epoch 10. Accuracy: 0.8198. Mean Accuracy: 82.13395874832072. Avg Loss train: 0.3816856932331776. Avg Loss test: 0.39313721307265903\n"
     ]
    },
    {
     "data": {
      "image/png": "[encoded data removed]",
      "text/plain": [
       "<Figure size 432x288 with 1 Axes>"
      ]
     },
     "metadata": {
      "needs_background": "light"
     },
     "output_type": "display_data"
    }
   ],
   "source": [
    "# first we train the model who classifies only detritus\n",
    "\n",
    "detritus_model = DetritusModel().to(device)\n",
    "detritus_model.zero_grad()\n",
    "detritus_model.train()\n",
    "\n",
    "loss_function = nn.NLLLoss()\n",
    "\n",
    "# Confusions matrix analysis\n",
    "n_classes = 2\n",
    "\n",
    "optimizer = torch.optim.Adam(detritus_model.parameters())\n",
    "\n",
    "test_loss_values = []\n",
    "train_loss_values = []\n",
    "\n",
    "epoch = 10\n",
    "\n",
    "for e in range(epoch):\n",
    "    # training\n",
    "    avg_loss = train_model(detritus_train_dataloader, detritus_model, optimizer, loss_function)\n",
    "\n",
    "    correct, confusion_matrix, accuracies, avg_loss_test = test_model(detritus_val_dataloader, detritus_model, loss_function, n_classes)\n",
    "    mean_accuracy = np.mean(accuracies)\n",
    "    accuracy = correct / len(val_idx)\n",
    "    \n",
    "    print(\"Epoch {0}. Accuracy: {1}. Mean Accuracy: {2}. Avg Loss train: {3}. Avg Loss test: {4}\".format(e + 1, round(accuracy, 4), mean_accuracy, avg_loss, avg_loss_test))\n",
    "    test_loss_values.append(avg_loss_test)\n",
    "    train_loss_values.append(avg_loss)\n",
    "    \n",
    "\n",
    "# plot accuracy graph\n",
    "plt.figure()\n",
    "plt.plot(range(1, epoch+1), train_loss_values, label='training set loss')\n",
    "plt.plot(range(1, epoch+1), test_loss_values, label='validation set loss')\n",
    "plt.legend()\n",
    "plt.show()"
   ]
  },
  {
   "cell_type": "markdown",
   "metadata": {},
   "source": [
    "#### Non Detritus model\n",
    "Again, we use the weighted sampling strategy, using the dataset without the samples of the detritus class."
   ]
  },
  {
   "cell_type": "code",
   "execution_count": 74,
   "metadata": {},
   "outputs": [],
   "source": [
    "# no_detritus model\n",
    "\n",
    "X_no_d = no_detritus_df['objid']\n",
    "y_no_d = no_detritus_df['level2']\n",
    "\n",
    "X_nodet_train, X_nodet_val, y_nodet_train, y_nodet_val = train_test_split(X_no_d, y_no_d, test_size=0.20, stratify=y_no_d)\n",
    "\n",
    "# weights for weighted random sampler\n",
    "weights_df = no_detritus_df[no_detritus_df['objid'].isin(X_nodet_train.values)] # assign weights only to samples in the training set\n",
    "weights_df['level2'] = weights_df['level2'].map(no_detritus_label_mapping)\n",
    "weights_df['count'] = weights_df.groupby('level2')['level2'].transform('count')\n",
    "weights_df['count'] = len(weights_df) / weights_df['count']\n",
    "weights = weights_df['count'].values\n",
    "weights = torch.DoubleTensor(weights)\n",
    "no_detritus_wrs = torch.utils.data.sampler.WeightedRandomSampler(weights, len(weights))\n",
    "\n",
    "no_det_train_dataset = PlanktonDataset(X_nodet_train.values, y_nodet_train.values,\n",
    "                                    img_files = img_files,\n",
    "                                    label_mapping = no_detritus_label_mapping,\n",
    "                                    transform = training_transformations\n",
    "                                   )\n",
    "no_det_train_dataloader = DataLoader(no_det_train_dataset, batch_size=128, sampler=no_detritus_wrs, num_workers=4)\n",
    "\n",
    "no_det_val_dataset = PlanktonDataset(X_nodet_val.values, y_nodet_val.values,\n",
    "                                    img_files = img_files,\n",
    "                                    label_mapping = no_detritus_label_mapping,\n",
    "                                    transform = test_transformations,\n",
    "                                    )\n",
    "no_det_val_dataloader = DataLoader(no_det_val_dataset, batch_size=128, num_workers=4)"
   ]
  },
  {
   "cell_type": "code",
   "execution_count": 76,
   "metadata": {},
   "outputs": [
    {
     "name": "stderr",
     "output_type": "stream",
     "text": [
      "652it [01:04, 10.13it/s]\n",
      "163it [00:08, 19.66it/s]"
     ]
    },
    {
     "name": "stdout",
     "output_type": "stream",
     "text": [
      "Epoch 1. Accuracy: 0.5614. Mean Accuracy: 18.158267289181797. Avg Loss train: 1.6190941896906659. Avg Loss test: 1.4077661256848668\n"
     ]
    },
    {
     "name": "stderr",
     "output_type": "stream",
     "text": [
      "\n",
      "652it [01:02, 10.43it/s]\n",
      "163it [00:07, 21.72it/s]"
     ]
    },
    {
     "name": "stdout",
     "output_type": "stream",
     "text": [
      "Epoch 2. Accuracy: 0.6238. Mean Accuracy: 25.047830910473348. Avg Loss train: 1.2479815915501191. Avg Loss test: 1.2159219581656662\n"
     ]
    },
    {
     "name": "stderr",
     "output_type": "stream",
     "text": [
      "\n",
      "652it [01:02, 10.50it/s]\n",
      "163it [00:07, 21.45it/s]\n"
     ]
    },
    {
     "name": "stdout",
     "output_type": "stream",
     "text": [
      "Epoch 3. Accuracy: 0.675. Mean Accuracy: 28.980547261232545. Avg Loss train: 1.0807182871125227. Avg Loss test: 1.0520501725512779\n"
     ]
    },
    {
     "name": "stderr",
     "output_type": "stream",
     "text": [
      "652it [01:01, 10.60it/s]\n",
      "163it [00:07, 28.62it/s]"
     ]
    },
    {
     "name": "stdout",
     "output_type": "stream",
     "text": [
      "Epoch 4. Accuracy: 0.6691. Mean Accuracy: 31.022387059352337. Avg Loss train: 0.9537310784031277. Avg Loss test: 1.0705016244408543\n"
     ]
    },
    {
     "name": "stderr",
     "output_type": "stream",
     "text": [
      "\n",
      "652it [01:00, 10.83it/s]\n",
      "163it [00:07, 23.28it/s]"
     ]
    },
    {
     "name": "stdout",
     "output_type": "stream",
     "text": [
      "Epoch 5. Accuracy: 0.708. Mean Accuracy: 36.417740818263766. Avg Loss train: 0.8741785866534052. Avg Loss test: 0.9548217646914757\n"
     ]
    },
    {
     "name": "stderr",
     "output_type": "stream",
     "text": [
      "\n",
      "652it [00:59, 10.87it/s]\n",
      "163it [00:07, 21.02it/s]"
     ]
    },
    {
     "name": "stdout",
     "output_type": "stream",
     "text": [
      "Epoch 6. Accuracy: 0.7151. Mean Accuracy: 37.454716972308226. Avg Loss train: 0.8160578035320972. Avg Loss test: 0.9408957649228031\n"
     ]
    },
    {
     "name": "stderr",
     "output_type": "stream",
     "text": [
      "\n",
      "652it [01:01, 10.58it/s]\n",
      "163it [00:07, 21.72it/s]"
     ]
    },
    {
     "name": "stdout",
     "output_type": "stream",
     "text": [
      "Epoch 7. Accuracy: 0.7223. Mean Accuracy: 35.558958837244. Avg Loss train: 0.7786108366345152. Avg Loss test: 0.920938272052016\n"
     ]
    },
    {
     "name": "stderr",
     "output_type": "stream",
     "text": [
      "\n",
      "652it [01:01, 10.52it/s]\n",
      "163it [00:06, 23.58it/s]"
     ]
    },
    {
     "name": "stdout",
     "output_type": "stream",
     "text": [
      "Epoch 8. Accuracy: 0.7531. Mean Accuracy: 41.248804407041995. Avg Loss train: 0.7316100028303504. Avg Loss test: 0.8081452349212273\n"
     ]
    },
    {
     "name": "stderr",
     "output_type": "stream",
     "text": [
      "\n",
      "652it [01:00, 10.73it/s]\n",
      "163it [00:07, 22.33it/s]"
     ]
    },
    {
     "name": "stdout",
     "output_type": "stream",
     "text": [
      "Epoch 9. Accuracy: 0.7557. Mean Accuracy: 41.069925811016134. Avg Loss train: 0.7097962508720854. Avg Loss test: 0.7956378255153727\n"
     ]
    },
    {
     "name": "stderr",
     "output_type": "stream",
     "text": [
      "\n",
      "652it [01:03, 10.31it/s]\n",
      "163it [00:06, 23.69it/s]\n"
     ]
    },
    {
     "name": "stdout",
     "output_type": "stream",
     "text": [
      "Epoch 10. Accuracy: 0.7562. Mean Accuracy: 42.21574165023442. Avg Loss train: 0.679901899507075. Avg Loss test: 0.8182369711940274\n"
     ]
    },
    {
     "data": {
      "image/png": "[encoded data removed]",
      "text/plain": [
       "<Figure size 432x288 with 1 Axes>"
      ]
     },
     "metadata": {
      "needs_background": "light"
     },
     "output_type": "display_data"
    }
   ],
   "source": [
    "no_detritus_model = NonDetritusModel().to(device)\n",
    "no_detritus_model.zero_grad()\n",
    "no_detritus_model.train()\n",
    "\n",
    "loss_function = nn.NLLLoss()\n",
    "\n",
    "# Confusions matrix analysis\n",
    "n_classes = 38\n",
    "\n",
    "optimizer = torch.optim.Adam(no_detritus_model.parameters())\n",
    "\n",
    "test_loss_values = []\n",
    "train_loss_values = []\n",
    "\n",
    "epoch = 10\n",
    "\n",
    "for e in range(epoch):\n",
    "    # training\n",
    "    avg_loss = train_model(no_det_train_dataloader, no_detritus_model, optimizer, loss_function)\n",
    "\n",
    "    correct, confusion_matrix, accuracies, avg_loss_test = test_model(no_det_val_dataloader, no_detritus_model, loss_function, n_classes)\n",
    "    mean_accuracy = np.mean(accuracies)\n",
    "    accuracy = correct / len(y_val)\n",
    "    \n",
    "    print(\"Epoch {0}. Accuracy: {1}. Mean Accuracy: {2}. Avg Loss train: {3}. Avg Loss test: {4}\".format(e + 1, round(accuracy, 4), mean_accuracy, avg_loss, avg_loss_test))\n",
    "    test_loss_values.append(avg_loss_test)\n",
    "    train_loss_values.append(avg_loss)\n",
    "    \n",
    "\n",
    "# plot accuracy graph\n",
    "plt.figure()\n",
    "plt.plot(range(1, epoch+1), train_loss_values, label='training set loss')\n",
    "plt.plot(range(1, epoch+1), test_loss_values, label='validation set loss')\n",
    "plt.legend()\n",
    "plt.show()"
   ]
  },
  {
   "cell_type": "markdown",
   "metadata": {},
   "source": [
    "#### Putting everything together\n",
    "What has been classified has non detritus by the first model is passed to the second one.\n",
    "\n",
    "To compute the number of correct predictions, we count the number of samples correctly classified as detritus by the first model and the number of correctly classified samples by the second one."
   ]
  },
  {
   "cell_type": "code",
   "execution_count": 152,
   "metadata": {},
   "outputs": [],
   "source": [
    "# new dataloader with batch size = 1 to understand which sample is classified as non detritus\n",
    "\n",
    "X_val_tog, y_val_tog = X_train.values[val_idx], y_train.values[val_idx]\n",
    "\n",
    "det_tog_dataset = PlanktonDataset(X_val_tog, y_val_tog,\n",
    "                                img_files=img_files, label_mapping=detritus_mapping,\n",
    "                                 transform = test_transformations)\n",
    "\n",
    "det_tog_dataloader = DataLoader(det_tog_dataset, batch_size=1, num_workers=4)"
   ]
  },
  {
   "cell_type": "code",
   "execution_count": 25,
   "metadata": {},
   "outputs": [],
   "source": [
    "def get_f1_score_hierarchical(det_tog_dataloader, detritus_model, no_detritus_model):\n",
    "    y_true = []\n",
    "    y_pred = []\n",
    "\n",
    "    for i, sample in tqdm(enumerate(det_tog_dataloader)):\n",
    "        image = sample['image'].to(device)\n",
    "        inj_features = sample['inj_features'].to(device)\n",
    "        target = sample['label'].to(device)\n",
    "        objid = sample['objid']\n",
    "\n",
    "        row_image = plankton_df[plankton_df['objid']==objid]\n",
    "        real_target = label_mapping[row_image['level2'].values[0]]\n",
    "\n",
    "        output = detritus_model(image, inj_features)\n",
    "        pred = output.max(1, keepdim=True)[1]\n",
    "\n",
    "        y_true.append(real_target)\n",
    "\n",
    "        if pred == 0:\n",
    "            y_pred.append(0)\n",
    "        else:\n",
    "            output = no_detritus_model(image, inj_features)\n",
    "            pred = output.max(1, keepdim=True)[1] + 1\n",
    "            y_pred.append(pred)\n",
    "\n",
    "\n",
    "    y_np_true = np.array(y_true)\n",
    "    y_np_pred = np.array(y_pred)\n",
    "    f1_w = f1_score(y_np_true, y_np_pred, average='weighted')\n",
    "    f1_m = f1_score(y_np_true, y_np_pred, average='macro')\n",
    "    return f1_w, f1_m\n",
    "\n",
    "def get_f1_score(det_tog_dataloader, model):\n",
    "    y_true = []\n",
    "    y_pred = []\n",
    "\n",
    "    for i, sample in tqdm(enumerate(det_tog_dataloader)):\n",
    "        image = sample['image'].to(device)\n",
    "        inj_features = sample['inj_features'].to(device)\n",
    "        target = sample['label'].to(device)\n",
    "        objid = sample['objid']\n",
    "\n",
    "        row_image = plankton_df[plankton_df['objid']==objid]\n",
    "        real_target = label_mapping[row_image['level2'].values[0]]\n",
    "\n",
    "        output = model(image, inj_features)\n",
    "        pred = output.max(1, keepdim=True)[1]\n",
    "\n",
    "        y_true.append(real_target)\n",
    "        y_pred.append(pred)\n",
    "\n",
    "    y_np_true = np.array(y_true)\n",
    "    y_np_pred = np.array(y_pred)\n",
    "    f1_w = f1_score(y_np_true, y_np_pred, average='weighted')\n",
    "    f1_m = f1_score(y_np_true, y_np_pred, average='macro')\n",
    "    return f1_w, f1_m\n",
    "\n",
    "#f1_w, f1_m = get_f1_score_hierarchical(det_tog_dataloader, detritus_model, no_detritus_model)"
   ]
  },
  {
   "cell_type": "code",
   "execution_count": 166,
   "metadata": {},
   "outputs": [
    {
     "name": "stdout",
     "output_type": "stream",
     "text": [
      "f1 weighted score:0.7340312389583548. f1 macro score:0.3421474271026229\n"
     ]
    }
   ],
   "source": [
    "print('f1 weighted score:{0}. f1 macro score:{1}'.format(f1_w, f1_m))"
   ]
  },
  {
   "cell_type": "markdown",
   "metadata": {},
   "source": [
    "### Models backup"
   ]
  },
  {
   "cell_type": "code",
   "execution_count": null,
   "metadata": {},
   "outputs": [],
   "source": [
    "torch.save(plank_model.state_dict(), './plank_model_15')\n",
    "torch.save(plank_sm_model.state_dict(), './plank_sm_model_15')\n",
    "torch.save(plank_wl_model.state_dict(), './plank_wl_model_15')\n",
    "torch.save(plank_wlsm_model.state_dict(), './plank_wlsm_model_15')"
   ]
  },
  {
   "cell_type": "markdown",
   "metadata": {},
   "source": [
    "#### **Model Testing** "
   ]
  },
  {
   "cell_type": "code",
   "execution_count": 42,
   "metadata": {},
   "outputs": [],
   "source": [
    "# no_detritus_model = NonDetritusModel().to(device)\n",
    "# detritus_model = DetritusModel().to(device)\n",
    "\n",
    "# no_detritus_model.load_state_dict(torch.load('./models/no_detritus_model_10'))\n",
    "# detritus_model.load_state_dict(torch.load('./models/detritus_model_10'))"
   ]
  },
  {
   "cell_type": "code",
   "execution_count": 28,
   "metadata": {},
   "outputs": [],
   "source": [
    "# weights for weighted random sampler\n",
    "#weights_df = plankton_df[plankton_df['objid'].isin(X_train.values)] # assign weights only to samples in the training set\n",
    "weights_df = pd.DataFrame({'objid':X_train.values, 'level2': y_train.values})\n",
    "weights_df['level2'] = weights_df['level2'].map(detritus_mapping)\n",
    "weights_df['count'] = weights_df.groupby('level2')['level2'].transform('count')\n",
    "weights_df['count'] = len(weights_df) / weights_df['count']\n",
    "weights = weights_df['count'].values\n",
    "weights = torch.DoubleTensor(weights)\n",
    "detritus_wrs = torch.utils.data.sampler.WeightedRandomSampler(weights, len(weights))\n",
    "\n",
    "final_det_train_dataset = PlanktonDataset(X_train.values, y_train.values,\n",
    "                                        img_files = img_files,\n",
    "                                        label_mapping = detritus_mapping,\n",
    "                                        transform = training_transformations,\n",
    "                                        )\n",
    "\n",
    "final_det_train_dataloader = DataLoader(final_det_train_dataset, batch_size=128, sampler=detritus_wrs, num_workers=4)\n",
    "\n",
    "final_det_val_dataset = PlanktonDataset(X_test.values, y_test.values,\n",
    "                                        img_files = img_files,\n",
    "                                        label_mapping = detritus_mapping,\n",
    "                                        transform = test_transformations,\n",
    "                                        )\n",
    "\n",
    "final_det_val_dataloader = DataLoader(final_det_val_dataset, batch_size=128, num_workers=4)"
   ]
  },
  {
   "cell_type": "code",
   "execution_count": 29,
   "metadata": {},
   "outputs": [
    {
     "name": "stderr",
     "output_type": "stream",
     "text": [
      " 25%|██▌       | 1/4 [05:19<15:58, 319.57s/it]"
     ]
    },
    {
     "name": "stdout",
     "output_type": "stream",
     "text": [
      "Epoch 1. Accuracy: 0.7622. Mean Accuracy: 77.73822313568985. Avg Loss train: 0.4928699137629114. Avg Loss test: 0.4841241231090144\n"
     ]
    },
    {
     "name": "stderr",
     "output_type": "stream",
     "text": [
      " 50%|█████     | 2/4 [10:48<10:44, 322.40s/it]"
     ]
    },
    {
     "name": "stdout",
     "output_type": "stream",
     "text": [
      "Epoch 2. Accuracy: 0.7709. Mean Accuracy: 78.64402065920675. Avg Loss train: 0.4397375834897789. Avg Loss test: 0.48258324673301295\n"
     ]
    },
    {
     "name": "stderr",
     "output_type": "stream",
     "text": [
      "100%|██████████| 4/4 [21:37<00:00, 323.41s/it]"
     ]
    },
    {
     "name": "stdout",
     "output_type": "stream",
     "text": [
      "Epoch 4. Accuracy: 0.8068. Mean Accuracy: 81.33080022221735. Avg Loss train: 0.4050285627247382. Avg Loss test: 0.4115564426832032\n"
     ]
    },
    {
     "name": "stderr",
     "output_type": "stream",
     "text": [
      "\n"
     ]
    },
    {
     "ename": "AttributeError",
     "evalue": "'DetritusModel' object has no attribute 'save'",
     "output_type": "error",
     "traceback": [
      "\u001b[0;31m---------------------------------------------------------------------------\u001b[0m",
      "\u001b[0;31mAttributeError\u001b[0m                            Traceback (most recent call last)",
      "\u001b[0;32m<ipython-input-29-3dbfc285ae32>\u001b[0m in \u001b[0;36m<module>\u001b[0;34m()\u001b[0m\n\u001b[1;32m     29\u001b[0m     \u001b[0mtrain_loss_values\u001b[0m\u001b[0;34m.\u001b[0m\u001b[0mappend\u001b[0m\u001b[0;34m(\u001b[0m\u001b[0mavg_loss\u001b[0m\u001b[0;34m)\u001b[0m\u001b[0;34m\u001b[0m\u001b[0m\n\u001b[1;32m     30\u001b[0m \u001b[0;34m\u001b[0m\u001b[0m\n\u001b[0;32m---> 31\u001b[0;31m \u001b[0mfinal_detritus_model\u001b[0m\u001b[0;34m.\u001b[0m\u001b[0msave\u001b[0m\u001b[0;34m(\u001b[0m\u001b[0mfinal_detritus\u001b[0m\u001b[0;34m.\u001b[0m\u001b[0mstate_dict\u001b[0m\u001b[0;34m(\u001b[0m\u001b[0;34m)\u001b[0m\u001b[0;34m,\u001b[0m \u001b[0;34m'./final_detritus_30'\u001b[0m\u001b[0;34m)\u001b[0m\u001b[0;34m\u001b[0m\u001b[0m\n\u001b[0m\u001b[1;32m     32\u001b[0m \u001b[0;34m\u001b[0m\u001b[0m\n\u001b[1;32m     33\u001b[0m \u001b[0;31m# plot accuracy graph\u001b[0m\u001b[0;34m\u001b[0m\u001b[0;34m\u001b[0m\u001b[0m\n",
      "\u001b[0;32m/usr/local/lib/python3.5/dist-packages/torch/nn/modules/module.py\u001b[0m in \u001b[0;36m__getattr__\u001b[0;34m(self, name)\u001b[0m\n\u001b[1;32m    516\u001b[0m                 \u001b[0;32mreturn\u001b[0m \u001b[0mmodules\u001b[0m\u001b[0;34m[\u001b[0m\u001b[0mname\u001b[0m\u001b[0;34m]\u001b[0m\u001b[0;34m\u001b[0m\u001b[0m\n\u001b[1;32m    517\u001b[0m         raise AttributeError(\"'{}' object has no attribute '{}'\".format(\n\u001b[0;32m--> 518\u001b[0;31m             type(self).__name__, name))\n\u001b[0m\u001b[1;32m    519\u001b[0m \u001b[0;34m\u001b[0m\u001b[0m\n\u001b[1;32m    520\u001b[0m     \u001b[0;32mdef\u001b[0m \u001b[0m__setattr__\u001b[0m\u001b[0;34m(\u001b[0m\u001b[0mself\u001b[0m\u001b[0;34m,\u001b[0m \u001b[0mname\u001b[0m\u001b[0;34m,\u001b[0m \u001b[0mvalue\u001b[0m\u001b[0;34m)\u001b[0m\u001b[0;34m:\u001b[0m\u001b[0;34m\u001b[0m\u001b[0m\n",
      "\u001b[0;31mAttributeError\u001b[0m: 'DetritusModel' object has no attribute 'save'"
     ]
    }
   ],
   "source": [
    "# first we train the model who classifies only detritus\n",
    "\n",
    "final_detritus_model = DetritusModel().to(device)\n",
    "final_detritus_model.zero_grad()\n",
    "final_detritus_model.train()\n",
    "\n",
    "loss_function = nn.NLLLoss()\n",
    "\n",
    "# Confusions matrix analysis\n",
    "n_classes = 2\n",
    "\n",
    "optimizer = torch.optim.Adam(final_detritus_model.parameters())\n",
    "\n",
    "test_loss_values = []\n",
    "train_loss_values = []\n",
    "\n",
    "epoch = 4\n",
    "\n",
    "for e in tqdm(range(epoch)):\n",
    "    # training\n",
    "    avg_loss = train_model(final_det_train_dataloader, final_detritus_model, optimizer, loss_function)\n",
    "\n",
    "    correct, confusion_matrix, accuracies, avg_loss_test = test_model(final_det_val_dataloader, final_detritus_model, loss_function, n_classes)\n",
    "    mean_accuracy = np.mean(accuracies)\n",
    "    accuracy = correct / len(y_test)\n",
    "    \n",
    "    print(\"Epoch {0}. Accuracy: {1}. Mean Accuracy: {2}. Avg Loss train: {3}. Avg Loss test: {4}\".format(e + 1, round(accuracy, 4), mean_accuracy, avg_loss, avg_loss_test))\n",
    "    test_loss_values.append(avg_loss_test)\n",
    "    train_loss_values.append(avg_loss)\n",
    "\n",
    "# final_detritus_model.save(final_detritus.state_dict(), './final_detritus_30')\n",
    "\n",
    "# plot accuracy graph\n",
    "plt.figure()\n",
    "plt.plot(range(1, epoch + 1), train_loss_values, label='training set loss')\n",
    "plt.plot(range(1, epoch + 1), test_loss_values, label='validation set loss')\n",
    "plt.legend()\n",
    "plt.show()"
   ]
  },
  {
   "cell_type": "code",
   "execution_count": 30,
   "metadata": {},
   "outputs": [
    {
     "data": {
      "image/png": "[encoded data removed]",
      "text/plain": [
       "<Figure size 432x288 with 1 Axes>"
      ]
     },
     "metadata": {},
     "output_type": "display_data"
    }
   ],
   "source": [
    "torch.save(final_detritus_model.state_dict(), './final_detritus_4')\n",
    "\n",
    "# plot accuracy graph\n",
    "plt.figure()\n",
    "plt.plot(range(1, epoch + 1), train_loss_values, label='training set loss')\n",
    "plt.plot(range(1, epoch + 1), test_loss_values, label='validation set loss')\n",
    "plt.legend()\n",
    "plt.show()"
   ]
  },
  {
   "cell_type": "markdown",
   "metadata": {},
   "source": [
    "#### **Non detritus Final Model**"
   ]
  },
  {
   "cell_type": "code",
   "execution_count": 31,
   "metadata": {},
   "outputs": [],
   "source": [
    "# weights for weighted random sampler\n",
    "\n",
    "no_detritus_df = plankton_df[plankton_df['level2'] != 'detritus']\n",
    "\n",
    "X_no_d = no_detritus_df['objid']\n",
    "y_no_d = no_detritus_df['level2']\n",
    "\n",
    "X_nodet_train, X_nodet_test, y_nodet_train, y_nodet_test = train_test_split(X_no_d, y_no_d, test_size=0.15, stratify=y_no_d)\n",
    "\n",
    "#weights_df = no_detritus_df[no_detritus_df['objid'].isin(X_nodet_train.values)] # assign weights only to samples in the training set\n",
    "weights_df = pd.DataFrame({'objid':X_nodet_train.values, 'level2': y_nodet_train.values})\n",
    "weights_df['level2'] = weights_df['level2'].map(no_detritus_label_mapping)\n",
    "weights_df['count'] = weights_df.groupby('level2')['level2'].transform('count')\n",
    "weights_df['count'] = len(weights_df) / weights_df['count']\n",
    "weights = weights_df['count'].values\n",
    "weights = torch.DoubleTensor(weights)\n",
    "no_detritus_wrs = torch.utils.data.sampler.WeightedRandomSampler(weights, len(weights))\n",
    "\n",
    "final_nodet_train_dataset = PlanktonDataset(X_nodet_train.values, y_nodet_train.values,\n",
    "                                        img_files = img_files,\n",
    "                                        label_mapping = no_detritus_label_mapping,\n",
    "                                        transform = training_transformations,\n",
    "                                        )\n",
    "\n",
    "final_nodet_train_dataloader = DataLoader(final_nodet_train_dataset, batch_size=128, sampler=no_detritus_wrs, num_workers=4)\n",
    "\n",
    "final_nodet_val_dataset = PlanktonDataset(X_nodet_test.values, y_nodet_test.values,\n",
    "                                        img_files = img_files,\n",
    "                                        label_mapping = no_detritus_label_mapping,\n",
    "                                        transform = test_transformations,\n",
    "                                        )\n",
    "\n",
    "final_nodet_val_dataloader = DataLoader(final_nodet_val_dataset, batch_size=128, num_workers=4)"
   ]
  },
  {
   "cell_type": "code",
   "execution_count": 32,
   "metadata": {},
   "outputs": [
    {
     "name": "stderr",
     "output_type": "stream",
     "text": [
      " 20%|██        | 1/5 [02:13<08:53, 133.45s/it]"
     ]
    },
    {
     "name": "stdout",
     "output_type": "stream",
     "text": [
      "Epoch 1. Accuracy: 0.267. Mean Accuracy: 32.2496880728242. Avg Loss train: 2.41331201430001. Avg Loss test: 2.318747849968391\n"
     ]
    },
    {
     "name": "stderr",
     "output_type": "stream",
     "text": [
      " 40%|████      | 2/5 [04:30<06:43, 134.59s/it]"
     ]
    },
    {
     "name": "stdout",
     "output_type": "stream",
     "text": [
      "Epoch 2. Accuracy: 0.4313. Mean Accuracy: 44.399433694299375. Avg Loss train: 1.8708819412771678. Avg Loss test: 1.8316265897053043\n"
     ]
    },
    {
     "name": "stderr",
     "output_type": "stream",
     "text": [
      " 60%|██████    | 3/5 [06:50<04:32, 136.15s/it]"
     ]
    },
    {
     "name": "stdout",
     "output_type": "stream",
     "text": [
      "Epoch 3. Accuracy: 0.4423. Mean Accuracy: 49.57531931516324. Avg Loss train: 1.6018868808801463. Avg Loss test: 1.82356684479287\n"
     ]
    },
    {
     "name": "stderr",
     "output_type": "stream",
     "text": [
      " 80%|████████  | 4/5 [09:07<02:16, 136.43s/it]"
     ]
    },
    {
     "name": "stdout",
     "output_type": "stream",
     "text": [
      "Epoch 4. Accuracy: 0.5195. Mean Accuracy: 51.71048171160492. Avg Loss train: 1.4200901945546873. Avg Loss test: 1.5260258525367674\n"
     ]
    },
    {
     "name": "stderr",
     "output_type": "stream",
     "text": [
      "100%|██████████| 5/5 [11:24<00:00, 136.70s/it]"
     ]
    },
    {
     "name": "stdout",
     "output_type": "stream",
     "text": [
      "Epoch 5. Accuracy: 0.4795. Mean Accuracy: 54.54267096683386. Avg Loss train: 1.3147343045714273. Avg Loss test: 1.6666251159295804\n"
     ]
    },
    {
     "name": "stderr",
     "output_type": "stream",
     "text": [
      "\n"
     ]
    },
    {
     "ename": "AttributeError",
     "evalue": "'NonDetritusModel' object has no attribute 'save'",
     "output_type": "error",
     "traceback": [
      "\u001b[0;31m---------------------------------------------------------------------------\u001b[0m",
      "\u001b[0;31mAttributeError\u001b[0m                            Traceback (most recent call last)",
      "\u001b[0;32m<ipython-input-32-f667d2084b46>\u001b[0m in \u001b[0;36m<module>\u001b[0;34m()\u001b[0m\n\u001b[1;32m     29\u001b[0m     \u001b[0mtrain_loss_values\u001b[0m\u001b[0;34m.\u001b[0m\u001b[0mappend\u001b[0m\u001b[0;34m(\u001b[0m\u001b[0mavg_loss\u001b[0m\u001b[0;34m)\u001b[0m\u001b[0;34m\u001b[0m\u001b[0m\n\u001b[1;32m     30\u001b[0m \u001b[0;34m\u001b[0m\u001b[0m\n\u001b[0;32m---> 31\u001b[0;31m \u001b[0mfinal_n_detritus_model\u001b[0m\u001b[0;34m.\u001b[0m\u001b[0msave\u001b[0m\u001b[0;34m(\u001b[0m\u001b[0mfinal_n_detritus_model\u001b[0m\u001b[0;34m.\u001b[0m\u001b[0mstate_dict\u001b[0m\u001b[0;34m(\u001b[0m\u001b[0;34m)\u001b[0m\u001b[0;34m,\u001b[0m \u001b[0;34m'./final_nodetritus_30'\u001b[0m\u001b[0;34m)\u001b[0m\u001b[0;34m\u001b[0m\u001b[0m\n\u001b[0m\u001b[1;32m     32\u001b[0m \u001b[0;34m\u001b[0m\u001b[0m\n\u001b[1;32m     33\u001b[0m \u001b[0;31m# plot accuracy graph\u001b[0m\u001b[0;34m\u001b[0m\u001b[0;34m\u001b[0m\u001b[0m\n",
      "\u001b[0;32m/usr/local/lib/python3.5/dist-packages/torch/nn/modules/module.py\u001b[0m in \u001b[0;36m__getattr__\u001b[0;34m(self, name)\u001b[0m\n\u001b[1;32m    516\u001b[0m                 \u001b[0;32mreturn\u001b[0m \u001b[0mmodules\u001b[0m\u001b[0;34m[\u001b[0m\u001b[0mname\u001b[0m\u001b[0;34m]\u001b[0m\u001b[0;34m\u001b[0m\u001b[0m\n\u001b[1;32m    517\u001b[0m         raise AttributeError(\"'{}' object has no attribute '{}'\".format(\n\u001b[0;32m--> 518\u001b[0;31m             type(self).__name__, name))\n\u001b[0m\u001b[1;32m    519\u001b[0m \u001b[0;34m\u001b[0m\u001b[0m\n\u001b[1;32m    520\u001b[0m     \u001b[0;32mdef\u001b[0m \u001b[0m__setattr__\u001b[0m\u001b[0;34m(\u001b[0m\u001b[0mself\u001b[0m\u001b[0;34m,\u001b[0m \u001b[0mname\u001b[0m\u001b[0;34m,\u001b[0m \u001b[0mvalue\u001b[0m\u001b[0;34m)\u001b[0m\u001b[0;34m:\u001b[0m\u001b[0;34m\u001b[0m\u001b[0m\n",
      "\u001b[0;31mAttributeError\u001b[0m: 'NonDetritusModel' object has no attribute 'save'"
     ]
    }
   ],
   "source": [
    "# first we train the model who classifies only detritus\n",
    "\n",
    "final_n_detritus_model = NonDetritusModel().to(device)\n",
    "final_n_detritus_model.zero_grad()\n",
    "final_n_detritus_model.train()\n",
    "\n",
    "loss_function = nn.NLLLoss()\n",
    "\n",
    "# Confusions matrix analysis\n",
    "n_classes = 38\n",
    "\n",
    "optimizer = torch.optim.Adam(final_n_detritus_model.parameters())\n",
    "\n",
    "test_loss_values = []\n",
    "train_loss_values = []\n",
    "\n",
    "epoch = 30\n",
    "\n",
    "for e in tqdm(range(epoch)):\n",
    "    # training\n",
    "    avg_loss = train_model(final_nodet_train_dataloader, final_n_detritus_model, optimizer, loss_function)\n",
    "\n",
    "    correct, confusion_matrix, accuracies, avg_loss_test = test_model(final_nodet_val_dataloader, final_n_detritus_model, loss_function, n_classes)\n",
    "    mean_accuracy = np.mean(accuracies)\n",
    "    accuracy = correct / len(y_nodet_test)\n",
    "    \n",
    "    print(\"Epoch {0}. Accuracy: {1}. Mean Accuracy: {2}. Avg Loss train: {3}. Avg Loss test: {4}\".format(e + 1, round(accuracy, 4), mean_accuracy, avg_loss, avg_loss_test))\n",
    "    test_loss_values.append(avg_loss_test)\n",
    "    train_loss_values.append(avg_loss)\n",
    "\n",
    "# final_n_detritus_model.save(final_n_detritus_model.state_dict(), './final_nodetritus_30')\n",
    "\n",
    "# plot accuracy graph\n",
    "plt.figure()\n",
    "plt.plot(range(1, epoch + 1), train_loss_values, label='training set loss')\n",
    "plt.plot(range(1, epoch + 1), test_loss_values, label='validation set loss')\n",
    "plt.legend()\n",
    "plt.show()"
   ]
  },
  {
   "cell_type": "markdown",
   "metadata": {},
   "source": [
    "F1 Score"
   ]
  },
  {
   "cell_type": "code",
   "execution_count": 33,
   "metadata": {},
   "outputs": [
    {
     "data": {
      "image/png": "[encoded data removed]",
      "text/plain": [
       "<Figure size 432x288 with 1 Axes>"
      ]
     },
     "metadata": {},
     "output_type": "display_data"
    }
   ],
   "source": [
    "torch.save(final_n_detritus_model.state_dict(), './final_n_detritus_5')\n",
    "\n",
    "# plot accuracy graph\n",
    "plt.figure()\n",
    "plt.plot(range(1, epoch + 1), train_loss_values, label='training set loss')\n",
    "plt.plot(range(1, epoch + 1), test_loss_values, label='validation set loss')\n",
    "plt.legend()\n",
    "plt.show()"
   ]
  },
  {
   "cell_type": "code",
   "execution_count": 37,
   "metadata": {},
   "outputs": [
    {
     "name": "stderr",
     "output_type": "stream",
     "text": [
      "15626it [01:31, 170.50it/s]"
     ]
    },
    {
     "name": "stdout",
     "output_type": "stream",
     "text": [
      "Final F1 Score: (0.5065972920694373, 0.3016592131920774)\n"
     ]
    },
    {
     "name": "stderr",
     "output_type": "stream",
     "text": [
      "\n"
     ]
    }
   ],
   "source": [
    "f1_dataset = PlanktonDataset(X_nodet_test.values, y_nodet_test.values,\n",
    "                                img_files=img_files, label_mapping=detritus_mapping,\n",
    "                                 transform = test_transformations)\n",
    "\n",
    "f1_dataloader = DataLoader(f1_dataset, batch_size=1, num_workers=4)\n",
    "\n",
    "print('Final F1 Score:', get_f1_score_hierarchical(f1_dataloader, final_detritus_model, final_n_detritus_model))"
   ]
  },
  {
   "cell_type": "code",
   "execution_count": 39,
   "metadata": {},
   "outputs": [
    {
     "name": "stderr",
     "output_type": "stream",
     "text": [
      "  8%|▊         | 1/12 [02:18<25:22, 138.43s/it]"
     ]
    },
    {
     "name": "stdout",
     "output_type": "stream",
     "text": [
      "Epoch 15. Accuracy: 0.6068. Mean Accuracy: 64.44024785731634. Avg Loss train: 0.9091921624420696. Avg Loss test: 1.2325755948942851\n"
     ]
    },
    {
     "name": "stderr",
     "output_type": "stream",
     "text": [
      " 17%|█▋        | 2/12 [04:35<22:58, 137.89s/it]"
     ]
    },
    {
     "name": "stdout",
     "output_type": "stream",
     "text": [
      "Epoch 16. Accuracy: 0.6048. Mean Accuracy: 63.14648633309546. Avg Loss train: 0.8791576879734249. Avg Loss test: 1.2638706516444198\n"
     ]
    },
    {
     "name": "stderr",
     "output_type": "stream",
     "text": [
      " 25%|██▌       | 3/12 [06:53<20:42, 138.03s/it]"
     ]
    },
    {
     "name": "stdout",
     "output_type": "stream",
     "text": [
      "Epoch 17. Accuracy: 0.6016. Mean Accuracy: 62.48875035782189. Avg Loss train: 0.8668618561387751. Avg Loss test: 1.2626113096872966\n"
     ]
    },
    {
     "name": "stderr",
     "output_type": "stream",
     "text": [
      " 33%|███▎      | 4/12 [09:11<18:24, 138.11s/it]"
     ]
    },
    {
     "name": "stdout",
     "output_type": "stream",
     "text": [
      "Epoch 18. Accuracy: 0.6218. Mean Accuracy: 63.5472992640447. Avg Loss train: 0.8489616174746111. Avg Loss test: 1.2072272678700888\n"
     ]
    },
    {
     "name": "stderr",
     "output_type": "stream",
     "text": [
      " 42%|████▏     | 5/12 [11:28<16:04, 137.78s/it]"
     ]
    },
    {
     "name": "stdout",
     "output_type": "stream",
     "text": [
      "Epoch 19. Accuracy: 0.6173. Mean Accuracy: 62.93348733053856. Avg Loss train: 0.8399225935081526. Avg Loss test: 1.2053113007933143\n"
     ]
    },
    {
     "name": "stderr",
     "output_type": "stream",
     "text": [
      " 50%|█████     | 6/12 [13:46<13:47, 137.84s/it]"
     ]
    },
    {
     "name": "stdout",
     "output_type": "stream",
     "text": [
      "Epoch 20. Accuracy: 0.6513. Mean Accuracy: 62.79280172112208. Avg Loss train: 0.8159245374058023. Avg Loss test: 1.1010594741115725\n"
     ]
    },
    {
     "name": "stderr",
     "output_type": "stream",
     "text": [
      " 58%|█████▊    | 7/12 [16:06<11:31, 138.29s/it]"
     ]
    },
    {
     "name": "stdout",
     "output_type": "stream",
     "text": [
      "Epoch 21. Accuracy: 0.6343. Mean Accuracy: 66.18434367970907. Avg Loss train: 0.8007822321846306. Avg Loss test: 1.1412868242922838\n"
     ]
    },
    {
     "name": "stderr",
     "output_type": "stream",
     "text": [
      " 67%|██████▋   | 8/12 [18:22<09:11, 137.86s/it]"
     ]
    },
    {
     "name": "stdout",
     "output_type": "stream",
     "text": [
      "Epoch 22. Accuracy: 0.6403. Mean Accuracy: 65.67340825214846. Avg Loss train: 0.8023953816794247. Avg Loss test: 1.127577675551903\n"
     ]
    },
    {
     "name": "stderr",
     "output_type": "stream",
     "text": [
      " 75%|███████▌  | 9/12 [20:39<06:52, 137.63s/it]"
     ]
    },
    {
     "name": "stdout",
     "output_type": "stream",
     "text": [
      "Epoch 23. Accuracy: 0.6332. Mean Accuracy: 65.1762466240631. Avg Loss train: 0.7832749957983205. Avg Loss test: 1.1772591389291656\n"
     ]
    },
    {
     "name": "stderr",
     "output_type": "stream",
     "text": [
      " 83%|████████▎ | 10/12 [22:57<04:35, 137.54s/it]"
     ]
    },
    {
     "name": "stdout",
     "output_type": "stream",
     "text": [
      "Epoch 24. Accuracy: 0.6482. Mean Accuracy: 65.24568097223478. Avg Loss train: 0.7731336539105184. Avg Loss test: 1.1145764749224594\n"
     ]
    },
    {
     "name": "stderr",
     "output_type": "stream",
     "text": [
      " 92%|█████████▏| 11/12 [25:16<02:17, 137.95s/it]"
     ]
    },
    {
     "name": "stdout",
     "output_type": "stream",
     "text": [
      "Epoch 25. Accuracy: 0.6549. Mean Accuracy: 65.06781292792421. Avg Loss train: 0.7690708260832494. Avg Loss test: 1.089762115866188\n"
     ]
    },
    {
     "name": "stderr",
     "output_type": "stream",
     "text": [
      "100%|██████████| 12/12 [27:36<00:00, 138.61s/it]"
     ]
    },
    {
     "name": "stdout",
     "output_type": "stream",
     "text": [
      "Epoch 26. Accuracy: 0.6613. Mean Accuracy: 65.76097605002762. Avg Loss train: 0.7520686771742181. Avg Loss test: 1.07666418174418\n"
     ]
    },
    {
     "name": "stderr",
     "output_type": "stream",
     "text": [
      "\n"
     ]
    },
    {
     "data": {
      "image/png": "[encoded data removed]",
      "text/plain": [
       "<Figure size 432x288 with 1 Axes>"
      ]
     },
     "metadata": {},
     "output_type": "display_data"
    },
    {
     "name": "stderr",
     "output_type": "stream",
     "text": [
      "15626it [01:31, 171.07it/s]\n"
     ]
    },
    {
     "name": "stdout",
     "output_type": "stream",
     "text": [
      "Final F1 Score: (0.6590484631872755, 0.40515637006269)\n"
     ]
    }
   ],
   "source": [
    "add_epoch = 12\n",
    "\n",
    "for e in tqdm(range(add_epoch)):\n",
    "    # training\n",
    "    avg_loss = train_model(final_nodet_train_dataloader, final_n_detritus_model, optimizer, loss_function)\n",
    "\n",
    "    correct, confusion_matrix, accuracies, avg_loss_test = test_model(final_nodet_val_dataloader, final_n_detritus_model, loss_function, n_classes)\n",
    "    mean_accuracy = np.mean(accuracies)\n",
    "    accuracy = correct / len(y_nodet_test)\n",
    "    \n",
    "    print(\"Epoch {0}. Accuracy: {1}. Mean Accuracy: {2}. Avg Loss train: {3}. Avg Loss test: {4}\".format(epoch + e + 1, round(accuracy, 4), mean_accuracy, avg_loss, avg_loss_test))\n",
    "    test_loss_values.append(avg_loss_test)\n",
    "    train_loss_values.append(avg_loss)\n",
    "\n",
    "epoch += add_epoch\n",
    "\n",
    "torch.save(final_n_detritus_model.state_dict(), './final_n_detritus_12')\n",
    "\n",
    "# plot accuracy graph\n",
    "plt.figure()\n",
    "plt.plot(range(1, epoch + 1), train_loss_values, label='training set loss')\n",
    "plt.plot(range(1, epoch + 1), test_loss_values, label='validation set loss')\n",
    "plt.legend()\n",
    "plt.show()\n",
    "print('Final F1 Score:', get_f1_score_hierarchical(f1_dataloader, final_detritus_model, final_n_detritus_model))"
   ]
  },
  {
   "cell_type": "code",
   "execution_count": 33,
   "metadata": {},
   "outputs": [],
   "source": [
    "# weights for weighted random sampler\n",
    "\n",
    "# final_df = plankton_df\n",
    "\n",
    "# X_ = final_df['objid']\n",
    "# y_ = final_df['level2']\n",
    "\n",
    "# #X_nodet_train, X_nodet_test, y_nodet_train, y_nodet_test = train_test_split(X_no_d, y_no_d, test_size=0.15, stratify=y_no_d)\n",
    "\n",
    "#weights_df = no_detritus_df[no_detritus_df['objid'].isin(X_train.values)] # assign weights only to samples in the training set\n",
    "weights_df = pd.DataFrame({'objid': X_train.values, 'level2': y_train.values})\n",
    "weights_df['level2'] = weights_df['level2'].map(label_mapping)\n",
    "weights_df['count'] = weights_df.groupby('level2')['level2'].transform('count')\n",
    "weights_df['count'] = len(weights_df) / weights_df['count']\n",
    "weights = weights_df['count'].values\n",
    "weights = torch.DoubleTensor(weights)\n",
    "\n",
    "planktop_wrs = torch.utils.data.sampler.WeightedRandomSampler(weights, len(weights), replacement=True)\n",
    "\n",
    "final_train_dataset = PlanktonDataset(X_train.values, y_train.values,\n",
    "                                        img_files=img_files,\n",
    "                                        label_mapping=label_mapping,\n",
    "                                        transform=training_transformations,\n",
    "                                        )\n",
    "\n",
    "final_train_dataloader = DataLoader(final_train_dataset, batch_size=128, sampler=planktop_wrs, num_workers=4)\n",
    "\n",
    "final_val_dataset = PlanktonDataset(X_test.values, y_test.values,\n",
    "                                        img_files=img_files,\n",
    "                                        label_mapping=label_mapping,\n",
    "                                        transform=test_transformations,\n",
    "                                        )\n",
    "\n",
    "final_val_dataloader = DataLoader(final_val_dataset, batch_size=128, num_workers=4)"
   ]
  },
  {
   "cell_type": "code",
   "execution_count": 34,
   "metadata": {},
   "outputs": [
    {
     "name": "stderr",
     "output_type": "stream",
     "text": [
      "  3%|▎         | 1/30 [03:10<1:31:55, 190.19s/it]"
     ]
    },
    {
     "name": "stdout",
     "output_type": "stream",
     "text": [
      "Epoch 1. Accuracy: 0.2581. Mean Accuracy: 44.939313264478336. Avg Loss train: 2.1221593409111126. Avg Loss test: 2.565989911765383\n"
     ]
    },
    {
     "name": "stderr",
     "output_type": "stream",
     "text": [
      "  7%|▋         | 2/30 [06:22<1:29:03, 190.85s/it]"
     ]
    },
    {
     "name": "stdout",
     "output_type": "stream",
     "text": [
      "Epoch 2. Accuracy: 0.3249. Mean Accuracy: 52.99933638724913. Avg Loss train: 1.5375067252970807. Avg Loss test: 2.3167693589863023\n"
     ]
    },
    {
     "name": "stderr",
     "output_type": "stream",
     "text": [
      " 10%|█         | 3/30 [09:34<1:25:59, 191.11s/it]"
     ]
    },
    {
     "name": "stdout",
     "output_type": "stream",
     "text": [
      "Epoch 3. Accuracy: 0.3447. Mean Accuracy: 56.91211330881659. Avg Loss train: 1.3194688132249983. Avg Loss test: 2.1563818864655078\n"
     ]
    },
    {
     "name": "stderr",
     "output_type": "stream",
     "text": [
      " 13%|█▎        | 4/30 [12:48<1:23:12, 192.03s/it]"
     ]
    },
    {
     "name": "stdout",
     "output_type": "stream",
     "text": [
      "Epoch 4. Accuracy: 0.3757. Mean Accuracy: 50.30622629267264. Avg Loss train: 1.2122059044781748. Avg Loss test: 2.1509203329420927\n"
     ]
    },
    {
     "name": "stderr",
     "output_type": "stream",
     "text": [
      " 17%|█▋        | 5/30 [16:03<1:20:24, 192.97s/it]"
     ]
    },
    {
     "name": "stdout",
     "output_type": "stream",
     "text": [
      "Epoch 5. Accuracy: 0.3846. Mean Accuracy: 60.99292922981586. Avg Loss train: 1.1427970648403498. Avg Loss test: 2.0306515886072525\n"
     ]
    },
    {
     "name": "stderr",
     "output_type": "stream",
     "text": [
      " 20%|██        | 6/30 [19:10<1:16:24, 191.01s/it]"
     ]
    },
    {
     "name": "stdout",
     "output_type": "stream",
     "text": [
      "Epoch 6. Accuracy: 0.3633. Mean Accuracy: 61.57841206271969. Avg Loss train: 1.0934694140927668. Avg Loss test: 2.131507848856742\n"
     ]
    },
    {
     "name": "stderr",
     "output_type": "stream",
     "text": [
      " 23%|██▎       | 7/30 [22:20<1:13:08, 190.80s/it]"
     ]
    },
    {
     "name": "stdout",
     "output_type": "stream",
     "text": [
      "Epoch 7. Accuracy: 0.377. Mean Accuracy: 62.06424407380147. Avg Loss train: 1.049314320161384. Avg Loss test: 2.0199480437395865\n"
     ]
    },
    {
     "name": "stderr",
     "output_type": "stream",
     "text": [
      " 27%|██▋       | 8/30 [25:28<1:09:43, 190.14s/it]"
     ]
    },
    {
     "name": "stdout",
     "output_type": "stream",
     "text": [
      "Epoch 8. Accuracy: 0.3702. Mean Accuracy: 66.77784959481872. Avg Loss train: 1.0161990187969752. Avg Loss test: 2.118655552780419\n"
     ]
    },
    {
     "name": "stderr",
     "output_type": "stream",
     "text": [
      " 30%|███       | 9/30 [28:42<1:06:55, 191.21s/it]"
     ]
    },
    {
     "name": "stdout",
     "output_type": "stream",
     "text": [
      "Epoch 9. Accuracy: 0.4473. Mean Accuracy: 64.63055348201068. Avg Loss train: 0.9902103370235812. Avg Loss test: 1.7869875824242307\n"
     ]
    },
    {
     "name": "stderr",
     "output_type": "stream",
     "text": [
      " 33%|███▎      | 10/30 [31:59<1:04:15, 192.75s/it]"
     ]
    },
    {
     "name": "stdout",
     "output_type": "stream",
     "text": [
      "Epoch 10. Accuracy: 0.4245. Mean Accuracy: 64.20474572742864. Avg Loss train: 0.9673805531142071. Avg Loss test: 1.880439727766472\n"
     ]
    },
    {
     "name": "stderr",
     "output_type": "stream",
     "text": [
      " 37%|███▋      | 11/30 [35:10<1:00:57, 192.48s/it]"
     ]
    },
    {
     "name": "stdout",
     "output_type": "stream",
     "text": [
      "Epoch 11. Accuracy: 0.4197. Mean Accuracy: 67.98573338135499. Avg Loss train: 0.9509752048526153. Avg Loss test: 1.9545649888222678\n"
     ]
    },
    {
     "name": "stderr",
     "output_type": "stream",
     "text": [
      " 40%|████      | 12/30 [38:21<57:36, 192.03s/it]  "
     ]
    },
    {
     "name": "stdout",
     "output_type": "stream",
     "text": [
      "Epoch 12. Accuracy: 0.4403. Mean Accuracy: 65.79476791765721. Avg Loss train: 0.9285547690784961. Avg Loss test: 1.8137941281000773\n"
     ]
    },
    {
     "name": "stderr",
     "output_type": "stream",
     "text": [
      " 43%|████▎     | 13/30 [41:30<54:07, 191.03s/it]"
     ]
    },
    {
     "name": "stdout",
     "output_type": "stream",
     "text": [
      "Epoch 13. Accuracy: 0.4313. Mean Accuracy: 65.19266723921376. Avg Loss train: 0.9107370394335196. Avg Loss test: 1.8920736986294127\n"
     ]
    },
    {
     "name": "stderr",
     "output_type": "stream",
     "text": [
      " 47%|████▋     | 14/30 [44:43<51:06, 191.63s/it]"
     ]
    },
    {
     "name": "stdout",
     "output_type": "stream",
     "text": [
      "Epoch 14. Accuracy: 0.4296. Mean Accuracy: 65.74275808344895. Avg Loss train: 0.9080944831111. Avg Loss test: 1.8326498211475841\n"
     ]
    },
    {
     "name": "stderr",
     "output_type": "stream",
     "text": [
      " 50%|█████     | 15/30 [47:57<48:04, 192.31s/it]"
     ]
    },
    {
     "name": "stdout",
     "output_type": "stream",
     "text": [
      "Epoch 15. Accuracy: 0.4428. Mean Accuracy: 66.87709666712276. Avg Loss train: 0.8931908055807166. Avg Loss test: 1.755424496165493\n"
     ]
    },
    {
     "name": "stderr",
     "output_type": "stream",
     "text": [
      " 53%|█████▎    | 16/30 [51:10<44:53, 192.40s/it]"
     ]
    },
    {
     "name": "stdout",
     "output_type": "stream",
     "text": [
      "Epoch 16. Accuracy: 0.4001. Mean Accuracy: 67.37209848687547. Avg Loss train: 0.879258940777471. Avg Loss test: 1.9904644953577142\n"
     ]
    },
    {
     "name": "stderr",
     "output_type": "stream",
     "text": [
      " 57%|█████▋    | 17/30 [54:28<42:06, 194.31s/it]"
     ]
    },
    {
     "name": "stdout",
     "output_type": "stream",
     "text": [
      "Epoch 17. Accuracy: 0.4169. Mean Accuracy: 67.8440171410064. Avg Loss train: 0.8729211435498434. Avg Loss test: 1.910699347027561\n"
     ]
    },
    {
     "name": "stderr",
     "output_type": "stream",
     "text": [
      " 60%|██████    | 18/30 [57:36<38:26, 192.21s/it]"
     ]
    },
    {
     "name": "stdout",
     "output_type": "stream",
     "text": [
      "Epoch 18. Accuracy: 0.4541. Mean Accuracy: 66.30164023940172. Avg Loss train: 0.8679835251428502. Avg Loss test: 1.7670933359547665\n"
     ]
    },
    {
     "name": "stderr",
     "output_type": "stream",
     "text": [
      " 63%|██████▎   | 19/30 [1:00:45<35:04, 191.29s/it]"
     ]
    },
    {
     "name": "stdout",
     "output_type": "stream",
     "text": [
      "Epoch 19. Accuracy: 0.4425. Mean Accuracy: 67.07432047587415. Avg Loss train: 0.8476690043956411. Avg Loss test: 1.826997515193203\n"
     ]
    },
    {
     "name": "stderr",
     "output_type": "stream",
     "text": [
      " 67%|██████▋   | 20/30 [1:03:59<32:01, 192.16s/it]"
     ]
    },
    {
     "name": "stdout",
     "output_type": "stream",
     "text": [
      "Epoch 20. Accuracy: 0.455. Mean Accuracy: 67.36880727983502. Avg Loss train: 0.8474379970920884. Avg Loss test: 1.7829328800502577\n"
     ]
    },
    {
     "name": "stderr",
     "output_type": "stream",
     "text": [
      " 70%|███████   | 21/30 [1:07:15<28:58, 193.22s/it]"
     ]
    },
    {
     "name": "stdout",
     "output_type": "stream",
     "text": [
      "Epoch 21. Accuracy: 0.4277. Mean Accuracy: 67.49572820903539. Avg Loss train: 0.8333534981047841. Avg Loss test: 1.8761127028548927\n"
     ]
    },
    {
     "name": "stderr",
     "output_type": "stream",
     "text": [
      " 73%|███████▎  | 22/30 [1:10:27<25:44, 193.07s/it]"
     ]
    },
    {
     "name": "stdout",
     "output_type": "stream",
     "text": [
      "Epoch 22. Accuracy: 0.464. Mean Accuracy: 66.93307356282203. Avg Loss train: 0.8385131550633877. Avg Loss test: 1.757160200570759\n"
     ]
    },
    {
     "name": "stderr",
     "output_type": "stream",
     "text": [
      " 77%|███████▋  | 23/30 [1:13:39<22:28, 192.64s/it]"
     ]
    },
    {
     "name": "stdout",
     "output_type": "stream",
     "text": [
      "Epoch 23. Accuracy: 0.4141. Mean Accuracy: 67.47717840579635. Avg Loss train: 0.8228655869774428. Avg Loss test: 1.9392434584467035\n"
     ]
    },
    {
     "name": "stderr",
     "output_type": "stream",
     "text": [
      " 80%|████████  | 24/30 [1:16:48<19:09, 191.57s/it]"
     ]
    },
    {
     "name": "stdout",
     "output_type": "stream",
     "text": [
      "Epoch 24. Accuracy: 0.486. Mean Accuracy: 66.69148974831563. Avg Loss train: 0.8185673937682183. Avg Loss test: 1.6391797450550816\n"
     ]
    },
    {
     "name": "stderr",
     "output_type": "stream",
     "text": [
      " 83%|████████▎ | 25/30 [1:20:01<15:59, 191.82s/it]"
     ]
    },
    {
     "name": "stdout",
     "output_type": "stream",
     "text": [
      "Epoch 25. Accuracy: 0.4694. Mean Accuracy: 68.56008410210138. Avg Loss train: 0.8079161778573067. Avg Loss test: 1.7465849993521707\n"
     ]
    },
    {
     "name": "stderr",
     "output_type": "stream",
     "text": [
      " 87%|████████▋ | 26/30 [1:23:11<12:45, 191.40s/it]"
     ]
    },
    {
     "name": "stdout",
     "output_type": "stream",
     "text": [
      "Epoch 26. Accuracy: 0.4307. Mean Accuracy: 68.77083228067967. Avg Loss train: 0.8069339051435958. Avg Loss test: 1.8496737421604625\n"
     ]
    },
    {
     "name": "stderr",
     "output_type": "stream",
     "text": [
      " 90%|█████████ | 27/30 [1:26:26<09:37, 192.39s/it]"
     ]
    },
    {
     "name": "stdout",
     "output_type": "stream",
     "text": [
      "Epoch 27. Accuracy: 0.4391. Mean Accuracy: 68.15809583266886. Avg Loss train: 0.800007650540869. Avg Loss test: 1.8485944388205544\n"
     ]
    },
    {
     "name": "stderr",
     "output_type": "stream",
     "text": [
      " 93%|█████████▎| 28/30 [1:29:40<06:25, 192.87s/it]"
     ]
    },
    {
     "name": "stdout",
     "output_type": "stream",
     "text": [
      "Epoch 28. Accuracy: 0.4538. Mean Accuracy: 68.54604208541024. Avg Loss train: 0.8038625647648984. Avg Loss test: 1.7699072285702353\n"
     ]
    },
    {
     "name": "stderr",
     "output_type": "stream",
     "text": [
      " 97%|█████████▋| 29/30 [1:32:55<03:13, 193.49s/it]"
     ]
    },
    {
     "name": "stdout",
     "output_type": "stream",
     "text": [
      "Epoch 29. Accuracy: 0.4541. Mean Accuracy: 67.1058644987838. Avg Loss train: 0.7942176523893406. Avg Loss test: 1.7790993251298604\n"
     ]
    },
    {
     "name": "stderr",
     "output_type": "stream",
     "text": [
      "100%|██████████| 30/30 [1:36:06<00:00, 192.76s/it]"
     ]
    },
    {
     "name": "stdout",
     "output_type": "stream",
     "text": [
      "Epoch 30. Accuracy: 0.4717. Mean Accuracy: 67.01515838115562. Avg Loss train: 0.7900276402792623. Avg Loss test: 1.7303917550204093\n"
     ]
    },
    {
     "name": "stderr",
     "output_type": "stream",
     "text": [
      "\n"
     ]
    },
    {
     "data": {
      "image/png": "[encoded data removed]",
      "text/plain": [
       "<Figure size 432x288 with 1 Axes>"
      ]
     },
     "metadata": {
      "needs_background": "light"
     },
     "output_type": "display_data"
    }
   ],
   "source": [
    "# first we train the model who classifies only detritus\n",
    "\n",
    "final_plankton_model = PlanktonModel().to(device)\n",
    "final_plankton_model.zero_grad()\n",
    "final_plankton_model.train()\n",
    "\n",
    "loss_function = nn.NLLLoss()\n",
    "\n",
    "# Confusions matrix analysis\n",
    "n_classes = 39\n",
    "\n",
    "optimizer = torch.optim.Adam(final_plankton_model.parameters())\n",
    "\n",
    "test_loss_values = []\n",
    "train_loss_values = []\n",
    "\n",
    "epoch = 30\n",
    "\n",
    "for e in tqdm(range(epoch)):\n",
    "    # training\n",
    "    avg_loss = train_model(final_train_dataloader, final_plankton_model, optimizer, loss_function)\n",
    "\n",
    "    correct, confusion_matrix, accuracies, avg_loss_test = test_model(final_val_dataloader, final_plankton_model, loss_function, n_classes)\n",
    "    mean_accuracy = np.mean(accuracies)\n",
    "    accuracy = correct / len(y_test)\n",
    "    \n",
    "    print(\"Epoch {0}. Accuracy: {1}. Mean Accuracy: {2}. Avg Loss train: {3}. Avg Loss test: {4}\".format(e + 1, round(accuracy, 4), mean_accuracy, avg_loss, avg_loss_test))\n",
    "    test_loss_values.append(avg_loss_test)\n",
    "    train_loss_values.append(avg_loss)\n",
    "\n",
    "# final_n_detritus_model.save(final_n_detritus_model.state_dict(), './final_nodetritus_30')\n",
    "torch.save(final_plankton_model.state_dict(), './final_plankton_30')\n",
    "\n",
    "# plot accuracy graph\n",
    "plt.figure()\n",
    "plt.plot(range(1, epoch + 1), train_loss_values, label='training set loss')\n",
    "plt.plot(range(1, epoch + 1), test_loss_values, label='validation set loss')\n",
    "plt.legend()\n",
    "plt.show()"
   ]
  },
  {
   "cell_type": "code",
   "execution_count": 37,
   "metadata": {},
   "outputs": [
    {
     "name": "stderr",
     "output_type": "stream",
     "text": [
      " 10%|█         | 1/10 [03:12<28:50, 192.28s/it]"
     ]
    },
    {
     "name": "stdout",
     "output_type": "stream",
     "text": [
      "Epoch 1. Accuracy: 0.2629. Mean Accuracy: 41.613644315256444. Avg Loss train: 2.162178451902517. Avg Loss test: 2.567449985470688\n"
     ]
    },
    {
     "name": "stderr",
     "output_type": "stream",
     "text": [
      " 20%|██        | 2/10 [06:22<25:33, 191.72s/it]"
     ]
    },
    {
     "name": "stdout",
     "output_type": "stream",
     "text": [
      "Epoch 2. Accuracy: 0.2864. Mean Accuracy: 50.99450710983191. Avg Loss train: 1.6219649728267425. Avg Loss test: 2.4678004775130957\n"
     ]
    },
    {
     "name": "stderr",
     "output_type": "stream",
     "text": [
      " 30%|███       | 3/10 [09:33<22:20, 191.46s/it]"
     ]
    },
    {
     "name": "stdout",
     "output_type": "stream",
     "text": [
      "Epoch 3. Accuracy: 0.3179. Mean Accuracy: 54.36538087007578. Avg Loss train: 1.412600793850333. Avg Loss test: 2.281314612271493\n"
     ]
    },
    {
     "name": "stderr",
     "output_type": "stream",
     "text": [
      " 40%|████      | 4/10 [12:48<19:15, 192.57s/it]"
     ]
    },
    {
     "name": "stdout",
     "output_type": "stream",
     "text": [
      "Epoch 4. Accuracy: 0.3458. Mean Accuracy: 58.03766554697111. Avg Loss train: 1.2985052031559625. Avg Loss test: 2.2118310702474493\n"
     ]
    },
    {
     "name": "stderr",
     "output_type": "stream",
     "text": [
      " 50%|█████     | 5/10 [16:03<16:06, 193.28s/it]"
     ]
    },
    {
     "name": "stdout",
     "output_type": "stream",
     "text": [
      "Epoch 5. Accuracy: 0.3716. Mean Accuracy: 57.89757666974876. Avg Loss train: 1.2213218994900843. Avg Loss test: 2.130664258254202\n"
     ]
    },
    {
     "name": "stderr",
     "output_type": "stream",
     "text": [
      " 60%|██████    | 6/10 [19:18<12:55, 193.89s/it]"
     ]
    },
    {
     "name": "stdout",
     "output_type": "stream",
     "text": [
      "Epoch 6. Accuracy: 0.3756. Mean Accuracy: 60.83024195719345. Avg Loss train: 1.1671819657678935. Avg Loss test: 2.0160210287361813\n"
     ]
    },
    {
     "name": "stderr",
     "output_type": "stream",
     "text": [
      " 70%|███████   | 7/10 [22:33<09:42, 194.12s/it]"
     ]
    },
    {
     "name": "stdout",
     "output_type": "stream",
     "text": [
      "Epoch 7. Accuracy: 0.3527. Mean Accuracy: 58.737483642798665. Avg Loss train: 1.1225566516443162. Avg Loss test: 2.2750498160981296\n"
     ]
    },
    {
     "name": "stderr",
     "output_type": "stream",
     "text": [
      " 80%|████████  | 8/10 [25:46<06:27, 193.86s/it]"
     ]
    },
    {
     "name": "stdout",
     "output_type": "stream",
     "text": [
      "Epoch 8. Accuracy: 0.377. Mean Accuracy: 60.73540026642255. Avg Loss train: 1.0912624458890992. Avg Loss test: 2.06284355782626\n"
     ]
    },
    {
     "name": "stderr",
     "output_type": "stream",
     "text": [
      " 90%|█████████ | 9/10 [29:01<03:14, 194.05s/it]"
     ]
    },
    {
     "name": "stdout",
     "output_type": "stream",
     "text": [
      "Epoch 9. Accuracy: 0.3992. Mean Accuracy: 61.66678819310713. Avg Loss train: 1.0574478461931716. Avg Loss test: 1.991424272353189\n"
     ]
    },
    {
     "name": "stderr",
     "output_type": "stream",
     "text": [
      "100%|██████████| 10/10 [32:14<00:00, 193.77s/it]"
     ]
    },
    {
     "name": "stdout",
     "output_type": "stream",
     "text": [
      "Epoch 10. Accuracy: 0.3777. Mean Accuracy: 62.71981020837034. Avg Loss train: 1.0296485444748076. Avg Loss test: 2.077572376267952\n"
     ]
    },
    {
     "name": "stderr",
     "output_type": "stream",
     "text": [
      "\n"
     ]
    },
    {
     "data": {
      "image/png": "[encoded data removed]",
      "text/plain": [
       "<Figure size 432x288 with 1 Axes>"
      ]
     },
     "metadata": {
      "needs_background": "light"
     },
     "output_type": "display_data"
    },
    {
     "name": "stderr",
     "output_type": "stream",
     "text": [
      "36392it [03:36, 167.94it/s]\n"
     ]
    },
    {
     "name": "stdout",
     "output_type": "stream",
     "text": [
      "Final F1 Score: (0.4214305804826424, 0.27877471122869985)\n"
     ]
    }
   ],
   "source": [
    "# first we train the model who classifies only detritus\n",
    "\n",
    "final_plankton_model = PlanktonModel().to(device)\n",
    "final_plankton_model.zero_grad()\n",
    "final_plankton_model.train()\n",
    "\n",
    "loss_function = nn.NLLLoss()\n",
    "\n",
    "# Confusions matrix analysis\n",
    "n_classes = 39\n",
    "\n",
    "optimizer = torch.optim.Adam(final_plankton_model.parameters())\n",
    "\n",
    "test_loss_values = []\n",
    "train_loss_values = []\n",
    "\n",
    "epoch = 10\n",
    "\n",
    "for e in tqdm(range(epoch)):\n",
    "    # training\n",
    "    avg_loss = train_model(final_train_dataloader, final_plankton_model, optimizer, loss_function)\n",
    "\n",
    "    correct, confusion_matrix, accuracies, avg_loss_test = test_model(final_val_dataloader, final_plankton_model, loss_function, n_classes)\n",
    "    mean_accuracy = np.mean(accuracies)\n",
    "    accuracy = correct / len(y_test)\n",
    "    \n",
    "    print(\"Epoch {0}. Accuracy: {1}. Mean Accuracy: {2}. Avg Loss train: {3}. Avg Loss test: {4}\".format(e + 1, round(accuracy, 4), mean_accuracy, avg_loss, avg_loss_test))\n",
    "    test_loss_values.append(avg_loss_test)\n",
    "    train_loss_values.append(avg_loss)\n",
    "\n",
    "# final_n_detritus_model.save(final_n_detritus_model.state_dict(), './final_nodetritus_30')\n",
    "torch.save(final_plankton_model.state_dict(), './final_plankton_10')\n",
    "\n",
    "# plot accuracy graph\n",
    "plt.figure()\n",
    "plt.plot(range(1, epoch + 1), train_loss_values, label='training set loss')\n",
    "plt.plot(range(1, epoch + 1), test_loss_values, label='validation set loss')\n",
    "plt.legend()\n",
    "plt.show()\n",
    "\n",
    "f1_dataset = PlanktonDataset(X_test.values, y_test.values,\n",
    "                            img_files=img_files, label_mapping=label_mapping,\n",
    "                            transform=test_transformations)\n",
    "\n",
    "f1_dataloader = DataLoader(f1_dataset, batch_size=1, num_workers=4)\n",
    "\n",
    "print('Final F1 Score:', get_f1_score(f1_dataloader, final_plankton_model))"
   ]
  },
  {
   "cell_type": "code",
   "execution_count": 39,
   "metadata": {},
   "outputs": [
    {
     "name": "stderr",
     "output_type": "stream",
     "text": [
      "206215it [22:32, 122.37it/s]\n"
     ]
    },
    {
     "name": "stdout",
     "output_type": "stream",
     "text": [
      "Final F1 Score: (0.42451551356782097, 0.2864605240674293)\n"
     ]
    }
   ],
   "source": [
    "f1_dataset = PlanktonDataset(X_train.values, y_train.values,\n",
    "                            img_files=img_files, label_mapping=label_mapping,\n",
    "                            transform=test_transformations)\n",
    "\n",
    "f1_dataloader = DataLoader(f1_dataset, batch_size=1, num_workers=4)\n",
    "\n",
    "print('Final F1 Score:', get_f1_score(f1_dataloader, final_plankton_model))"
   ]
  },
  {
   "cell_type": "code",
   "execution_count": 35,
   "metadata": {},
   "outputs": [
    {
     "name": "stderr",
     "output_type": "stream",
     "text": [
      "36392it [03:33, 170.73it/s]\n"
     ]
    },
    {
     "name": "stdout",
     "output_type": "stream",
     "text": [
      "Final F1 Score: (0.5301607310472912, 0.32074892897228174)\n"
     ]
    }
   ],
   "source": [
    "f1_dataset = PlanktonDataset(X_train.values, y_train.values,\n",
    "                            img_files=img_files, label_mapping=label_mapping,\n",
    "                            transform=test_transformations)\n",
    "\n",
    "f1_dataloader = DataLoader(f1_dataset, batch_size=1, num_workers=4)\n",
    "\n",
    "print('Final F1 Score:', get_f1_score(f1_dataloader, final_plankton_model))"
   ]
  },
  {
   "cell_type": "markdown",
   "metadata": {},
   "source": [
    "##### References\n",
    "[1] Handcrafted vs. non-handcrafted features for computer vision classification "
   ]
  },
  {
   "cell_type": "markdown",
   "metadata": {},
   "source": [
    "## A word on final macro F1 score"
   ]
  },
  {
   "cell_type": "markdown",
   "metadata": {},
   "source": [
    "The final F1 score seem to not reflect the mitigation techniques deployed to tackle the unbalanceness of the dataset. This can be explained by observing the distribution of classes in one minibatch:"
   ]
  },
  {
   "cell_type": "code",
   "execution_count": null,
   "metadata": {},
   "outputs": [],
   "source": [
    "minibatch = next(iter(final_nodet_val_dataloader))\n",
    "minibatch['label']"
   ]
  },
  {
   "cell_type": "markdown",
   "metadata": {},
   "source": [
    "As it is possible to see, it seems that the minibatch still shows the same unbalanceness of the dataset, in spite of the use of weights (in fact the label 0, corresponding to feces, is prevalent, in the minibatch as it is in the dataset). The time remaining doesn't allow to investigate if the bug is present in the code of the library or in our own. We are confident that, if solved this bug, the general strategy towards the problem could allow to obtain a much better score. If the bug is inherent of the library, in a production environment this could be a possible workaround:\n",
    "<ul>\n",
    "    <li> the class Dataset provides 100 items per each class. The lenght of the virtual dataset is 100 * (number of classes). The method __getitem__ will return the sample i-th % (number of samples for its class). In this way the dataset will be balanced among every class, and the dataloader will provide addictional variance randomly flipping or rotating the image.</li>\n",
    "</ul>"
   ]
  },
  {
   "cell_type": "markdown",
   "metadata": {},
   "source": [
    "#### **Additional Experiments**"
   ]
  },
  {
   "cell_type": "markdown",
   "metadata": {},
   "source": [
    "Detritus model"
   ]
  },
  {
   "cell_type": "code",
   "execution_count": 70,
   "metadata": {},
   "outputs": [],
   "source": [
    "train_idx, val_idx = next(k_fold_split)\n",
    "\n",
    "# weights for weighted random sampler\n",
    "weights_df = plankton_df[plankton_df['objid'].isin(X_train.values[train_idx])] # assign weights only to samples in the training set\n",
    "weights_df['level2'] = weights_df['level2'].map(detritus_mapping)\n",
    "weights_df['count'] = weights_df.groupby('level2')['level2'].transform('count')\n",
    "weights_df['count'] = len(weights_df) / weights_df['count']\n",
    "weights = weights_df['count'].values\n",
    "weights = torch.DoubleTensor(weights)\n",
    "detritus_wrs = torch.utils.data.sampler.WeightedRandomSampler(weights, len(weights))\n",
    "\n",
    "detritus_train_dataset = PlanktonDataset(X_train.values[train_idx], y_train.values[train_idx],\n",
    "                                        img_files = img_files,\n",
    "                                        label_mapping = detritus_mapping,\n",
    "                                        transform = training_transformations,\n",
    "                                        )\n",
    "detritus_train_dataloader = DataLoader(detritus_train_dataset, batch_size=128, sampler=detritus_wrs, num_workers=4)\n",
    "\n",
    "detritus_val_dataset = PlanktonDataset(X_train.values[val_idx], y_train.values[val_idx],\n",
    "                                        img_files = img_files,\n",
    "                                        label_mapping = detritus_mapping,\n",
    "                                        transform = test_transformations,\n",
    "                                        )\n",
    "detritus_val_dataloader = DataLoader(detritus_val_dataset, batch_size=128, num_workers=4)"
   ]
  },
  {
   "cell_type": "code",
   "execution_count": null,
   "metadata": {},
   "outputs": [],
   "source": [
    "### Training of the model with weighted sampler\n",
    "\n",
    "detritus_model = DetritusModel().to(device)\n",
    "detritus_model.zero_grad()\n",
    "detritus_model.train()\n",
    "\n",
    "non_detritus_model = NonDetritusModel().to(device)\n",
    "non_detritus_model.zero_grad()\n",
    "non_detritus_model.train()\n",
    "\n",
    "loss_function = nn.NLLLoss()\n",
    "\n",
    "# Confusions matrix analysis\n",
    "n_classes = 2\n",
    "\n",
    "optimizer = torch.optim.Adam(detritus_model.parameters())\n",
    "\n",
    "test_loss_values = []\n",
    "train_loss_values = []\n",
    "\n",
    "epoch = 32\n",
    "\n",
    "for e in range(epoch):\n",
    "    # training\n",
    "    avg_loss = train_model(detritus_train_dataloader, detritus_model, optimizer, loss_function)\n",
    "\n",
    "    correct, confusion_matrix, accuracies, avg_loss_test = test_model(detritus_val_dataloader, detritus_model, loss_function, n_classes)\n",
    "    mean_accuracy = np.mean(accuracies)\n",
    "    accuracy = correct / len(y_val)\n",
    "    \n",
    "    print(\"Epoch {0}. Accuracy: {1}. Mean Accuracy: {2}. Avg Loss train: {3}. Avg Loss test: {4}\".format(e + 1, round(accuracy, 4), mean_accuracy, avg_loss, avg_loss_test))\n",
    "    test_loss_values.append(avg_loss_test)\n",
    "    train_loss_values.append(avg_loss)\n",
    "    \n",
    "    \n",
    "df = pd.DataFrame({'x': range(1, epoch + 1), 'train loss': train_loss_values, 'test loss': test_loss_values})\n",
    "for column in df.drop('x', axis=1):\n",
    "    plt.plot(df['x'], df[column], label=column)\n",
    "\n",
    "plt.show()"
   ]
  },
  {
   "cell_type": "code",
   "execution_count": 24,
   "metadata": {},
   "outputs": [
    {
     "name": "stderr",
     "output_type": "stream",
     "text": [
      "1370it [01:57, 11.67it/s]\n",
      "242it [00:09, 24.42it/s]"
     ]
    },
    {
     "name": "stdout",
     "output_type": "stream",
     "text": [
      "Epoch 1. Accuracy: 0.7984. Mean Accuracy: 79.39826817184749. Avg Loss train: 0.48603559899939236. Avg Loss test: 0.4338906593312902\n"
     ]
    },
    {
     "name": "stderr",
     "output_type": "stream",
     "text": [
      "\n",
      "1370it [01:46, 12.85it/s]\n",
      "242it [00:09, 25.96it/s]"
     ]
    },
    {
     "name": "stdout",
     "output_type": "stream",
     "text": [
      "Epoch 2. Accuracy: 0.7642. Mean Accuracy: 77.8669432752048. Avg Loss train: 0.4338131622893967. Avg Loss test: 0.4814686319552177\n"
     ]
    },
    {
     "name": "stderr",
     "output_type": "stream",
     "text": [
      "\n",
      "1370it [01:59, 11.42it/s]\n",
      "242it [00:10, 22.71it/s]"
     ]
    },
    {
     "name": "stdout",
     "output_type": "stream",
     "text": [
      "Epoch 3. Accuracy: 0.817. Mean Accuracy: 80.55275131504322. Avg Loss train: 0.4157784873986766. Avg Loss test: 0.39762244921577866\n"
     ]
    },
    {
     "name": "stderr",
     "output_type": "stream",
     "text": [
      "\n",
      "1370it [02:02, 11.15it/s]\n",
      "242it [00:09, 25.24it/s]"
     ]
    },
    {
     "name": "stdout",
     "output_type": "stream",
     "text": [
      "Epoch 4. Accuracy: 0.8099. Mean Accuracy: 80.99560254461406. Avg Loss train: 0.40376191395912725. Avg Loss test: 0.4133574761881316\n"
     ]
    },
    {
     "name": "stderr",
     "output_type": "stream",
     "text": [
      "\n",
      "1370it [01:45, 12.93it/s]\n",
      "242it [00:09, 25.33it/s]"
     ]
    },
    {
     "name": "stdout",
     "output_type": "stream",
     "text": [
      "Epoch 5. Accuracy: 0.8234. Mean Accuracy: 81.75287310112547. Avg Loss train: 0.3989112958638337. Avg Loss test: 0.38840241865678266\n"
     ]
    },
    {
     "name": "stderr",
     "output_type": "stream",
     "text": [
      "\n",
      "1370it [01:56, 11.75it/s]\n",
      "242it [00:09, 24.28it/s]"
     ]
    },
    {
     "name": "stdout",
     "output_type": "stream",
     "text": [
      "Epoch 6. Accuracy: 0.8207. Mean Accuracy: 82.16815017973296. Avg Loss train: 0.38868903027181206. Avg Loss test: 0.3950972101412529\n"
     ]
    },
    {
     "name": "stderr",
     "output_type": "stream",
     "text": [
      "\n",
      "1370it [02:04, 12.96it/s]\n",
      "242it [00:10, 23.05it/s]"
     ]
    },
    {
     "name": "stdout",
     "output_type": "stream",
     "text": [
      "Epoch 7. Accuracy: 0.8244. Mean Accuracy: 81.48198399370976. Avg Loss train: 0.3870968387074714. Avg Loss test: 0.38437305507827396\n"
     ]
    },
    {
     "name": "stderr",
     "output_type": "stream",
     "text": [
      "\n",
      "1370it [02:17,  9.94it/s]\n",
      "242it [00:10, 22.31it/s]\n"
     ]
    },
    {
     "name": "stdout",
     "output_type": "stream",
     "text": [
      "Epoch 8. Accuracy: 0.8316. Mean Accuracy: 82.81438428607893. Avg Loss train: 0.3812005673881865. Avg Loss test: 0.3704652865686692\n"
     ]
    },
    {
     "data": {
      "image/png": "[encoded data removed]",
      "text/plain": [
       "<Figure size 432x288 with 1 Axes>"
      ]
     },
     "metadata": {
      "needs_background": "light"
     },
     "output_type": "display_data"
    }
   ],
   "source": [
    "### Training of the model with weighted sampler\n",
    "\n",
    "detritus_model = DetritusModel(injection_dim=3)\n",
    "\n",
    "detritus_model = detritus_model.to(device)\n",
    "\n",
    "loss_function = nn.NLLLoss()\n",
    "\n",
    "# Confusions matrix analysis\n",
    "n_classes = 2\n",
    "confusion_matrix = np.zeros((n_classes, n_classes))\n",
    "\n",
    "detritus_model.zero_grad()\n",
    "\n",
    "detritus_model.train()\n",
    "\n",
    "# optimizer = optim.SGD(model.parameters(), lr=0.001, momentum=0.9)\n",
    "optimizer = torch.optim.Adam(detritus_model.parameters())\n",
    "\n",
    "test_loss_values = []\n",
    "train_loss_values = []\n",
    "\n",
    "epoch = 8\n",
    "\n",
    "for e in range(epoch):\n",
    "    #training\n",
    "    trainer_iterator = iter(detritus_train_dataloader)\n",
    "    tot_loss = 0\n",
    "    for i, sample in tqdm(enumerate(trainer_iterator)):\n",
    "        image = sample['image'].to(device)\n",
    "        inj_features = sample['inj_features'].to(device)\n",
    "        target = sample['label'].to(device)\n",
    "        optimizer.zero_grad()\n",
    "        output = detritus_model(image, inj_features)\n",
    "        loss = loss_function(output, target)\n",
    "        loss.backward()\n",
    "        optimizer.step()\n",
    "        tot_loss += loss.data.item()\n",
    "    avg_loss = tot_loss / (i + 1)\n",
    "\n",
    "    confusion_matrix = np.zeros((n_classes, n_classes))\n",
    "    # Testing\n",
    "    with torch.no_grad():\n",
    "        tot_loss_test = 0\n",
    "        correct = 0\n",
    "        tester_iterator = iter(detritus_val_dataloader)\n",
    "        for i, sample in tqdm(enumerate(tester_iterator)):\n",
    "            image = sample['image'].to(device)\n",
    "            inj_features = sample['inj_features'].to(device)\n",
    "            target = sample['label'].to(device)\n",
    "            output = detritus_model(image, inj_features)\n",
    "            loss = loss_function(output, target)\n",
    "            tot_loss_test += loss.data.item()\n",
    "            pred = output.max(1, keepdim=True)[1]\n",
    "            update_confusion_matrix(confusion_matrix, output, target, n_classes=n_classes)\n",
    "            correct += pred.eq(target.view_as(pred)).sum().item()\n",
    "        avg_loss_test = tot_loss_test / (i + 1)\n",
    "        # per class accuracies\n",
    "        accuracies = build_per_class_accuracies(confusion_matrix)\n",
    "        mean_accuracy = np.mean(accuracies)\n",
    "        accuracy = correct / len(y_val)\n",
    "        print(\"Epoch {0}. Accuracy: {1}. Mean Accuracy: {2}. Avg Loss train: {3}. Avg Loss test: {4}\".format(e + 1, round(accuracy, 4), mean_accuracy, avg_loss, avg_loss_test))\n",
    "    #adding avg loss\n",
    "    test_loss_values.append(avg_loss_test)\n",
    "    train_loss_values.append(avg_loss)\n",
    "    \n",
    "\n",
    "    \n",
    "df = pd.DataFrame({'x': range(1, epoch + 1), 'train loss': train_loss_values, 'test loss': test_loss_values})\n",
    "for column in df.drop('x', axis=1):\n",
    "    plt.plot(df['x'], df[column], label=column)\n",
    "    \n",
    "# torch.save(detritus_model.state_dict(), './detritus_model_8')\n",
    "\n",
    "plt.show()"
   ]
  },
  {
   "cell_type": "code",
   "execution_count": 55,
   "metadata": {},
   "outputs": [
    {
     "data": {
      "image/png": "[encoded data removed]",
      "text/plain": [
       "<Figure size 432x288 with 2 Axes>"
      ]
     },
     "metadata": {
      "needs_background": "light"
     },
     "output_type": "display_data"
    }
   ],
   "source": [
    "# Analyzing the last confusion matrix\n",
    "\n",
    "confusion_matrix = confusion_matrix.astype(float)\n",
    "\n",
    "ncm = confusion_matrix / confusion_matrix.sum(axis=1, keepdims=True)\n",
    "\n",
    "# setting an appropriate color palette\n",
    "cmap = sns.cubehelix_palette(light=1.2, as_cmap=True)\n",
    "g = sns.heatmap(ncm, cmap=cmap, annot=True)"
   ]
  },
  {
   "cell_type": "code",
   "execution_count": 40,
   "metadata": {},
   "outputs": [
    {
     "name": "stderr",
     "output_type": "stream",
     "text": [
      "1370it [02:07, 10.73it/s]\n",
      "242it [00:10, 22.87it/s]"
     ]
    },
    {
     "name": "stdout",
     "output_type": "stream",
     "text": [
      "Epoch 33. Accuracy: 0.849. Mean Accuracy: 84.53125832966921. Avg Loss train: 0.33224207291202823. Avg Loss test: 0.33272551012433266\n"
     ]
    },
    {
     "name": "stderr",
     "output_type": "stream",
     "text": [
      "\n",
      "1370it [02:20,  9.76it/s]\n",
      "242it [00:10, 24.13it/s]"
     ]
    },
    {
     "name": "stdout",
     "output_type": "stream",
     "text": [
      "Epoch 34. Accuracy: 0.8473. Mean Accuracy: 84.35410320726811. Avg Loss train: 0.3312803233191915. Avg Loss test: 0.33402580681664884\n"
     ]
    },
    {
     "name": "stderr",
     "output_type": "stream",
     "text": [
      "\n",
      "1370it [02:19,  9.82it/s]\n",
      "242it [00:10, 24.07it/s]"
     ]
    },
    {
     "name": "stdout",
     "output_type": "stream",
     "text": [
      "Epoch 35. Accuracy: 0.8488. Mean Accuracy: 84.49741521286617. Avg Loss train: 0.33307590852253627. Avg Loss test: 0.3300815507276984\n"
     ]
    },
    {
     "name": "stderr",
     "output_type": "stream",
     "text": [
      "\n",
      "1370it [02:17,  9.93it/s]\n",
      "242it [00:10, 22.53it/s]"
     ]
    },
    {
     "name": "stdout",
     "output_type": "stream",
     "text": [
      "Epoch 36. Accuracy: 0.8513. Mean Accuracy: 84.67833610820844. Avg Loss train: 0.3311214269186458. Avg Loss test: 0.3287126949010802\n"
     ]
    },
    {
     "name": "stderr",
     "output_type": "stream",
     "text": [
      "\n",
      "1370it [02:17,  9.99it/s]\n",
      "242it [00:10, 23.67it/s]"
     ]
    },
    {
     "name": "stdout",
     "output_type": "stream",
     "text": [
      "Epoch 37. Accuracy: 0.8488. Mean Accuracy: 84.53379244724789. Avg Loss train: 0.33105305039534605. Avg Loss test: 0.3319382025929522\n"
     ]
    },
    {
     "name": "stderr",
     "output_type": "stream",
     "text": [
      "\n",
      "1370it [02:17, 10.00it/s]\n",
      "242it [00:10, 22.40it/s]"
     ]
    },
    {
     "name": "stdout",
     "output_type": "stream",
     "text": [
      "Epoch 38. Accuracy: 0.8493. Mean Accuracy: 84.56882861688169. Avg Loss train: 0.3293251518676751. Avg Loss test: 0.332918836989186\n"
     ]
    },
    {
     "name": "stderr",
     "output_type": "stream",
     "text": [
      "\n",
      "242it [00:09, 26.80it/s]"
     ]
    },
    {
     "name": "stdout",
     "output_type": "stream",
     "text": [
      "Epoch 39. Accuracy: 0.8497. Mean Accuracy: 84.74545993918409. Avg Loss train: 0.3301912523425409. Avg Loss test: 0.33356714956770256\n"
     ]
    },
    {
     "name": "stderr",
     "output_type": "stream",
     "text": [
      "\n",
      "1370it [02:10, 10.53it/s]\n",
      "242it [00:09, 24.30it/s]\n"
     ]
    },
    {
     "name": "stdout",
     "output_type": "stream",
     "text": [
      "Epoch 40. Accuracy: 0.85. Mean Accuracy: 84.45597102296905. Avg Loss train: 0.3281226141500647. Avg Loss test: 0.32963784328423257\n"
     ]
    },
    {
     "data": {
      "image/png": "[encoded data removed]",
      "text/plain": [
       "<Figure size 432x288 with 1 Axes>"
      ]
     },
     "metadata": {
      "needs_background": "light"
     },
     "output_type": "display_data"
    }
   ],
   "source": [
    "### Training of the model with weighted sampler\n",
    "\n",
    "n_classes = 2\n",
    "confusion_matrix = np.zeros((n_classes, n_classes))\n",
    "\n",
    "\n",
    "optimizer = torch.optim.Adam(detritus_model.parameters(), lr=1e-4)\n",
    "\n",
    "add_epoch = 8\n",
    "\n",
    "for e in range(add_epoch):\n",
    "    #training\n",
    "    trainer_iterator = iter(detritus_train_dataloader)\n",
    "    tot_loss = 0\n",
    "    for i, sample in tqdm(enumerate(trainer_iterator)):\n",
    "        image = sample['image'].to(device)\n",
    "        inj_features = sample['inj_features'].to(device)\n",
    "        target = sample['label'].to(device)\n",
    "        optimizer.zero_grad()\n",
    "        output = detritus_model(image, inj_features)\n",
    "        loss = loss_function(output, target)\n",
    "        loss.backward()\n",
    "        optimizer.step()\n",
    "        tot_loss += loss.data.item()\n",
    "    avg_loss = tot_loss / (i + 1)\n",
    "\n",
    "    confusion_matrix = np.zeros((n_classes, n_classes))\n",
    "    # Testing\n",
    "    with torch.no_grad():\n",
    "        tot_loss_test = 0\n",
    "        correct = 0\n",
    "        tester_iterator = iter(detritus_val_dataloader)\n",
    "        for i, sample in tqdm(enumerate(tester_iterator)):\n",
    "            image = sample['image'].to(device)\n",
    "            inj_features = sample['inj_features'].to(device)\n",
    "            target = sample['label'].to(device)\n",
    "            output = detritus_model(image, inj_features)\n",
    "            loss = loss_function(output, target)\n",
    "            tot_loss_test += loss.data.item()\n",
    "            pred = output.max(1, keepdim=True)[1]\n",
    "            update_confusion_matrix(confusion_matrix, output, target, n_classes=n_classes)\n",
    "            correct += pred.eq(target.view_as(pred)).sum().item()\n",
    "        avg_loss_test = tot_loss_test / (i + 1)\n",
    "        # per class accuracies\n",
    "        accuracies = build_per_class_accuracies(confusion_matrix)\n",
    "        mean_accuracy = np.mean(accuracies)\n",
    "        accuracy = correct / len(y_val)\n",
    "        print(\"Epoch {0}. Accuracy: {1}. Mean Accuracy: {2}. Avg Loss train: {3}. Avg Loss test: {4}\".format(epoch + e + 1, round(accuracy, 4), mean_accuracy, avg_loss, avg_loss_test))\n",
    "    #adding avg loss\n",
    "    test_loss_values.append(avg_loss_test)\n",
    "    train_loss_values.append(avg_loss)\n",
    "    \n",
    "epoch += add_epoch\n",
    "    \n",
    "    \n",
    "df = pd.DataFrame({'x': range(1, epoch + 1), 'train': train_loss_values, 'test': test_loss_values})\n",
    "for column in df.drop('x', axis=1):\n",
    "    plt.plot(df['x'], df[column], label=column)\n",
    "\n",
    "plt.show()"
   ]
  },
  {
   "cell_type": "code",
   "execution_count": null,
   "metadata": {},
   "outputs": [],
   "source": [
    "# Analyzing the last confusion matrix\n",
    "confusion_matrix = np.array([[14937., 2714.], [ 2191., 11091.]])\n",
    "\n",
    "# confusion_matrix = confusion_matrix.astype(float)\n",
    "\n",
    "ncm = confusion_matrix / confusion_matrix.sum(axis=1, keepdims=True)\n",
    "\n",
    "# setting an appropriate color palette\n",
    "cmap = sns.cubehelix_palette(light=1.2, as_cmap=True)\n",
    "g = sns.heatmap(ncm, cmap=cmap, annot=True)"
   ]
  }
 ],
 "metadata": {
  "kernelspec": {
   "display_name": "Python 3",
   "language": "python",
   "name": "python3"
  },
  "language_info": {
   "codemirror_mode": {
    "name": "ipython",
    "version": 3
   },
   "file_extension": ".py",
   "mimetype": "text/x-python",
   "name": "python",
   "nbconvert_exporter": "python",
   "pygments_lexer": "ipython3",
   "version": "3.5.2"
  }
 },
 "nbformat": 4,
 "nbformat_minor": 2
}
